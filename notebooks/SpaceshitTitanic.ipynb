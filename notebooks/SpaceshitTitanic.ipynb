{
 "cells": [
  {
   "cell_type": "code",
   "execution_count": 1,
   "id": "e7717d05",
   "metadata": {
    "_cell_guid": "b1076dfc-b9ad-4769-8c92-a6c4dae69d19",
    "_uuid": "8f2839f25d086af736a60e9eeb907d3b93b6e0e5",
    "execution": {
     "iopub.execute_input": "2024-07-29T16:23:08.205645Z",
     "iopub.status.busy": "2024-07-29T16:23:08.205204Z",
     "iopub.status.idle": "2024-07-29T16:23:10.468096Z",
     "shell.execute_reply": "2024-07-29T16:23:10.466622Z"
    },
    "papermill": {
     "duration": 2.280669,
     "end_time": "2024-07-29T16:23:10.471070",
     "exception": false,
     "start_time": "2024-07-29T16:23:08.190401",
     "status": "completed"
    },
    "tags": []
   },
   "outputs": [
    {
     "name": "stdout",
     "output_type": "stream",
     "text": [
      "/kaggle/input/spaceship-titanic/sample_submission.csv\n",
      "/kaggle/input/spaceship-titanic/train.csv\n",
      "/kaggle/input/spaceship-titanic/test.csv\n"
     ]
    }
   ],
   "source": [
    "# This Python 3 environment comes with many helpful analytics libraries installed\n",
    "# It is defined by the kaggle/python Docker image: https://github.com/kaggle/docker-python\n",
    "# For example, here's several helpful packages to load\n",
    "\n",
    "import numpy as np # linear algebra\n",
    "import pandas as pd # data processing, CSV file I/O (e.g. pd.read_csv)\n",
    "import seaborn as sns\n",
    "import matplotlib.pyplot as plt\n",
    "# Input data files are available in the read-only \"../input/\" directory\n",
    "# For example, running this (by clicking run or pressing Shift+Enter) will list all files under the input directory\n",
    "\n",
    "import os\n",
    "for dirname, _, filenames in os.walk('/kaggle/input'):\n",
    "    for filename in filenames:\n",
    "        print(os.path.join(dirname, filename))\n",
    "\n",
    "# You can write up to 20GB to the current directory (/kaggle/working/) that gets preserved as output when you create a version using \"Save & Run All\" \n",
    "# You can also write temporary files to /kaggle/temp/, but they won't be saved outside of the current session"
   ]
  },
  {
   "cell_type": "code",
   "execution_count": 2,
   "id": "916f1076",
   "metadata": {
    "execution": {
     "iopub.execute_input": "2024-07-29T16:23:10.499327Z",
     "iopub.status.busy": "2024-07-29T16:23:10.498787Z",
     "iopub.status.idle": "2024-07-29T16:23:10.586499Z",
     "shell.execute_reply": "2024-07-29T16:23:10.585349Z"
    },
    "papermill": {
     "duration": 0.105006,
     "end_time": "2024-07-29T16:23:10.589195",
     "exception": false,
     "start_time": "2024-07-29T16:23:10.484189",
     "status": "completed"
    },
    "tags": []
   },
   "outputs": [],
   "source": [
    "train = pd.read_csv('/kaggle/input/spaceship-titanic/train.csv')\n",
    "test = pd.read_csv('/kaggle/input/spaceship-titanic/test.csv')"
   ]
  },
  {
   "cell_type": "code",
   "execution_count": 3,
   "id": "2c21d3d2",
   "metadata": {
    "execution": {
     "iopub.execute_input": "2024-07-29T16:23:10.617066Z",
     "iopub.status.busy": "2024-07-29T16:23:10.616658Z",
     "iopub.status.idle": "2024-07-29T16:23:10.652714Z",
     "shell.execute_reply": "2024-07-29T16:23:10.651515Z"
    },
    "papermill": {
     "duration": 0.052718,
     "end_time": "2024-07-29T16:23:10.654998",
     "exception": false,
     "start_time": "2024-07-29T16:23:10.602280",
     "status": "completed"
    },
    "tags": []
   },
   "outputs": [
    {
     "data": {
      "text/html": [
       "<div>\n",
       "<style scoped>\n",
       "    .dataframe tbody tr th:only-of-type {\n",
       "        vertical-align: middle;\n",
       "    }\n",
       "\n",
       "    .dataframe tbody tr th {\n",
       "        vertical-align: top;\n",
       "    }\n",
       "\n",
       "    .dataframe thead th {\n",
       "        text-align: right;\n",
       "    }\n",
       "</style>\n",
       "<table border=\"1\" class=\"dataframe\">\n",
       "  <thead>\n",
       "    <tr style=\"text-align: right;\">\n",
       "      <th></th>\n",
       "      <th>PassengerId</th>\n",
       "      <th>Transported</th>\n",
       "    </tr>\n",
       "  </thead>\n",
       "  <tbody>\n",
       "    <tr>\n",
       "      <th>0</th>\n",
       "      <td>0013_01</td>\n",
       "      <td>False</td>\n",
       "    </tr>\n",
       "    <tr>\n",
       "      <th>1</th>\n",
       "      <td>0018_01</td>\n",
       "      <td>False</td>\n",
       "    </tr>\n",
       "    <tr>\n",
       "      <th>2</th>\n",
       "      <td>0019_01</td>\n",
       "      <td>False</td>\n",
       "    </tr>\n",
       "    <tr>\n",
       "      <th>3</th>\n",
       "      <td>0021_01</td>\n",
       "      <td>False</td>\n",
       "    </tr>\n",
       "    <tr>\n",
       "      <th>4</th>\n",
       "      <td>0023_01</td>\n",
       "      <td>False</td>\n",
       "    </tr>\n",
       "    <tr>\n",
       "      <th>...</th>\n",
       "      <td>...</td>\n",
       "      <td>...</td>\n",
       "    </tr>\n",
       "    <tr>\n",
       "      <th>4272</th>\n",
       "      <td>9266_02</td>\n",
       "      <td>False</td>\n",
       "    </tr>\n",
       "    <tr>\n",
       "      <th>4273</th>\n",
       "      <td>9269_01</td>\n",
       "      <td>False</td>\n",
       "    </tr>\n",
       "    <tr>\n",
       "      <th>4274</th>\n",
       "      <td>9271_01</td>\n",
       "      <td>False</td>\n",
       "    </tr>\n",
       "    <tr>\n",
       "      <th>4275</th>\n",
       "      <td>9273_01</td>\n",
       "      <td>False</td>\n",
       "    </tr>\n",
       "    <tr>\n",
       "      <th>4276</th>\n",
       "      <td>9277_01</td>\n",
       "      <td>False</td>\n",
       "    </tr>\n",
       "  </tbody>\n",
       "</table>\n",
       "<p>4277 rows × 2 columns</p>\n",
       "</div>"
      ],
      "text/plain": [
       "     PassengerId  Transported\n",
       "0        0013_01        False\n",
       "1        0018_01        False\n",
       "2        0019_01        False\n",
       "3        0021_01        False\n",
       "4        0023_01        False\n",
       "...          ...          ...\n",
       "4272     9266_02        False\n",
       "4273     9269_01        False\n",
       "4274     9271_01        False\n",
       "4275     9273_01        False\n",
       "4276     9277_01        False\n",
       "\n",
       "[4277 rows x 2 columns]"
      ]
     },
     "execution_count": 3,
     "metadata": {},
     "output_type": "execute_result"
    }
   ],
   "source": [
    "sub = pd.read_csv('/kaggle/input/spaceship-titanic/sample_submission.csv')\n",
    "sub"
   ]
  },
  {
   "cell_type": "code",
   "execution_count": 4,
   "id": "dd512c0c",
   "metadata": {
    "execution": {
     "iopub.execute_input": "2024-07-29T16:23:10.684419Z",
     "iopub.status.busy": "2024-07-29T16:23:10.683380Z",
     "iopub.status.idle": "2024-07-29T16:23:10.705078Z",
     "shell.execute_reply": "2024-07-29T16:23:10.703905Z"
    },
    "papermill": {
     "duration": 0.039196,
     "end_time": "2024-07-29T16:23:10.707415",
     "exception": false,
     "start_time": "2024-07-29T16:23:10.668219",
     "status": "completed"
    },
    "tags": []
   },
   "outputs": [
    {
     "data": {
      "text/html": [
       "<div>\n",
       "<style scoped>\n",
       "    .dataframe tbody tr th:only-of-type {\n",
       "        vertical-align: middle;\n",
       "    }\n",
       "\n",
       "    .dataframe tbody tr th {\n",
       "        vertical-align: top;\n",
       "    }\n",
       "\n",
       "    .dataframe thead th {\n",
       "        text-align: right;\n",
       "    }\n",
       "</style>\n",
       "<table border=\"1\" class=\"dataframe\">\n",
       "  <thead>\n",
       "    <tr style=\"text-align: right;\">\n",
       "      <th></th>\n",
       "      <th>PassengerId</th>\n",
       "      <th>HomePlanet</th>\n",
       "      <th>CryoSleep</th>\n",
       "      <th>Cabin</th>\n",
       "      <th>Destination</th>\n",
       "      <th>Age</th>\n",
       "      <th>VIP</th>\n",
       "      <th>RoomService</th>\n",
       "      <th>FoodCourt</th>\n",
       "      <th>ShoppingMall</th>\n",
       "      <th>Spa</th>\n",
       "      <th>VRDeck</th>\n",
       "      <th>Name</th>\n",
       "      <th>Transported</th>\n",
       "    </tr>\n",
       "  </thead>\n",
       "  <tbody>\n",
       "    <tr>\n",
       "      <th>0</th>\n",
       "      <td>0001_01</td>\n",
       "      <td>Europa</td>\n",
       "      <td>False</td>\n",
       "      <td>B/0/P</td>\n",
       "      <td>TRAPPIST-1e</td>\n",
       "      <td>39.0</td>\n",
       "      <td>False</td>\n",
       "      <td>0.0</td>\n",
       "      <td>0.0</td>\n",
       "      <td>0.0</td>\n",
       "      <td>0.0</td>\n",
       "      <td>0.0</td>\n",
       "      <td>Maham Ofracculy</td>\n",
       "      <td>False</td>\n",
       "    </tr>\n",
       "    <tr>\n",
       "      <th>1</th>\n",
       "      <td>0002_01</td>\n",
       "      <td>Earth</td>\n",
       "      <td>False</td>\n",
       "      <td>F/0/S</td>\n",
       "      <td>TRAPPIST-1e</td>\n",
       "      <td>24.0</td>\n",
       "      <td>False</td>\n",
       "      <td>109.0</td>\n",
       "      <td>9.0</td>\n",
       "      <td>25.0</td>\n",
       "      <td>549.0</td>\n",
       "      <td>44.0</td>\n",
       "      <td>Juanna Vines</td>\n",
       "      <td>True</td>\n",
       "    </tr>\n",
       "    <tr>\n",
       "      <th>2</th>\n",
       "      <td>0003_01</td>\n",
       "      <td>Europa</td>\n",
       "      <td>False</td>\n",
       "      <td>A/0/S</td>\n",
       "      <td>TRAPPIST-1e</td>\n",
       "      <td>58.0</td>\n",
       "      <td>True</td>\n",
       "      <td>43.0</td>\n",
       "      <td>3576.0</td>\n",
       "      <td>0.0</td>\n",
       "      <td>6715.0</td>\n",
       "      <td>49.0</td>\n",
       "      <td>Altark Susent</td>\n",
       "      <td>False</td>\n",
       "    </tr>\n",
       "    <tr>\n",
       "      <th>3</th>\n",
       "      <td>0003_02</td>\n",
       "      <td>Europa</td>\n",
       "      <td>False</td>\n",
       "      <td>A/0/S</td>\n",
       "      <td>TRAPPIST-1e</td>\n",
       "      <td>33.0</td>\n",
       "      <td>False</td>\n",
       "      <td>0.0</td>\n",
       "      <td>1283.0</td>\n",
       "      <td>371.0</td>\n",
       "      <td>3329.0</td>\n",
       "      <td>193.0</td>\n",
       "      <td>Solam Susent</td>\n",
       "      <td>False</td>\n",
       "    </tr>\n",
       "    <tr>\n",
       "      <th>4</th>\n",
       "      <td>0004_01</td>\n",
       "      <td>Earth</td>\n",
       "      <td>False</td>\n",
       "      <td>F/1/S</td>\n",
       "      <td>TRAPPIST-1e</td>\n",
       "      <td>16.0</td>\n",
       "      <td>False</td>\n",
       "      <td>303.0</td>\n",
       "      <td>70.0</td>\n",
       "      <td>151.0</td>\n",
       "      <td>565.0</td>\n",
       "      <td>2.0</td>\n",
       "      <td>Willy Santantines</td>\n",
       "      <td>True</td>\n",
       "    </tr>\n",
       "  </tbody>\n",
       "</table>\n",
       "</div>"
      ],
      "text/plain": [
       "  PassengerId HomePlanet CryoSleep  Cabin  Destination   Age    VIP  \\\n",
       "0     0001_01     Europa     False  B/0/P  TRAPPIST-1e  39.0  False   \n",
       "1     0002_01      Earth     False  F/0/S  TRAPPIST-1e  24.0  False   \n",
       "2     0003_01     Europa     False  A/0/S  TRAPPIST-1e  58.0   True   \n",
       "3     0003_02     Europa     False  A/0/S  TRAPPIST-1e  33.0  False   \n",
       "4     0004_01      Earth     False  F/1/S  TRAPPIST-1e  16.0  False   \n",
       "\n",
       "   RoomService  FoodCourt  ShoppingMall     Spa  VRDeck               Name  \\\n",
       "0          0.0        0.0           0.0     0.0     0.0    Maham Ofracculy   \n",
       "1        109.0        9.0          25.0   549.0    44.0       Juanna Vines   \n",
       "2         43.0     3576.0           0.0  6715.0    49.0      Altark Susent   \n",
       "3          0.0     1283.0         371.0  3329.0   193.0       Solam Susent   \n",
       "4        303.0       70.0         151.0   565.0     2.0  Willy Santantines   \n",
       "\n",
       "   Transported  \n",
       "0        False  \n",
       "1         True  \n",
       "2        False  \n",
       "3        False  \n",
       "4         True  "
      ]
     },
     "execution_count": 4,
     "metadata": {},
     "output_type": "execute_result"
    }
   ],
   "source": [
    "train.head()"
   ]
  },
  {
   "cell_type": "code",
   "execution_count": 5,
   "id": "e6d7933c",
   "metadata": {
    "execution": {
     "iopub.execute_input": "2024-07-29T16:23:10.736292Z",
     "iopub.status.busy": "2024-07-29T16:23:10.735050Z",
     "iopub.status.idle": "2024-07-29T16:23:10.754881Z",
     "shell.execute_reply": "2024-07-29T16:23:10.753584Z"
    },
    "papermill": {
     "duration": 0.036635,
     "end_time": "2024-07-29T16:23:10.757275",
     "exception": false,
     "start_time": "2024-07-29T16:23:10.720640",
     "status": "completed"
    },
    "tags": []
   },
   "outputs": [
    {
     "data": {
      "text/html": [
       "<div>\n",
       "<style scoped>\n",
       "    .dataframe tbody tr th:only-of-type {\n",
       "        vertical-align: middle;\n",
       "    }\n",
       "\n",
       "    .dataframe tbody tr th {\n",
       "        vertical-align: top;\n",
       "    }\n",
       "\n",
       "    .dataframe thead th {\n",
       "        text-align: right;\n",
       "    }\n",
       "</style>\n",
       "<table border=\"1\" class=\"dataframe\">\n",
       "  <thead>\n",
       "    <tr style=\"text-align: right;\">\n",
       "      <th></th>\n",
       "      <th>PassengerId</th>\n",
       "      <th>HomePlanet</th>\n",
       "      <th>CryoSleep</th>\n",
       "      <th>Cabin</th>\n",
       "      <th>Destination</th>\n",
       "      <th>Age</th>\n",
       "      <th>VIP</th>\n",
       "      <th>RoomService</th>\n",
       "      <th>FoodCourt</th>\n",
       "      <th>ShoppingMall</th>\n",
       "      <th>Spa</th>\n",
       "      <th>VRDeck</th>\n",
       "      <th>Name</th>\n",
       "    </tr>\n",
       "  </thead>\n",
       "  <tbody>\n",
       "    <tr>\n",
       "      <th>0</th>\n",
       "      <td>0013_01</td>\n",
       "      <td>Earth</td>\n",
       "      <td>True</td>\n",
       "      <td>G/3/S</td>\n",
       "      <td>TRAPPIST-1e</td>\n",
       "      <td>27.0</td>\n",
       "      <td>False</td>\n",
       "      <td>0.0</td>\n",
       "      <td>0.0</td>\n",
       "      <td>0.0</td>\n",
       "      <td>0.0</td>\n",
       "      <td>0.0</td>\n",
       "      <td>Nelly Carsoning</td>\n",
       "    </tr>\n",
       "    <tr>\n",
       "      <th>1</th>\n",
       "      <td>0018_01</td>\n",
       "      <td>Earth</td>\n",
       "      <td>False</td>\n",
       "      <td>F/4/S</td>\n",
       "      <td>TRAPPIST-1e</td>\n",
       "      <td>19.0</td>\n",
       "      <td>False</td>\n",
       "      <td>0.0</td>\n",
       "      <td>9.0</td>\n",
       "      <td>0.0</td>\n",
       "      <td>2823.0</td>\n",
       "      <td>0.0</td>\n",
       "      <td>Lerome Peckers</td>\n",
       "    </tr>\n",
       "    <tr>\n",
       "      <th>2</th>\n",
       "      <td>0019_01</td>\n",
       "      <td>Europa</td>\n",
       "      <td>True</td>\n",
       "      <td>C/0/S</td>\n",
       "      <td>55 Cancri e</td>\n",
       "      <td>31.0</td>\n",
       "      <td>False</td>\n",
       "      <td>0.0</td>\n",
       "      <td>0.0</td>\n",
       "      <td>0.0</td>\n",
       "      <td>0.0</td>\n",
       "      <td>0.0</td>\n",
       "      <td>Sabih Unhearfus</td>\n",
       "    </tr>\n",
       "    <tr>\n",
       "      <th>3</th>\n",
       "      <td>0021_01</td>\n",
       "      <td>Europa</td>\n",
       "      <td>False</td>\n",
       "      <td>C/1/S</td>\n",
       "      <td>TRAPPIST-1e</td>\n",
       "      <td>38.0</td>\n",
       "      <td>False</td>\n",
       "      <td>0.0</td>\n",
       "      <td>6652.0</td>\n",
       "      <td>0.0</td>\n",
       "      <td>181.0</td>\n",
       "      <td>585.0</td>\n",
       "      <td>Meratz Caltilter</td>\n",
       "    </tr>\n",
       "    <tr>\n",
       "      <th>4</th>\n",
       "      <td>0023_01</td>\n",
       "      <td>Earth</td>\n",
       "      <td>False</td>\n",
       "      <td>F/5/S</td>\n",
       "      <td>TRAPPIST-1e</td>\n",
       "      <td>20.0</td>\n",
       "      <td>False</td>\n",
       "      <td>10.0</td>\n",
       "      <td>0.0</td>\n",
       "      <td>635.0</td>\n",
       "      <td>0.0</td>\n",
       "      <td>0.0</td>\n",
       "      <td>Brence Harperez</td>\n",
       "    </tr>\n",
       "  </tbody>\n",
       "</table>\n",
       "</div>"
      ],
      "text/plain": [
       "  PassengerId HomePlanet CryoSleep  Cabin  Destination   Age    VIP  \\\n",
       "0     0013_01      Earth      True  G/3/S  TRAPPIST-1e  27.0  False   \n",
       "1     0018_01      Earth     False  F/4/S  TRAPPIST-1e  19.0  False   \n",
       "2     0019_01     Europa      True  C/0/S  55 Cancri e  31.0  False   \n",
       "3     0021_01     Europa     False  C/1/S  TRAPPIST-1e  38.0  False   \n",
       "4     0023_01      Earth     False  F/5/S  TRAPPIST-1e  20.0  False   \n",
       "\n",
       "   RoomService  FoodCourt  ShoppingMall     Spa  VRDeck              Name  \n",
       "0          0.0        0.0           0.0     0.0     0.0   Nelly Carsoning  \n",
       "1          0.0        9.0           0.0  2823.0     0.0    Lerome Peckers  \n",
       "2          0.0        0.0           0.0     0.0     0.0   Sabih Unhearfus  \n",
       "3          0.0     6652.0           0.0   181.0   585.0  Meratz Caltilter  \n",
       "4         10.0        0.0         635.0     0.0     0.0   Brence Harperez  "
      ]
     },
     "execution_count": 5,
     "metadata": {},
     "output_type": "execute_result"
    }
   ],
   "source": [
    "test.head()"
   ]
  },
  {
   "cell_type": "code",
   "execution_count": 6,
   "id": "38ca800c",
   "metadata": {
    "execution": {
     "iopub.execute_input": "2024-07-29T16:23:10.786606Z",
     "iopub.status.busy": "2024-07-29T16:23:10.786234Z",
     "iopub.status.idle": "2024-07-29T16:23:10.812985Z",
     "shell.execute_reply": "2024-07-29T16:23:10.811397Z"
    },
    "papermill": {
     "duration": 0.045009,
     "end_time": "2024-07-29T16:23:10.815828",
     "exception": false,
     "start_time": "2024-07-29T16:23:10.770819",
     "status": "completed"
    },
    "tags": []
   },
   "outputs": [
    {
     "name": "stdout",
     "output_type": "stream",
     "text": [
      "<class 'pandas.core.frame.DataFrame'>\n",
      "RangeIndex: 8693 entries, 0 to 8692\n",
      "Data columns (total 14 columns):\n",
      " #   Column        Non-Null Count  Dtype  \n",
      "---  ------        --------------  -----  \n",
      " 0   PassengerId   8693 non-null   object \n",
      " 1   HomePlanet    8492 non-null   object \n",
      " 2   CryoSleep     8476 non-null   object \n",
      " 3   Cabin         8494 non-null   object \n",
      " 4   Destination   8511 non-null   object \n",
      " 5   Age           8514 non-null   float64\n",
      " 6   VIP           8490 non-null   object \n",
      " 7   RoomService   8512 non-null   float64\n",
      " 8   FoodCourt     8510 non-null   float64\n",
      " 9   ShoppingMall  8485 non-null   float64\n",
      " 10  Spa           8510 non-null   float64\n",
      " 11  VRDeck        8505 non-null   float64\n",
      " 12  Name          8493 non-null   object \n",
      " 13  Transported   8693 non-null   bool   \n",
      "dtypes: bool(1), float64(6), object(7)\n",
      "memory usage: 891.5+ KB\n"
     ]
    }
   ],
   "source": [
    "train.info()"
   ]
  },
  {
   "cell_type": "code",
   "execution_count": 7,
   "id": "1ca85d5b",
   "metadata": {
    "execution": {
     "iopub.execute_input": "2024-07-29T16:23:10.846290Z",
     "iopub.status.busy": "2024-07-29T16:23:10.845119Z",
     "iopub.status.idle": "2024-07-29T16:23:10.876164Z",
     "shell.execute_reply": "2024-07-29T16:23:10.874835Z"
    },
    "papermill": {
     "duration": 0.04884,
     "end_time": "2024-07-29T16:23:10.878899",
     "exception": false,
     "start_time": "2024-07-29T16:23:10.830059",
     "status": "completed"
    },
    "tags": []
   },
   "outputs": [
    {
     "data": {
      "text/html": [
       "<div>\n",
       "<style scoped>\n",
       "    .dataframe tbody tr th:only-of-type {\n",
       "        vertical-align: middle;\n",
       "    }\n",
       "\n",
       "    .dataframe tbody tr th {\n",
       "        vertical-align: top;\n",
       "    }\n",
       "\n",
       "    .dataframe thead th {\n",
       "        text-align: right;\n",
       "    }\n",
       "</style>\n",
       "<table border=\"1\" class=\"dataframe\">\n",
       "  <thead>\n",
       "    <tr style=\"text-align: right;\">\n",
       "      <th></th>\n",
       "      <th>Age</th>\n",
       "      <th>RoomService</th>\n",
       "      <th>FoodCourt</th>\n",
       "      <th>ShoppingMall</th>\n",
       "      <th>Spa</th>\n",
       "      <th>VRDeck</th>\n",
       "    </tr>\n",
       "  </thead>\n",
       "  <tbody>\n",
       "    <tr>\n",
       "      <th>count</th>\n",
       "      <td>8514.000000</td>\n",
       "      <td>8512.000000</td>\n",
       "      <td>8510.000000</td>\n",
       "      <td>8485.000000</td>\n",
       "      <td>8510.000000</td>\n",
       "      <td>8505.000000</td>\n",
       "    </tr>\n",
       "    <tr>\n",
       "      <th>mean</th>\n",
       "      <td>28.827930</td>\n",
       "      <td>224.687617</td>\n",
       "      <td>458.077203</td>\n",
       "      <td>173.729169</td>\n",
       "      <td>311.138778</td>\n",
       "      <td>304.854791</td>\n",
       "    </tr>\n",
       "    <tr>\n",
       "      <th>std</th>\n",
       "      <td>14.489021</td>\n",
       "      <td>666.717663</td>\n",
       "      <td>1611.489240</td>\n",
       "      <td>604.696458</td>\n",
       "      <td>1136.705535</td>\n",
       "      <td>1145.717189</td>\n",
       "    </tr>\n",
       "    <tr>\n",
       "      <th>min</th>\n",
       "      <td>0.000000</td>\n",
       "      <td>0.000000</td>\n",
       "      <td>0.000000</td>\n",
       "      <td>0.000000</td>\n",
       "      <td>0.000000</td>\n",
       "      <td>0.000000</td>\n",
       "    </tr>\n",
       "    <tr>\n",
       "      <th>25%</th>\n",
       "      <td>19.000000</td>\n",
       "      <td>0.000000</td>\n",
       "      <td>0.000000</td>\n",
       "      <td>0.000000</td>\n",
       "      <td>0.000000</td>\n",
       "      <td>0.000000</td>\n",
       "    </tr>\n",
       "    <tr>\n",
       "      <th>50%</th>\n",
       "      <td>27.000000</td>\n",
       "      <td>0.000000</td>\n",
       "      <td>0.000000</td>\n",
       "      <td>0.000000</td>\n",
       "      <td>0.000000</td>\n",
       "      <td>0.000000</td>\n",
       "    </tr>\n",
       "    <tr>\n",
       "      <th>75%</th>\n",
       "      <td>38.000000</td>\n",
       "      <td>47.000000</td>\n",
       "      <td>76.000000</td>\n",
       "      <td>27.000000</td>\n",
       "      <td>59.000000</td>\n",
       "      <td>46.000000</td>\n",
       "    </tr>\n",
       "    <tr>\n",
       "      <th>max</th>\n",
       "      <td>79.000000</td>\n",
       "      <td>14327.000000</td>\n",
       "      <td>29813.000000</td>\n",
       "      <td>23492.000000</td>\n",
       "      <td>22408.000000</td>\n",
       "      <td>24133.000000</td>\n",
       "    </tr>\n",
       "  </tbody>\n",
       "</table>\n",
       "</div>"
      ],
      "text/plain": [
       "               Age   RoomService     FoodCourt  ShoppingMall           Spa  \\\n",
       "count  8514.000000   8512.000000   8510.000000   8485.000000   8510.000000   \n",
       "mean     28.827930    224.687617    458.077203    173.729169    311.138778   \n",
       "std      14.489021    666.717663   1611.489240    604.696458   1136.705535   \n",
       "min       0.000000      0.000000      0.000000      0.000000      0.000000   \n",
       "25%      19.000000      0.000000      0.000000      0.000000      0.000000   \n",
       "50%      27.000000      0.000000      0.000000      0.000000      0.000000   \n",
       "75%      38.000000     47.000000     76.000000     27.000000     59.000000   \n",
       "max      79.000000  14327.000000  29813.000000  23492.000000  22408.000000   \n",
       "\n",
       "             VRDeck  \n",
       "count   8505.000000  \n",
       "mean     304.854791  \n",
       "std     1145.717189  \n",
       "min        0.000000  \n",
       "25%        0.000000  \n",
       "50%        0.000000  \n",
       "75%       46.000000  \n",
       "max    24133.000000  "
      ]
     },
     "execution_count": 7,
     "metadata": {},
     "output_type": "execute_result"
    }
   ],
   "source": [
    "train.describe()"
   ]
  },
  {
   "cell_type": "code",
   "execution_count": 8,
   "id": "ee64a2fe",
   "metadata": {
    "execution": {
     "iopub.execute_input": "2024-07-29T16:23:10.910168Z",
     "iopub.status.busy": "2024-07-29T16:23:10.908941Z",
     "iopub.status.idle": "2024-07-29T16:23:11.403691Z",
     "shell.execute_reply": "2024-07-29T16:23:11.402236Z"
    },
    "papermill": {
     "duration": 0.512949,
     "end_time": "2024-07-29T16:23:11.406198",
     "exception": false,
     "start_time": "2024-07-29T16:23:10.893249",
     "status": "completed"
    },
    "tags": []
   },
   "outputs": [
    {
     "data": {
      "text/plain": [
       "<Axes: >"
      ]
     },
     "execution_count": 8,
     "metadata": {},
     "output_type": "execute_result"
    },
    {
     "data": {
      "image/png": "[encoded data removed]",
      "text/plain": [
       "<Figure size 640x480 with 1 Axes>"
      ]
     },
     "metadata": {},
     "output_type": "display_data"
    }
   ],
   "source": [
    "sns.heatmap(train.isnull(),yticklabels=False,cbar=False,cmap='viridis')"
   ]
  },
  {
   "cell_type": "code",
   "execution_count": 9,
   "id": "70375d62",
   "metadata": {
    "execution": {
     "iopub.execute_input": "2024-07-29T16:23:11.438254Z",
     "iopub.status.busy": "2024-07-29T16:23:11.437087Z",
     "iopub.status.idle": "2024-07-29T16:23:11.450219Z",
     "shell.execute_reply": "2024-07-29T16:23:11.449106Z"
    },
    "papermill": {
     "duration": 0.031644,
     "end_time": "2024-07-29T16:23:11.452744",
     "exception": false,
     "start_time": "2024-07-29T16:23:11.421100",
     "status": "completed"
    },
    "tags": []
   },
   "outputs": [
    {
     "data": {
      "text/plain": [
       "PassengerId       0\n",
       "HomePlanet      201\n",
       "CryoSleep       217\n",
       "Cabin           199\n",
       "Destination     182\n",
       "Age             179\n",
       "VIP             203\n",
       "RoomService     181\n",
       "FoodCourt       183\n",
       "ShoppingMall    208\n",
       "Spa             183\n",
       "VRDeck          188\n",
       "Name            200\n",
       "Transported       0\n",
       "dtype: int64"
      ]
     },
     "execution_count": 9,
     "metadata": {},
     "output_type": "execute_result"
    }
   ],
   "source": [
    "train.isnull().sum()"
   ]
  },
  {
   "cell_type": "code",
   "execution_count": 10,
   "id": "5e9c0f2d",
   "metadata": {
    "execution": {
     "iopub.execute_input": "2024-07-29T16:23:11.484234Z",
     "iopub.status.busy": "2024-07-29T16:23:11.483829Z",
     "iopub.status.idle": "2024-07-29T16:23:11.504378Z",
     "shell.execute_reply": "2024-07-29T16:23:11.503050Z"
    },
    "papermill": {
     "duration": 0.038943,
     "end_time": "2024-07-29T16:23:11.506793",
     "exception": false,
     "start_time": "2024-07-29T16:23:11.467850",
     "status": "completed"
    },
    "tags": []
   },
   "outputs": [
    {
     "data": {
      "text/html": [
       "<div>\n",
       "<style scoped>\n",
       "    .dataframe tbody tr th:only-of-type {\n",
       "        vertical-align: middle;\n",
       "    }\n",
       "\n",
       "    .dataframe tbody tr th {\n",
       "        vertical-align: top;\n",
       "    }\n",
       "\n",
       "    .dataframe thead th {\n",
       "        text-align: right;\n",
       "    }\n",
       "</style>\n",
       "<table border=\"1\" class=\"dataframe\">\n",
       "  <thead>\n",
       "    <tr style=\"text-align: right;\">\n",
       "      <th></th>\n",
       "      <th>PassengerId</th>\n",
       "      <th>HomePlanet</th>\n",
       "      <th>CryoSleep</th>\n",
       "      <th>Cabin</th>\n",
       "      <th>Destination</th>\n",
       "      <th>Age</th>\n",
       "      <th>VIP</th>\n",
       "      <th>RoomService</th>\n",
       "      <th>FoodCourt</th>\n",
       "      <th>ShoppingMall</th>\n",
       "      <th>Spa</th>\n",
       "      <th>VRDeck</th>\n",
       "      <th>Name</th>\n",
       "      <th>Transported</th>\n",
       "    </tr>\n",
       "  </thead>\n",
       "  <tbody>\n",
       "    <tr>\n",
       "      <th>0</th>\n",
       "      <td>0001_01</td>\n",
       "      <td>Europa</td>\n",
       "      <td>False</td>\n",
       "      <td>B/0/P</td>\n",
       "      <td>TRAPPIST-1e</td>\n",
       "      <td>39.0</td>\n",
       "      <td>False</td>\n",
       "      <td>0.0</td>\n",
       "      <td>0.0</td>\n",
       "      <td>0.0</td>\n",
       "      <td>0.0</td>\n",
       "      <td>0.0</td>\n",
       "      <td>Maham Ofracculy</td>\n",
       "      <td>False</td>\n",
       "    </tr>\n",
       "    <tr>\n",
       "      <th>1</th>\n",
       "      <td>0002_01</td>\n",
       "      <td>Earth</td>\n",
       "      <td>False</td>\n",
       "      <td>F/0/S</td>\n",
       "      <td>TRAPPIST-1e</td>\n",
       "      <td>24.0</td>\n",
       "      <td>False</td>\n",
       "      <td>109.0</td>\n",
       "      <td>9.0</td>\n",
       "      <td>25.0</td>\n",
       "      <td>549.0</td>\n",
       "      <td>44.0</td>\n",
       "      <td>Juanna Vines</td>\n",
       "      <td>True</td>\n",
       "    </tr>\n",
       "    <tr>\n",
       "      <th>2</th>\n",
       "      <td>0003_01</td>\n",
       "      <td>Europa</td>\n",
       "      <td>False</td>\n",
       "      <td>A/0/S</td>\n",
       "      <td>TRAPPIST-1e</td>\n",
       "      <td>58.0</td>\n",
       "      <td>True</td>\n",
       "      <td>43.0</td>\n",
       "      <td>3576.0</td>\n",
       "      <td>0.0</td>\n",
       "      <td>6715.0</td>\n",
       "      <td>49.0</td>\n",
       "      <td>Altark Susent</td>\n",
       "      <td>False</td>\n",
       "    </tr>\n",
       "    <tr>\n",
       "      <th>3</th>\n",
       "      <td>0003_02</td>\n",
       "      <td>Europa</td>\n",
       "      <td>False</td>\n",
       "      <td>A/0/S</td>\n",
       "      <td>TRAPPIST-1e</td>\n",
       "      <td>33.0</td>\n",
       "      <td>False</td>\n",
       "      <td>0.0</td>\n",
       "      <td>1283.0</td>\n",
       "      <td>371.0</td>\n",
       "      <td>3329.0</td>\n",
       "      <td>193.0</td>\n",
       "      <td>Solam Susent</td>\n",
       "      <td>False</td>\n",
       "    </tr>\n",
       "    <tr>\n",
       "      <th>4</th>\n",
       "      <td>0004_01</td>\n",
       "      <td>Earth</td>\n",
       "      <td>False</td>\n",
       "      <td>F/1/S</td>\n",
       "      <td>TRAPPIST-1e</td>\n",
       "      <td>16.0</td>\n",
       "      <td>False</td>\n",
       "      <td>303.0</td>\n",
       "      <td>70.0</td>\n",
       "      <td>151.0</td>\n",
       "      <td>565.0</td>\n",
       "      <td>2.0</td>\n",
       "      <td>Willy Santantines</td>\n",
       "      <td>True</td>\n",
       "    </tr>\n",
       "  </tbody>\n",
       "</table>\n",
       "</div>"
      ],
      "text/plain": [
       "  PassengerId HomePlanet CryoSleep  Cabin  Destination   Age    VIP  \\\n",
       "0     0001_01     Europa     False  B/0/P  TRAPPIST-1e  39.0  False   \n",
       "1     0002_01      Earth     False  F/0/S  TRAPPIST-1e  24.0  False   \n",
       "2     0003_01     Europa     False  A/0/S  TRAPPIST-1e  58.0   True   \n",
       "3     0003_02     Europa     False  A/0/S  TRAPPIST-1e  33.0  False   \n",
       "4     0004_01      Earth     False  F/1/S  TRAPPIST-1e  16.0  False   \n",
       "\n",
       "   RoomService  FoodCourt  ShoppingMall     Spa  VRDeck               Name  \\\n",
       "0          0.0        0.0           0.0     0.0     0.0    Maham Ofracculy   \n",
       "1        109.0        9.0          25.0   549.0    44.0       Juanna Vines   \n",
       "2         43.0     3576.0           0.0  6715.0    49.0      Altark Susent   \n",
       "3          0.0     1283.0         371.0  3329.0   193.0       Solam Susent   \n",
       "4        303.0       70.0         151.0   565.0     2.0  Willy Santantines   \n",
       "\n",
       "   Transported  \n",
       "0        False  \n",
       "1         True  \n",
       "2        False  \n",
       "3        False  \n",
       "4         True  "
      ]
     },
     "execution_count": 10,
     "metadata": {},
     "output_type": "execute_result"
    }
   ],
   "source": [
    "train.head()"
   ]
  },
  {
   "cell_type": "code",
   "execution_count": 11,
   "id": "6fa50cfb",
   "metadata": {
    "execution": {
     "iopub.execute_input": "2024-07-29T16:23:11.539352Z",
     "iopub.status.busy": "2024-07-29T16:23:11.538961Z",
     "iopub.status.idle": "2024-07-29T16:23:11.741247Z",
     "shell.execute_reply": "2024-07-29T16:23:11.739981Z"
    },
    "papermill": {
     "duration": 0.221595,
     "end_time": "2024-07-29T16:23:11.743865",
     "exception": false,
     "start_time": "2024-07-29T16:23:11.522270",
     "status": "completed"
    },
    "tags": []
   },
   "outputs": [
    {
     "data": {
      "text/plain": [
       "<Axes: xlabel='Transported', ylabel='count'>"
      ]
     },
     "execution_count": 11,
     "metadata": {},
     "output_type": "execute_result"
    },
    {
     "data": {
      "image/png": "[encoded data removed]",
      "text/plain": [
       "<Figure size 640x480 with 1 Axes>"
      ]
     },
     "metadata": {},
     "output_type": "display_data"
    }
   ],
   "source": [
    "sns.countplot(train,x='Transported')"
   ]
  },
  {
   "cell_type": "code",
   "execution_count": 12,
   "id": "3a5d7306",
   "metadata": {
    "execution": {
     "iopub.execute_input": "2024-07-29T16:23:11.776470Z",
     "iopub.status.busy": "2024-07-29T16:23:11.776050Z",
     "iopub.status.idle": "2024-07-29T16:23:11.794851Z",
     "shell.execute_reply": "2024-07-29T16:23:11.793397Z"
    },
    "papermill": {
     "duration": 0.037984,
     "end_time": "2024-07-29T16:23:11.797366",
     "exception": false,
     "start_time": "2024-07-29T16:23:11.759382",
     "status": "completed"
    },
    "tags": []
   },
   "outputs": [
    {
     "data": {
      "text/plain": [
       "PassengerId     8693\n",
       "HomePlanet         3\n",
       "CryoSleep          2\n",
       "Cabin           6560\n",
       "Destination        3\n",
       "Age               80\n",
       "VIP                2\n",
       "RoomService     1273\n",
       "FoodCourt       1507\n",
       "ShoppingMall    1115\n",
       "Spa             1327\n",
       "VRDeck          1306\n",
       "Name            8473\n",
       "Transported        2\n",
       "dtype: int64"
      ]
     },
     "execution_count": 12,
     "metadata": {},
     "output_type": "execute_result"
    }
   ],
   "source": [
    "train.nunique()"
   ]
  },
  {
   "cell_type": "code",
   "execution_count": 13,
   "id": "d1b5ad68",
   "metadata": {
    "execution": {
     "iopub.execute_input": "2024-07-29T16:23:11.829773Z",
     "iopub.status.busy": "2024-07-29T16:23:11.829412Z",
     "iopub.status.idle": "2024-07-29T16:23:11.836368Z",
     "shell.execute_reply": "2024-07-29T16:23:11.835213Z"
    },
    "papermill": {
     "duration": 0.025924,
     "end_time": "2024-07-29T16:23:11.838721",
     "exception": false,
     "start_time": "2024-07-29T16:23:11.812797",
     "status": "completed"
    },
    "tags": []
   },
   "outputs": [],
   "source": [
    "train['Transported'] = train[[\"Transported\"]].astype(int)"
   ]
  },
  {
   "cell_type": "code",
   "execution_count": 14,
   "id": "dfd6a5ef",
   "metadata": {
    "execution": {
     "iopub.execute_input": "2024-07-29T16:23:11.872150Z",
     "iopub.status.busy": "2024-07-29T16:23:11.871069Z",
     "iopub.status.idle": "2024-07-29T16:23:11.883211Z",
     "shell.execute_reply": "2024-07-29T16:23:11.882094Z"
    },
    "papermill": {
     "duration": 0.031502,
     "end_time": "2024-07-29T16:23:11.886006",
     "exception": false,
     "start_time": "2024-07-29T16:23:11.854504",
     "status": "completed"
    },
    "tags": []
   },
   "outputs": [],
   "source": [
    "homeplanet = pd.get_dummies(train.HomePlanet,drop_first =True).astype(int)\n",
    "cryosleep = pd.get_dummies(train.CryoSleep, drop_first=True).astype(int)\n",
    "destination = pd.get_dummies(train.Destination, drop_first=True).astype(int)"
   ]
  },
  {
   "cell_type": "code",
   "execution_count": 15,
   "id": "7c195481",
   "metadata": {
    "execution": {
     "iopub.execute_input": "2024-07-29T16:23:11.918849Z",
     "iopub.status.busy": "2024-07-29T16:23:11.917989Z",
     "iopub.status.idle": "2024-07-29T16:23:11.926513Z",
     "shell.execute_reply": "2024-07-29T16:23:11.925412Z"
    },
    "papermill": {
     "duration": 0.027682,
     "end_time": "2024-07-29T16:23:11.929066",
     "exception": false,
     "start_time": "2024-07-29T16:23:11.901384",
     "status": "completed"
    },
    "tags": []
   },
   "outputs": [],
   "source": [
    "train.drop([ 'HomePlanet', 'CryoSleep', 'Destination'], axis=1, inplace=True)"
   ]
  },
  {
   "cell_type": "code",
   "execution_count": 16,
   "id": "734aff8d",
   "metadata": {
    "execution": {
     "iopub.execute_input": "2024-07-29T16:23:11.961660Z",
     "iopub.status.busy": "2024-07-29T16:23:11.961291Z",
     "iopub.status.idle": "2024-07-29T16:23:11.968925Z",
     "shell.execute_reply": "2024-07-29T16:23:11.967624Z"
    },
    "papermill": {
     "duration": 0.026945,
     "end_time": "2024-07-29T16:23:11.971446",
     "exception": false,
     "start_time": "2024-07-29T16:23:11.944501",
     "status": "completed"
    },
    "tags": []
   },
   "outputs": [],
   "source": [
    "train = pd.concat([train,homeplanet, cryosleep, destination], axis=1)"
   ]
  },
  {
   "cell_type": "code",
   "execution_count": 17,
   "id": "c0127d01",
   "metadata": {
    "execution": {
     "iopub.execute_input": "2024-07-29T16:23:12.004285Z",
     "iopub.status.busy": "2024-07-29T16:23:12.003876Z",
     "iopub.status.idle": "2024-07-29T16:23:12.024534Z",
     "shell.execute_reply": "2024-07-29T16:23:12.023414Z"
    },
    "papermill": {
     "duration": 0.040139,
     "end_time": "2024-07-29T16:23:12.026930",
     "exception": false,
     "start_time": "2024-07-29T16:23:11.986791",
     "status": "completed"
    },
    "tags": []
   },
   "outputs": [
    {
     "data": {
      "text/html": [
       "<div>\n",
       "<style scoped>\n",
       "    .dataframe tbody tr th:only-of-type {\n",
       "        vertical-align: middle;\n",
       "    }\n",
       "\n",
       "    .dataframe tbody tr th {\n",
       "        vertical-align: top;\n",
       "    }\n",
       "\n",
       "    .dataframe thead th {\n",
       "        text-align: right;\n",
       "    }\n",
       "</style>\n",
       "<table border=\"1\" class=\"dataframe\">\n",
       "  <thead>\n",
       "    <tr style=\"text-align: right;\">\n",
       "      <th></th>\n",
       "      <th>PassengerId</th>\n",
       "      <th>Cabin</th>\n",
       "      <th>Age</th>\n",
       "      <th>VIP</th>\n",
       "      <th>RoomService</th>\n",
       "      <th>FoodCourt</th>\n",
       "      <th>ShoppingMall</th>\n",
       "      <th>Spa</th>\n",
       "      <th>VRDeck</th>\n",
       "      <th>Name</th>\n",
       "      <th>Transported</th>\n",
       "      <th>Europa</th>\n",
       "      <th>Mars</th>\n",
       "      <th>True</th>\n",
       "      <th>PSO J318.5-22</th>\n",
       "      <th>TRAPPIST-1e</th>\n",
       "    </tr>\n",
       "  </thead>\n",
       "  <tbody>\n",
       "    <tr>\n",
       "      <th>0</th>\n",
       "      <td>0001_01</td>\n",
       "      <td>B/0/P</td>\n",
       "      <td>39.0</td>\n",
       "      <td>False</td>\n",
       "      <td>0.0</td>\n",
       "      <td>0.0</td>\n",
       "      <td>0.0</td>\n",
       "      <td>0.0</td>\n",
       "      <td>0.0</td>\n",
       "      <td>Maham Ofracculy</td>\n",
       "      <td>0</td>\n",
       "      <td>1</td>\n",
       "      <td>0</td>\n",
       "      <td>0</td>\n",
       "      <td>0</td>\n",
       "      <td>1</td>\n",
       "    </tr>\n",
       "    <tr>\n",
       "      <th>1</th>\n",
       "      <td>0002_01</td>\n",
       "      <td>F/0/S</td>\n",
       "      <td>24.0</td>\n",
       "      <td>False</td>\n",
       "      <td>109.0</td>\n",
       "      <td>9.0</td>\n",
       "      <td>25.0</td>\n",
       "      <td>549.0</td>\n",
       "      <td>44.0</td>\n",
       "      <td>Juanna Vines</td>\n",
       "      <td>1</td>\n",
       "      <td>0</td>\n",
       "      <td>0</td>\n",
       "      <td>0</td>\n",
       "      <td>0</td>\n",
       "      <td>1</td>\n",
       "    </tr>\n",
       "    <tr>\n",
       "      <th>2</th>\n",
       "      <td>0003_01</td>\n",
       "      <td>A/0/S</td>\n",
       "      <td>58.0</td>\n",
       "      <td>True</td>\n",
       "      <td>43.0</td>\n",
       "      <td>3576.0</td>\n",
       "      <td>0.0</td>\n",
       "      <td>6715.0</td>\n",
       "      <td>49.0</td>\n",
       "      <td>Altark Susent</td>\n",
       "      <td>0</td>\n",
       "      <td>1</td>\n",
       "      <td>0</td>\n",
       "      <td>0</td>\n",
       "      <td>0</td>\n",
       "      <td>1</td>\n",
       "    </tr>\n",
       "    <tr>\n",
       "      <th>3</th>\n",
       "      <td>0003_02</td>\n",
       "      <td>A/0/S</td>\n",
       "      <td>33.0</td>\n",
       "      <td>False</td>\n",
       "      <td>0.0</td>\n",
       "      <td>1283.0</td>\n",
       "      <td>371.0</td>\n",
       "      <td>3329.0</td>\n",
       "      <td>193.0</td>\n",
       "      <td>Solam Susent</td>\n",
       "      <td>0</td>\n",
       "      <td>1</td>\n",
       "      <td>0</td>\n",
       "      <td>0</td>\n",
       "      <td>0</td>\n",
       "      <td>1</td>\n",
       "    </tr>\n",
       "    <tr>\n",
       "      <th>4</th>\n",
       "      <td>0004_01</td>\n",
       "      <td>F/1/S</td>\n",
       "      <td>16.0</td>\n",
       "      <td>False</td>\n",
       "      <td>303.0</td>\n",
       "      <td>70.0</td>\n",
       "      <td>151.0</td>\n",
       "      <td>565.0</td>\n",
       "      <td>2.0</td>\n",
       "      <td>Willy Santantines</td>\n",
       "      <td>1</td>\n",
       "      <td>0</td>\n",
       "      <td>0</td>\n",
       "      <td>0</td>\n",
       "      <td>0</td>\n",
       "      <td>1</td>\n",
       "    </tr>\n",
       "  </tbody>\n",
       "</table>\n",
       "</div>"
      ],
      "text/plain": [
       "  PassengerId  Cabin   Age    VIP  RoomService  FoodCourt  ShoppingMall  \\\n",
       "0     0001_01  B/0/P  39.0  False          0.0        0.0           0.0   \n",
       "1     0002_01  F/0/S  24.0  False        109.0        9.0          25.0   \n",
       "2     0003_01  A/0/S  58.0   True         43.0     3576.0           0.0   \n",
       "3     0003_02  A/0/S  33.0  False          0.0     1283.0         371.0   \n",
       "4     0004_01  F/1/S  16.0  False        303.0       70.0         151.0   \n",
       "\n",
       "      Spa  VRDeck               Name  Transported  Europa  Mars  True  \\\n",
       "0     0.0     0.0    Maham Ofracculy            0       1     0     0   \n",
       "1   549.0    44.0       Juanna Vines            1       0     0     0   \n",
       "2  6715.0    49.0      Altark Susent            0       1     0     0   \n",
       "3  3329.0   193.0       Solam Susent            0       1     0     0   \n",
       "4   565.0     2.0  Willy Santantines            1       0     0     0   \n",
       "\n",
       "   PSO J318.5-22  TRAPPIST-1e  \n",
       "0              0            1  \n",
       "1              0            1  \n",
       "2              0            1  \n",
       "3              0            1  \n",
       "4              0            1  "
      ]
     },
     "execution_count": 17,
     "metadata": {},
     "output_type": "execute_result"
    }
   ],
   "source": [
    "train.head()"
   ]
  },
  {
   "cell_type": "code",
   "execution_count": 18,
   "id": "43fa9b0b",
   "metadata": {
    "execution": {
     "iopub.execute_input": "2024-07-29T16:23:12.059856Z",
     "iopub.status.busy": "2024-07-29T16:23:12.059493Z",
     "iopub.status.idle": "2024-07-29T16:23:12.065572Z",
     "shell.execute_reply": "2024-07-29T16:23:12.064148Z"
    },
    "papermill": {
     "duration": 0.025451,
     "end_time": "2024-07-29T16:23:12.068012",
     "exception": false,
     "start_time": "2024-07-29T16:23:12.042561",
     "status": "completed"
    },
    "tags": []
   },
   "outputs": [],
   "source": [
    "train.rename(columns={True: 'CryoSleep'}, inplace=True)"
   ]
  },
  {
   "cell_type": "code",
   "execution_count": 19,
   "id": "fdfa01be",
   "metadata": {
    "execution": {
     "iopub.execute_input": "2024-07-29T16:23:12.100798Z",
     "iopub.status.busy": "2024-07-29T16:23:12.100441Z",
     "iopub.status.idle": "2024-07-29T16:23:12.108107Z",
     "shell.execute_reply": "2024-07-29T16:23:12.107038Z"
    },
    "papermill": {
     "duration": 0.026987,
     "end_time": "2024-07-29T16:23:12.110550",
     "exception": false,
     "start_time": "2024-07-29T16:23:12.083563",
     "status": "completed"
    },
    "tags": []
   },
   "outputs": [],
   "source": [
    "vip = pd.get_dummies(train.VIP, drop_first=True).astype(int)"
   ]
  },
  {
   "cell_type": "code",
   "execution_count": 20,
   "id": "976b32ea",
   "metadata": {
    "execution": {
     "iopub.execute_input": "2024-07-29T16:23:12.144283Z",
     "iopub.status.busy": "2024-07-29T16:23:12.143304Z",
     "iopub.status.idle": "2024-07-29T16:23:12.150387Z",
     "shell.execute_reply": "2024-07-29T16:23:12.149457Z"
    },
    "papermill": {
     "duration": 0.026591,
     "end_time": "2024-07-29T16:23:12.152695",
     "exception": false,
     "start_time": "2024-07-29T16:23:12.126104",
     "status": "completed"
    },
    "tags": []
   },
   "outputs": [],
   "source": [
    "train.drop(['VIP'], axis=1, inplace=True)"
   ]
  },
  {
   "cell_type": "code",
   "execution_count": 21,
   "id": "470d6c25",
   "metadata": {
    "execution": {
     "iopub.execute_input": "2024-07-29T16:23:12.185323Z",
     "iopub.status.busy": "2024-07-29T16:23:12.184933Z",
     "iopub.status.idle": "2024-07-29T16:23:12.192141Z",
     "shell.execute_reply": "2024-07-29T16:23:12.190975Z"
    },
    "papermill": {
     "duration": 0.026394,
     "end_time": "2024-07-29T16:23:12.194669",
     "exception": false,
     "start_time": "2024-07-29T16:23:12.168275",
     "status": "completed"
    },
    "tags": []
   },
   "outputs": [],
   "source": [
    "train = pd.concat([train,vip], axis=1)"
   ]
  },
  {
   "cell_type": "code",
   "execution_count": 22,
   "id": "283b31d8",
   "metadata": {
    "execution": {
     "iopub.execute_input": "2024-07-29T16:23:12.227508Z",
     "iopub.status.busy": "2024-07-29T16:23:12.227107Z",
     "iopub.status.idle": "2024-07-29T16:23:12.233582Z",
     "shell.execute_reply": "2024-07-29T16:23:12.232403Z"
    },
    "papermill": {
     "duration": 0.025786,
     "end_time": "2024-07-29T16:23:12.235959",
     "exception": false,
     "start_time": "2024-07-29T16:23:12.210173",
     "status": "completed"
    },
    "tags": []
   },
   "outputs": [],
   "source": [
    "train.rename(columns={True: 'VIP'}, inplace=True)"
   ]
  },
  {
   "cell_type": "code",
   "execution_count": 23,
   "id": "b19191d5",
   "metadata": {
    "execution": {
     "iopub.execute_input": "2024-07-29T16:23:12.329643Z",
     "iopub.status.busy": "2024-07-29T16:23:12.329273Z",
     "iopub.status.idle": "2024-07-29T16:23:12.337076Z",
     "shell.execute_reply": "2024-07-29T16:23:12.335910Z"
    },
    "papermill": {
     "duration": 0.02761,
     "end_time": "2024-07-29T16:23:12.339628",
     "exception": false,
     "start_time": "2024-07-29T16:23:12.312018",
     "status": "completed"
    },
    "tags": []
   },
   "outputs": [
    {
     "data": {
      "text/plain": [
       "Index(['PassengerId', 'Cabin', 'Age', 'RoomService', 'FoodCourt',\n",
       "       'ShoppingMall', 'Spa', 'VRDeck', 'Name', 'Transported', 'Europa',\n",
       "       'Mars', 'CryoSleep', 'PSO J318.5-22', 'TRAPPIST-1e', 'VIP'],\n",
       "      dtype='object')"
      ]
     },
     "execution_count": 23,
     "metadata": {},
     "output_type": "execute_result"
    }
   ],
   "source": [
    "train.columns"
   ]
  },
  {
   "cell_type": "code",
   "execution_count": 24,
   "id": "72f5fd43",
   "metadata": {
    "execution": {
     "iopub.execute_input": "2024-07-29T16:23:12.372947Z",
     "iopub.status.busy": "2024-07-29T16:23:12.372569Z",
     "iopub.status.idle": "2024-07-29T16:23:12.378096Z",
     "shell.execute_reply": "2024-07-29T16:23:12.377036Z"
    },
    "papermill": {
     "duration": 0.025169,
     "end_time": "2024-07-29T16:23:12.380586",
     "exception": false,
     "start_time": "2024-07-29T16:23:12.355417",
     "status": "completed"
    },
    "tags": []
   },
   "outputs": [],
   "source": [
    "new_order = [  'PassengerId', 'Cabin','Age','RoomService','FoodCourt','ShoppingMall','Spa','VRDeck','Name','Europa','Mars',\n",
    "                  \"CryoSleep\", 'VIP','PSO J318.5-22','TRAPPIST-1e', 'Transported']"
   ]
  },
  {
   "cell_type": "code",
   "execution_count": 25,
   "id": "88f39211",
   "metadata": {
    "execution": {
     "iopub.execute_input": "2024-07-29T16:23:12.415085Z",
     "iopub.status.busy": "2024-07-29T16:23:12.414224Z",
     "iopub.status.idle": "2024-07-29T16:23:12.421344Z",
     "shell.execute_reply": "2024-07-29T16:23:12.420189Z"
    },
    "papermill": {
     "duration": 0.026936,
     "end_time": "2024-07-29T16:23:12.423964",
     "exception": false,
     "start_time": "2024-07-29T16:23:12.397028",
     "status": "completed"
    },
    "tags": []
   },
   "outputs": [],
   "source": [
    "train = train[new_order]"
   ]
  },
  {
   "cell_type": "code",
   "execution_count": 26,
   "id": "6d730d8a",
   "metadata": {
    "execution": {
     "iopub.execute_input": "2024-07-29T16:23:12.458196Z",
     "iopub.status.busy": "2024-07-29T16:23:12.457785Z",
     "iopub.status.idle": "2024-07-29T16:23:12.477252Z",
     "shell.execute_reply": "2024-07-29T16:23:12.476051Z"
    },
    "papermill": {
     "duration": 0.0392,
     "end_time": "2024-07-29T16:23:12.479564",
     "exception": false,
     "start_time": "2024-07-29T16:23:12.440364",
     "status": "completed"
    },
    "tags": []
   },
   "outputs": [
    {
     "data": {
      "text/html": [
       "<div>\n",
       "<style scoped>\n",
       "    .dataframe tbody tr th:only-of-type {\n",
       "        vertical-align: middle;\n",
       "    }\n",
       "\n",
       "    .dataframe tbody tr th {\n",
       "        vertical-align: top;\n",
       "    }\n",
       "\n",
       "    .dataframe thead th {\n",
       "        text-align: right;\n",
       "    }\n",
       "</style>\n",
       "<table border=\"1\" class=\"dataframe\">\n",
       "  <thead>\n",
       "    <tr style=\"text-align: right;\">\n",
       "      <th></th>\n",
       "      <th>PassengerId</th>\n",
       "      <th>Cabin</th>\n",
       "      <th>Age</th>\n",
       "      <th>RoomService</th>\n",
       "      <th>FoodCourt</th>\n",
       "      <th>ShoppingMall</th>\n",
       "      <th>Spa</th>\n",
       "      <th>VRDeck</th>\n",
       "      <th>Name</th>\n",
       "      <th>Europa</th>\n",
       "      <th>Mars</th>\n",
       "      <th>CryoSleep</th>\n",
       "      <th>VIP</th>\n",
       "      <th>PSO J318.5-22</th>\n",
       "      <th>TRAPPIST-1e</th>\n",
       "      <th>Transported</th>\n",
       "    </tr>\n",
       "  </thead>\n",
       "  <tbody>\n",
       "    <tr>\n",
       "      <th>0</th>\n",
       "      <td>0001_01</td>\n",
       "      <td>B/0/P</td>\n",
       "      <td>39.0</td>\n",
       "      <td>0.0</td>\n",
       "      <td>0.0</td>\n",
       "      <td>0.0</td>\n",
       "      <td>0.0</td>\n",
       "      <td>0.0</td>\n",
       "      <td>Maham Ofracculy</td>\n",
       "      <td>1</td>\n",
       "      <td>0</td>\n",
       "      <td>0</td>\n",
       "      <td>0</td>\n",
       "      <td>0</td>\n",
       "      <td>1</td>\n",
       "      <td>0</td>\n",
       "    </tr>\n",
       "    <tr>\n",
       "      <th>1</th>\n",
       "      <td>0002_01</td>\n",
       "      <td>F/0/S</td>\n",
       "      <td>24.0</td>\n",
       "      <td>109.0</td>\n",
       "      <td>9.0</td>\n",
       "      <td>25.0</td>\n",
       "      <td>549.0</td>\n",
       "      <td>44.0</td>\n",
       "      <td>Juanna Vines</td>\n",
       "      <td>0</td>\n",
       "      <td>0</td>\n",
       "      <td>0</td>\n",
       "      <td>0</td>\n",
       "      <td>0</td>\n",
       "      <td>1</td>\n",
       "      <td>1</td>\n",
       "    </tr>\n",
       "    <tr>\n",
       "      <th>2</th>\n",
       "      <td>0003_01</td>\n",
       "      <td>A/0/S</td>\n",
       "      <td>58.0</td>\n",
       "      <td>43.0</td>\n",
       "      <td>3576.0</td>\n",
       "      <td>0.0</td>\n",
       "      <td>6715.0</td>\n",
       "      <td>49.0</td>\n",
       "      <td>Altark Susent</td>\n",
       "      <td>1</td>\n",
       "      <td>0</td>\n",
       "      <td>0</td>\n",
       "      <td>1</td>\n",
       "      <td>0</td>\n",
       "      <td>1</td>\n",
       "      <td>0</td>\n",
       "    </tr>\n",
       "    <tr>\n",
       "      <th>3</th>\n",
       "      <td>0003_02</td>\n",
       "      <td>A/0/S</td>\n",
       "      <td>33.0</td>\n",
       "      <td>0.0</td>\n",
       "      <td>1283.0</td>\n",
       "      <td>371.0</td>\n",
       "      <td>3329.0</td>\n",
       "      <td>193.0</td>\n",
       "      <td>Solam Susent</td>\n",
       "      <td>1</td>\n",
       "      <td>0</td>\n",
       "      <td>0</td>\n",
       "      <td>0</td>\n",
       "      <td>0</td>\n",
       "      <td>1</td>\n",
       "      <td>0</td>\n",
       "    </tr>\n",
       "    <tr>\n",
       "      <th>4</th>\n",
       "      <td>0004_01</td>\n",
       "      <td>F/1/S</td>\n",
       "      <td>16.0</td>\n",
       "      <td>303.0</td>\n",
       "      <td>70.0</td>\n",
       "      <td>151.0</td>\n",
       "      <td>565.0</td>\n",
       "      <td>2.0</td>\n",
       "      <td>Willy Santantines</td>\n",
       "      <td>0</td>\n",
       "      <td>0</td>\n",
       "      <td>0</td>\n",
       "      <td>0</td>\n",
       "      <td>0</td>\n",
       "      <td>1</td>\n",
       "      <td>1</td>\n",
       "    </tr>\n",
       "  </tbody>\n",
       "</table>\n",
       "</div>"
      ],
      "text/plain": [
       "  PassengerId  Cabin   Age  RoomService  FoodCourt  ShoppingMall     Spa  \\\n",
       "0     0001_01  B/0/P  39.0          0.0        0.0           0.0     0.0   \n",
       "1     0002_01  F/0/S  24.0        109.0        9.0          25.0   549.0   \n",
       "2     0003_01  A/0/S  58.0         43.0     3576.0           0.0  6715.0   \n",
       "3     0003_02  A/0/S  33.0          0.0     1283.0         371.0  3329.0   \n",
       "4     0004_01  F/1/S  16.0        303.0       70.0         151.0   565.0   \n",
       "\n",
       "   VRDeck               Name  Europa  Mars  CryoSleep  VIP  PSO J318.5-22  \\\n",
       "0     0.0    Maham Ofracculy       1     0          0    0              0   \n",
       "1    44.0       Juanna Vines       0     0          0    0              0   \n",
       "2    49.0      Altark Susent       1     0          0    1              0   \n",
       "3   193.0       Solam Susent       1     0          0    0              0   \n",
       "4     2.0  Willy Santantines       0     0          0    0              0   \n",
       "\n",
       "   TRAPPIST-1e  Transported  \n",
       "0            1            0  \n",
       "1            1            1  \n",
       "2            1            0  \n",
       "3            1            0  \n",
       "4            1            1  "
      ]
     },
     "execution_count": 26,
     "metadata": {},
     "output_type": "execute_result"
    }
   ],
   "source": [
    "train.head()"
   ]
  },
  {
   "cell_type": "code",
   "execution_count": 27,
   "id": "adb201de",
   "metadata": {
    "execution": {
     "iopub.execute_input": "2024-07-29T16:23:12.513796Z",
     "iopub.status.busy": "2024-07-29T16:23:12.512887Z",
     "iopub.status.idle": "2024-07-29T16:23:12.519275Z",
     "shell.execute_reply": "2024-07-29T16:23:12.518274Z"
    },
    "papermill": {
     "duration": 0.0259,
     "end_time": "2024-07-29T16:23:12.521472",
     "exception": false,
     "start_time": "2024-07-29T16:23:12.495572",
     "status": "completed"
    },
    "tags": []
   },
   "outputs": [],
   "source": [
    "train.drop(['Cabin','Name'],axis=1,inplace=True)"
   ]
  },
  {
   "cell_type": "code",
   "execution_count": 28,
   "id": "ab1a94bd",
   "metadata": {
    "execution": {
     "iopub.execute_input": "2024-07-29T16:23:12.555568Z",
     "iopub.status.busy": "2024-07-29T16:23:12.555206Z",
     "iopub.status.idle": "2024-07-29T16:23:12.564444Z",
     "shell.execute_reply": "2024-07-29T16:23:12.563374Z"
    },
    "papermill": {
     "duration": 0.029273,
     "end_time": "2024-07-29T16:23:12.566915",
     "exception": false,
     "start_time": "2024-07-29T16:23:12.537642",
     "status": "completed"
    },
    "tags": []
   },
   "outputs": [
    {
     "data": {
      "text/plain": [
       "0       39.0\n",
       "1       24.0\n",
       "2       58.0\n",
       "3       33.0\n",
       "4       16.0\n",
       "        ... \n",
       "8688    41.0\n",
       "8689    18.0\n",
       "8690    26.0\n",
       "8691    32.0\n",
       "8692    44.0\n",
       "Name: Age, Length: 8693, dtype: float64"
      ]
     },
     "execution_count": 28,
     "metadata": {},
     "output_type": "execute_result"
    }
   ],
   "source": [
    "train.Age"
   ]
  },
  {
   "cell_type": "code",
   "execution_count": 29,
   "id": "0c79d463",
   "metadata": {
    "execution": {
     "iopub.execute_input": "2024-07-29T16:23:12.602927Z",
     "iopub.status.busy": "2024-07-29T16:23:12.602552Z",
     "iopub.status.idle": "2024-07-29T16:23:12.840812Z",
     "shell.execute_reply": "2024-07-29T16:23:12.839529Z"
    },
    "papermill": {
     "duration": 0.25855,
     "end_time": "2024-07-29T16:23:12.843376",
     "exception": false,
     "start_time": "2024-07-29T16:23:12.584826",
     "status": "completed"
    },
    "tags": []
   },
   "outputs": [
    {
     "data": {
      "text/plain": [
       "<Axes: xlabel='Transported', ylabel='Age'>"
      ]
     },
     "execution_count": 29,
     "metadata": {},
     "output_type": "execute_result"
    },
    {
     "data": {
      "image/png": "[encoded data removed]",
      "text/plain": [
       "<Figure size 640x480 with 1 Axes>"
      ]
     },
     "metadata": {},
     "output_type": "display_data"
    }
   ],
   "source": [
    "sns.boxplot(train,x='Transported',y='Age')"
   ]
  },
  {
   "cell_type": "code",
   "execution_count": 30,
   "id": "ec1f85b9",
   "metadata": {
    "execution": {
     "iopub.execute_input": "2024-07-29T16:23:12.878645Z",
     "iopub.status.busy": "2024-07-29T16:23:12.878252Z",
     "iopub.status.idle": "2024-07-29T16:23:12.888347Z",
     "shell.execute_reply": "2024-07-29T16:23:12.887041Z"
    },
    "papermill": {
     "duration": 0.031008,
     "end_time": "2024-07-29T16:23:12.891091",
     "exception": false,
     "start_time": "2024-07-29T16:23:12.860083",
     "status": "completed"
    },
    "tags": []
   },
   "outputs": [
    {
     "data": {
      "text/plain": [
       "PassengerId        0\n",
       "Age              179\n",
       "RoomService      181\n",
       "FoodCourt        183\n",
       "ShoppingMall     208\n",
       "Spa              183\n",
       "VRDeck           188\n",
       "Europa             0\n",
       "Mars               0\n",
       "CryoSleep          0\n",
       "VIP                0\n",
       "PSO J318.5-22      0\n",
       "TRAPPIST-1e        0\n",
       "Transported        0\n",
       "dtype: int64"
      ]
     },
     "execution_count": 30,
     "metadata": {},
     "output_type": "execute_result"
    }
   ],
   "source": [
    "train.isnull().sum()"
   ]
  },
  {
   "cell_type": "code",
   "execution_count": 31,
   "id": "3a867bb9",
   "metadata": {
    "execution": {
     "iopub.execute_input": "2024-07-29T16:23:12.926767Z",
     "iopub.status.busy": "2024-07-29T16:23:12.926366Z",
     "iopub.status.idle": "2024-07-29T16:23:12.931649Z",
     "shell.execute_reply": "2024-07-29T16:23:12.930430Z"
    },
    "papermill": {
     "duration": 0.025962,
     "end_time": "2024-07-29T16:23:12.933901",
     "exception": false,
     "start_time": "2024-07-29T16:23:12.907939",
     "status": "completed"
    },
    "tags": []
   },
   "outputs": [],
   "source": [
    "# train['PassengerId'] = train[[\"PassengerId\"]].astype(int)"
   ]
  },
  {
   "cell_type": "code",
   "execution_count": 32,
   "id": "ce70bef7",
   "metadata": {
    "execution": {
     "iopub.execute_input": "2024-07-29T16:23:12.969139Z",
     "iopub.status.busy": "2024-07-29T16:23:12.968764Z",
     "iopub.status.idle": "2024-07-29T16:23:12.988879Z",
     "shell.execute_reply": "2024-07-29T16:23:12.987754Z"
    },
    "papermill": {
     "duration": 0.04086,
     "end_time": "2024-07-29T16:23:12.991461",
     "exception": false,
     "start_time": "2024-07-29T16:23:12.950601",
     "status": "completed"
    },
    "tags": []
   },
   "outputs": [
    {
     "data": {
      "text/html": [
       "<div>\n",
       "<style scoped>\n",
       "    .dataframe tbody tr th:only-of-type {\n",
       "        vertical-align: middle;\n",
       "    }\n",
       "\n",
       "    .dataframe tbody tr th {\n",
       "        vertical-align: top;\n",
       "    }\n",
       "\n",
       "    .dataframe thead th {\n",
       "        text-align: right;\n",
       "    }\n",
       "</style>\n",
       "<table border=\"1\" class=\"dataframe\">\n",
       "  <thead>\n",
       "    <tr style=\"text-align: right;\">\n",
       "      <th></th>\n",
       "      <th>PassengerId</th>\n",
       "      <th>Age</th>\n",
       "      <th>RoomService</th>\n",
       "      <th>FoodCourt</th>\n",
       "      <th>ShoppingMall</th>\n",
       "      <th>Spa</th>\n",
       "      <th>VRDeck</th>\n",
       "      <th>Europa</th>\n",
       "      <th>Mars</th>\n",
       "      <th>CryoSleep</th>\n",
       "      <th>VIP</th>\n",
       "      <th>PSO J318.5-22</th>\n",
       "      <th>TRAPPIST-1e</th>\n",
       "      <th>Transported</th>\n",
       "    </tr>\n",
       "  </thead>\n",
       "  <tbody>\n",
       "    <tr>\n",
       "      <th>0</th>\n",
       "      <td>0001_01</td>\n",
       "      <td>39.0</td>\n",
       "      <td>0.0</td>\n",
       "      <td>0.0</td>\n",
       "      <td>0.0</td>\n",
       "      <td>0.0</td>\n",
       "      <td>0.0</td>\n",
       "      <td>1</td>\n",
       "      <td>0</td>\n",
       "      <td>0</td>\n",
       "      <td>0</td>\n",
       "      <td>0</td>\n",
       "      <td>1</td>\n",
       "      <td>0</td>\n",
       "    </tr>\n",
       "    <tr>\n",
       "      <th>1</th>\n",
       "      <td>0002_01</td>\n",
       "      <td>24.0</td>\n",
       "      <td>109.0</td>\n",
       "      <td>9.0</td>\n",
       "      <td>25.0</td>\n",
       "      <td>549.0</td>\n",
       "      <td>44.0</td>\n",
       "      <td>0</td>\n",
       "      <td>0</td>\n",
       "      <td>0</td>\n",
       "      <td>0</td>\n",
       "      <td>0</td>\n",
       "      <td>1</td>\n",
       "      <td>1</td>\n",
       "    </tr>\n",
       "    <tr>\n",
       "      <th>2</th>\n",
       "      <td>0003_01</td>\n",
       "      <td>58.0</td>\n",
       "      <td>43.0</td>\n",
       "      <td>3576.0</td>\n",
       "      <td>0.0</td>\n",
       "      <td>6715.0</td>\n",
       "      <td>49.0</td>\n",
       "      <td>1</td>\n",
       "      <td>0</td>\n",
       "      <td>0</td>\n",
       "      <td>1</td>\n",
       "      <td>0</td>\n",
       "      <td>1</td>\n",
       "      <td>0</td>\n",
       "    </tr>\n",
       "    <tr>\n",
       "      <th>3</th>\n",
       "      <td>0003_02</td>\n",
       "      <td>33.0</td>\n",
       "      <td>0.0</td>\n",
       "      <td>1283.0</td>\n",
       "      <td>371.0</td>\n",
       "      <td>3329.0</td>\n",
       "      <td>193.0</td>\n",
       "      <td>1</td>\n",
       "      <td>0</td>\n",
       "      <td>0</td>\n",
       "      <td>0</td>\n",
       "      <td>0</td>\n",
       "      <td>1</td>\n",
       "      <td>0</td>\n",
       "    </tr>\n",
       "    <tr>\n",
       "      <th>4</th>\n",
       "      <td>0004_01</td>\n",
       "      <td>16.0</td>\n",
       "      <td>303.0</td>\n",
       "      <td>70.0</td>\n",
       "      <td>151.0</td>\n",
       "      <td>565.0</td>\n",
       "      <td>2.0</td>\n",
       "      <td>0</td>\n",
       "      <td>0</td>\n",
       "      <td>0</td>\n",
       "      <td>0</td>\n",
       "      <td>0</td>\n",
       "      <td>1</td>\n",
       "      <td>1</td>\n",
       "    </tr>\n",
       "  </tbody>\n",
       "</table>\n",
       "</div>"
      ],
      "text/plain": [
       "  PassengerId   Age  RoomService  FoodCourt  ShoppingMall     Spa  VRDeck  \\\n",
       "0     0001_01  39.0          0.0        0.0           0.0     0.0     0.0   \n",
       "1     0002_01  24.0        109.0        9.0          25.0   549.0    44.0   \n",
       "2     0003_01  58.0         43.0     3576.0           0.0  6715.0    49.0   \n",
       "3     0003_02  33.0          0.0     1283.0         371.0  3329.0   193.0   \n",
       "4     0004_01  16.0        303.0       70.0         151.0   565.0     2.0   \n",
       "\n",
       "   Europa  Mars  CryoSleep  VIP  PSO J318.5-22  TRAPPIST-1e  Transported  \n",
       "0       1     0          0    0              0            1            0  \n",
       "1       0     0          0    0              0            1            1  \n",
       "2       1     0          0    1              0            1            0  \n",
       "3       1     0          0    0              0            1            0  \n",
       "4       0     0          0    0              0            1            1  "
      ]
     },
     "execution_count": 32,
     "metadata": {},
     "output_type": "execute_result"
    }
   ],
   "source": [
    "train.head()"
   ]
  },
  {
   "cell_type": "code",
   "execution_count": 33,
   "id": "b6df0096",
   "metadata": {
    "execution": {
     "iopub.execute_input": "2024-07-29T16:23:13.027823Z",
     "iopub.status.busy": "2024-07-29T16:23:13.027452Z",
     "iopub.status.idle": "2024-07-29T16:23:13.060118Z",
     "shell.execute_reply": "2024-07-29T16:23:13.059057Z"
    },
    "papermill": {
     "duration": 0.053969,
     "end_time": "2024-07-29T16:23:13.062829",
     "exception": false,
     "start_time": "2024-07-29T16:23:13.008860",
     "status": "completed"
    },
    "tags": []
   },
   "outputs": [],
   "source": [
    "mode_values = train.mode().iloc[0]\n",
    "\n",
    "# Fill NaN values with the mode\n",
    "train.fillna(mode_values, inplace=True)"
   ]
  },
  {
   "cell_type": "code",
   "execution_count": 34,
   "id": "2d9d27f1",
   "metadata": {
    "execution": {
     "iopub.execute_input": "2024-07-29T16:23:13.099034Z",
     "iopub.status.busy": "2024-07-29T16:23:13.098677Z",
     "iopub.status.idle": "2024-07-29T16:23:13.520527Z",
     "shell.execute_reply": "2024-07-29T16:23:13.519437Z"
    },
    "papermill": {
     "duration": 0.443013,
     "end_time": "2024-07-29T16:23:13.523256",
     "exception": false,
     "start_time": "2024-07-29T16:23:13.080243",
     "status": "completed"
    },
    "tags": []
   },
   "outputs": [
    {
     "data": {
      "text/plain": [
       "<Axes: >"
      ]
     },
     "execution_count": 34,
     "metadata": {},
     "output_type": "execute_result"
    },
    {
     "data": {
      "image/png": "[encoded data removed]",
      "text/plain": [
       "<Figure size 640x480 with 1 Axes>"
      ]
     },
     "metadata": {},
     "output_type": "display_data"
    }
   ],
   "source": [
    "sns.heatmap(train.isnull(),yticklabels=False,cbar=False,cmap='viridis')"
   ]
  },
  {
   "cell_type": "code",
   "execution_count": 35,
   "id": "85a49331",
   "metadata": {
    "execution": {
     "iopub.execute_input": "2024-07-29T16:23:13.562384Z",
     "iopub.status.busy": "2024-07-29T16:23:13.561917Z",
     "iopub.status.idle": "2024-07-29T16:23:13.569849Z",
     "shell.execute_reply": "2024-07-29T16:23:13.568605Z"
    },
    "papermill": {
     "duration": 0.03144,
     "end_time": "2024-07-29T16:23:13.572882",
     "exception": false,
     "start_time": "2024-07-29T16:23:13.541442",
     "status": "completed"
    },
    "tags": []
   },
   "outputs": [
    {
     "data": {
      "text/plain": [
       "Index(['PassengerId', 'Age', 'RoomService', 'FoodCourt', 'ShoppingMall', 'Spa',\n",
       "       'VRDeck', 'Europa', 'Mars', 'CryoSleep', 'VIP', 'PSO J318.5-22',\n",
       "       'TRAPPIST-1e', 'Transported'],\n",
       "      dtype='object')"
      ]
     },
     "execution_count": 35,
     "metadata": {},
     "output_type": "execute_result"
    }
   ],
   "source": [
    "train.columns"
   ]
  },
  {
   "cell_type": "code",
   "execution_count": 36,
   "id": "d64feab0",
   "metadata": {
    "execution": {
     "iopub.execute_input": "2024-07-29T16:23:13.610951Z",
     "iopub.status.busy": "2024-07-29T16:23:13.610576Z",
     "iopub.status.idle": "2024-07-29T16:23:13.617652Z",
     "shell.execute_reply": "2024-07-29T16:23:13.616590Z"
    },
    "papermill": {
     "duration": 0.028458,
     "end_time": "2024-07-29T16:23:13.620096",
     "exception": false,
     "start_time": "2024-07-29T16:23:13.591638",
     "status": "completed"
    },
    "tags": []
   },
   "outputs": [],
   "source": [
    "X_train = train[['Europa','Mars','CryoSleep', 'VIP']]\n",
    "y_train = train['Transported']"
   ]
  },
  {
   "cell_type": "code",
   "execution_count": 37,
   "id": "8ebadda8",
   "metadata": {
    "execution": {
     "iopub.execute_input": "2024-07-29T16:23:13.658111Z",
     "iopub.status.busy": "2024-07-29T16:23:13.657718Z",
     "iopub.status.idle": "2024-07-29T16:23:14.216012Z",
     "shell.execute_reply": "2024-07-29T16:23:14.214653Z"
    },
    "papermill": {
     "duration": 0.580805,
     "end_time": "2024-07-29T16:23:14.218754",
     "exception": false,
     "start_time": "2024-07-29T16:23:13.637949",
     "status": "completed"
    },
    "tags": []
   },
   "outputs": [],
   "source": [
    "from sklearn.ensemble import RandomForestClassifier\n",
    "rfc = RandomForestClassifier()"
   ]
  },
  {
   "cell_type": "code",
   "execution_count": 38,
   "id": "1da1f516",
   "metadata": {
    "execution": {
     "iopub.execute_input": "2024-07-29T16:23:14.257258Z",
     "iopub.status.busy": "2024-07-29T16:23:14.256382Z",
     "iopub.status.idle": "2024-07-29T16:23:14.645333Z",
     "shell.execute_reply": "2024-07-29T16:23:14.643363Z"
    },
    "papermill": {
     "duration": 0.411579,
     "end_time": "2024-07-29T16:23:14.648857",
     "exception": false,
     "start_time": "2024-07-29T16:23:14.237278",
     "status": "completed"
    },
    "tags": []
   },
   "outputs": [
    {
     "data": {
      "text/html": [
       "<style>#sk-container-id-1 {color: black;background-color: white;}#sk-container-id-1 pre{padding: 0;}#sk-container-id-1 div.sk-toggleable {background-color: white;}#sk-container-id-1 label.sk-toggleable__label {cursor: pointer;display: block;width: 100%;margin-bottom: 0;padding: 0.3em;box-sizing: border-box;text-align: center;}#sk-container-id-1 label.sk-toggleable__label-arrow:before {content: \"▸\";float: left;margin-right: 0.25em;color: #696969;}#sk-container-id-1 label.sk-toggleable__label-arrow:hover:before {color: black;}#sk-container-id-1 div.sk-estimator:hover label.sk-toggleable__label-arrow:before {color: black;}#sk-container-id-1 div.sk-toggleable__content {max-height: 0;max-width: 0;overflow: hidden;text-align: left;background-color: #f0f8ff;}#sk-container-id-1 div.sk-toggleable__content pre {margin: 0.2em;color: black;border-radius: 0.25em;background-color: #f0f8ff;}#sk-container-id-1 input.sk-toggleable__control:checked~div.sk-toggleable__content {max-height: 200px;max-width: 100%;overflow: auto;}#sk-container-id-1 input.sk-toggleable__control:checked~label.sk-toggleable__label-arrow:before {content: \"▾\";}#sk-container-id-1 div.sk-estimator input.sk-toggleable__control:checked~label.sk-toggleable__label {background-color: #d4ebff;}#sk-container-id-1 div.sk-label input.sk-toggleable__control:checked~label.sk-toggleable__label {background-color: #d4ebff;}#sk-container-id-1 input.sk-hidden--visually {border: 0;clip: rect(1px 1px 1px 1px);clip: rect(1px, 1px, 1px, 1px);height: 1px;margin: -1px;overflow: hidden;padding: 0;position: absolute;width: 1px;}#sk-container-id-1 div.sk-estimator {font-family: monospace;background-color: #f0f8ff;border: 1px dotted black;border-radius: 0.25em;box-sizing: border-box;margin-bottom: 0.5em;}#sk-container-id-1 div.sk-estimator:hover {background-color: #d4ebff;}#sk-container-id-1 div.sk-parallel-item::after {content: \"\";width: 100%;border-bottom: 1px solid gray;flex-grow: 1;}#sk-container-id-1 div.sk-label:hover label.sk-toggleable__label {background-color: #d4ebff;}#sk-container-id-1 div.sk-serial::before {content: \"\";position: absolute;border-left: 1px solid gray;box-sizing: border-box;top: 0;bottom: 0;left: 50%;z-index: 0;}#sk-container-id-1 div.sk-serial {display: flex;flex-direction: column;align-items: center;background-color: white;padding-right: 0.2em;padding-left: 0.2em;position: relative;}#sk-container-id-1 div.sk-item {position: relative;z-index: 1;}#sk-container-id-1 div.sk-parallel {display: flex;align-items: stretch;justify-content: center;background-color: white;position: relative;}#sk-container-id-1 div.sk-item::before, #sk-container-id-1 div.sk-parallel-item::before {content: \"\";position: absolute;border-left: 1px solid gray;box-sizing: border-box;top: 0;bottom: 0;left: 50%;z-index: -1;}#sk-container-id-1 div.sk-parallel-item {display: flex;flex-direction: column;z-index: 1;position: relative;background-color: white;}#sk-container-id-1 div.sk-parallel-item:first-child::after {align-self: flex-end;width: 50%;}#sk-container-id-1 div.sk-parallel-item:last-child::after {align-self: flex-start;width: 50%;}#sk-container-id-1 div.sk-parallel-item:only-child::after {width: 0;}#sk-container-id-1 div.sk-dashed-wrapped {border: 1px dashed gray;margin: 0 0.4em 0.5em 0.4em;box-sizing: border-box;padding-bottom: 0.4em;background-color: white;}#sk-container-id-1 div.sk-label label {font-family: monospace;font-weight: bold;display: inline-block;line-height: 1.2em;}#sk-container-id-1 div.sk-label-container {text-align: center;}#sk-container-id-1 div.sk-container {/* jupyter's `normalize.less` sets `[hidden] { display: none; }` but bootstrap.min.css set `[hidden] { display: none !important; }` so we also need the `!important` here to be able to override the default hidden behavior on the sphinx rendered scikit-learn.org. See: https://github.com/scikit-learn/scikit-learn/issues/21755 */display: inline-block !important;position: relative;}#sk-container-id-1 div.sk-text-repr-fallback {display: none;}</style><div id=\"sk-container-id-1\" class=\"sk-top-container\"><div class=\"sk-text-repr-fallback\"><pre>RandomForestClassifier()</pre><b>In a Jupyter environment, please rerun this cell to show the HTML representation or trust the notebook. <br />On GitHub, the HTML representation is unable to render, please try loading this page with nbviewer.org.</b></div><div class=\"sk-container\" hidden><div class=\"sk-item\"><div class=\"sk-estimator sk-toggleable\"><input class=\"sk-toggleable__control sk-hidden--visually\" id=\"sk-estimator-id-1\" type=\"checkbox\" checked><label for=\"sk-estimator-id-1\" class=\"sk-toggleable__label sk-toggleable__label-arrow\">RandomForestClassifier</label><div class=\"sk-toggleable__content\"><pre>RandomForestClassifier()</pre></div></div></div></div></div>"
      ],
      "text/plain": [
       "RandomForestClassifier()"
      ]
     },
     "execution_count": 38,
     "metadata": {},
     "output_type": "execute_result"
    }
   ],
   "source": [
    "# May take awhile!\n",
    "rfc.fit(X_train,y_train)"
   ]
  },
  {
   "cell_type": "code",
   "execution_count": 39,
   "id": "6a8727db",
   "metadata": {
    "execution": {
     "iopub.execute_input": "2024-07-29T16:23:14.700327Z",
     "iopub.status.busy": "2024-07-29T16:23:14.699767Z",
     "iopub.status.idle": "2024-07-29T16:23:14.722727Z",
     "shell.execute_reply": "2024-07-29T16:23:14.721362Z"
    },
    "papermill": {
     "duration": 0.05257,
     "end_time": "2024-07-29T16:23:14.725851",
     "exception": false,
     "start_time": "2024-07-29T16:23:14.673281",
     "status": "completed"
    },
    "tags": []
   },
   "outputs": [
    {
     "data": {
      "text/html": [
       "<div>\n",
       "<style scoped>\n",
       "    .dataframe tbody tr th:only-of-type {\n",
       "        vertical-align: middle;\n",
       "    }\n",
       "\n",
       "    .dataframe tbody tr th {\n",
       "        vertical-align: top;\n",
       "    }\n",
       "\n",
       "    .dataframe thead th {\n",
       "        text-align: right;\n",
       "    }\n",
       "</style>\n",
       "<table border=\"1\" class=\"dataframe\">\n",
       "  <thead>\n",
       "    <tr style=\"text-align: right;\">\n",
       "      <th></th>\n",
       "      <th>PassengerId</th>\n",
       "      <th>HomePlanet</th>\n",
       "      <th>CryoSleep</th>\n",
       "      <th>Cabin</th>\n",
       "      <th>Destination</th>\n",
       "      <th>Age</th>\n",
       "      <th>VIP</th>\n",
       "      <th>RoomService</th>\n",
       "      <th>FoodCourt</th>\n",
       "      <th>ShoppingMall</th>\n",
       "      <th>Spa</th>\n",
       "      <th>VRDeck</th>\n",
       "      <th>Name</th>\n",
       "    </tr>\n",
       "  </thead>\n",
       "  <tbody>\n",
       "    <tr>\n",
       "      <th>0</th>\n",
       "      <td>0013_01</td>\n",
       "      <td>Earth</td>\n",
       "      <td>True</td>\n",
       "      <td>G/3/S</td>\n",
       "      <td>TRAPPIST-1e</td>\n",
       "      <td>27.0</td>\n",
       "      <td>False</td>\n",
       "      <td>0.0</td>\n",
       "      <td>0.0</td>\n",
       "      <td>0.0</td>\n",
       "      <td>0.0</td>\n",
       "      <td>0.0</td>\n",
       "      <td>Nelly Carsoning</td>\n",
       "    </tr>\n",
       "    <tr>\n",
       "      <th>1</th>\n",
       "      <td>0018_01</td>\n",
       "      <td>Earth</td>\n",
       "      <td>False</td>\n",
       "      <td>F/4/S</td>\n",
       "      <td>TRAPPIST-1e</td>\n",
       "      <td>19.0</td>\n",
       "      <td>False</td>\n",
       "      <td>0.0</td>\n",
       "      <td>9.0</td>\n",
       "      <td>0.0</td>\n",
       "      <td>2823.0</td>\n",
       "      <td>0.0</td>\n",
       "      <td>Lerome Peckers</td>\n",
       "    </tr>\n",
       "    <tr>\n",
       "      <th>2</th>\n",
       "      <td>0019_01</td>\n",
       "      <td>Europa</td>\n",
       "      <td>True</td>\n",
       "      <td>C/0/S</td>\n",
       "      <td>55 Cancri e</td>\n",
       "      <td>31.0</td>\n",
       "      <td>False</td>\n",
       "      <td>0.0</td>\n",
       "      <td>0.0</td>\n",
       "      <td>0.0</td>\n",
       "      <td>0.0</td>\n",
       "      <td>0.0</td>\n",
       "      <td>Sabih Unhearfus</td>\n",
       "    </tr>\n",
       "    <tr>\n",
       "      <th>3</th>\n",
       "      <td>0021_01</td>\n",
       "      <td>Europa</td>\n",
       "      <td>False</td>\n",
       "      <td>C/1/S</td>\n",
       "      <td>TRAPPIST-1e</td>\n",
       "      <td>38.0</td>\n",
       "      <td>False</td>\n",
       "      <td>0.0</td>\n",
       "      <td>6652.0</td>\n",
       "      <td>0.0</td>\n",
       "      <td>181.0</td>\n",
       "      <td>585.0</td>\n",
       "      <td>Meratz Caltilter</td>\n",
       "    </tr>\n",
       "    <tr>\n",
       "      <th>4</th>\n",
       "      <td>0023_01</td>\n",
       "      <td>Earth</td>\n",
       "      <td>False</td>\n",
       "      <td>F/5/S</td>\n",
       "      <td>TRAPPIST-1e</td>\n",
       "      <td>20.0</td>\n",
       "      <td>False</td>\n",
       "      <td>10.0</td>\n",
       "      <td>0.0</td>\n",
       "      <td>635.0</td>\n",
       "      <td>0.0</td>\n",
       "      <td>0.0</td>\n",
       "      <td>Brence Harperez</td>\n",
       "    </tr>\n",
       "  </tbody>\n",
       "</table>\n",
       "</div>"
      ],
      "text/plain": [
       "  PassengerId HomePlanet CryoSleep  Cabin  Destination   Age    VIP  \\\n",
       "0     0013_01      Earth      True  G/3/S  TRAPPIST-1e  27.0  False   \n",
       "1     0018_01      Earth     False  F/4/S  TRAPPIST-1e  19.0  False   \n",
       "2     0019_01     Europa      True  C/0/S  55 Cancri e  31.0  False   \n",
       "3     0021_01     Europa     False  C/1/S  TRAPPIST-1e  38.0  False   \n",
       "4     0023_01      Earth     False  F/5/S  TRAPPIST-1e  20.0  False   \n",
       "\n",
       "   RoomService  FoodCourt  ShoppingMall     Spa  VRDeck              Name  \n",
       "0          0.0        0.0           0.0     0.0     0.0   Nelly Carsoning  \n",
       "1          0.0        9.0           0.0  2823.0     0.0    Lerome Peckers  \n",
       "2          0.0        0.0           0.0     0.0     0.0   Sabih Unhearfus  \n",
       "3          0.0     6652.0           0.0   181.0   585.0  Meratz Caltilter  \n",
       "4         10.0        0.0         635.0     0.0     0.0   Brence Harperez  "
      ]
     },
     "execution_count": 39,
     "metadata": {},
     "output_type": "execute_result"
    }
   ],
   "source": [
    "test.head()"
   ]
  },
  {
   "cell_type": "code",
   "execution_count": 40,
   "id": "42c7e1c5",
   "metadata": {
    "execution": {
     "iopub.execute_input": "2024-07-29T16:23:14.766787Z",
     "iopub.status.busy": "2024-07-29T16:23:14.766385Z",
     "iopub.status.idle": "2024-07-29T16:23:15.095255Z",
     "shell.execute_reply": "2024-07-29T16:23:15.094057Z"
    },
    "papermill": {
     "duration": 0.350922,
     "end_time": "2024-07-29T16:23:15.097752",
     "exception": false,
     "start_time": "2024-07-29T16:23:14.746830",
     "status": "completed"
    },
    "tags": []
   },
   "outputs": [
    {
     "data": {
      "text/plain": [
       "<Axes: >"
      ]
     },
     "execution_count": 40,
     "metadata": {},
     "output_type": "execute_result"
    },
    {
     "data": {
      "image/png": "[encoded data removed]",
      "text/plain": [
       "<Figure size 640x480 with 1 Axes>"
      ]
     },
     "metadata": {},
     "output_type": "display_data"
    }
   ],
   "source": [
    "sns.heatmap(test.isnull(),yticklabels=False,cbar=False,cmap='viridis')"
   ]
  },
  {
   "cell_type": "code",
   "execution_count": 41,
   "id": "b04167da",
   "metadata": {
    "execution": {
     "iopub.execute_input": "2024-07-29T16:23:15.136808Z",
     "iopub.status.busy": "2024-07-29T16:23:15.136421Z",
     "iopub.status.idle": "2024-07-29T16:23:15.147938Z",
     "shell.execute_reply": "2024-07-29T16:23:15.147021Z"
    },
    "papermill": {
     "duration": 0.034116,
     "end_time": "2024-07-29T16:23:15.150551",
     "exception": false,
     "start_time": "2024-07-29T16:23:15.116435",
     "status": "completed"
    },
    "tags": []
   },
   "outputs": [],
   "source": [
    "homeplanet = pd.get_dummies(test.HomePlanet,drop_first =True).astype(int)\n",
    "cryosleep = pd.get_dummies(test.CryoSleep, drop_first=True).astype(int)\n",
    "destination = pd.get_dummies(test.Destination, drop_first=True).astype(int)"
   ]
  },
  {
   "cell_type": "code",
   "execution_count": 42,
   "id": "8f6dec14",
   "metadata": {
    "execution": {
     "iopub.execute_input": "2024-07-29T16:23:15.190213Z",
     "iopub.status.busy": "2024-07-29T16:23:15.189805Z",
     "iopub.status.idle": "2024-07-29T16:23:15.196601Z",
     "shell.execute_reply": "2024-07-29T16:23:15.195481Z"
    },
    "papermill": {
     "duration": 0.029646,
     "end_time": "2024-07-29T16:23:15.199199",
     "exception": false,
     "start_time": "2024-07-29T16:23:15.169553",
     "status": "completed"
    },
    "tags": []
   },
   "outputs": [],
   "source": [
    "test.drop([ 'HomePlanet', 'CryoSleep', 'Destination'], axis=1, inplace=True)"
   ]
  },
  {
   "cell_type": "code",
   "execution_count": 43,
   "id": "aef4028c",
   "metadata": {
    "execution": {
     "iopub.execute_input": "2024-07-29T16:23:15.240636Z",
     "iopub.status.busy": "2024-07-29T16:23:15.240239Z",
     "iopub.status.idle": "2024-07-29T16:23:15.247339Z",
     "shell.execute_reply": "2024-07-29T16:23:15.246065Z"
    },
    "papermill": {
     "duration": 0.031061,
     "end_time": "2024-07-29T16:23:15.249986",
     "exception": false,
     "start_time": "2024-07-29T16:23:15.218925",
     "status": "completed"
    },
    "tags": []
   },
   "outputs": [],
   "source": [
    "test = pd.concat([test,homeplanet, cryosleep, destination], axis=1)"
   ]
  },
  {
   "cell_type": "code",
   "execution_count": 44,
   "id": "d5ebd24f",
   "metadata": {
    "execution": {
     "iopub.execute_input": "2024-07-29T16:23:15.293800Z",
     "iopub.status.busy": "2024-07-29T16:23:15.293263Z",
     "iopub.status.idle": "2024-07-29T16:23:15.300754Z",
     "shell.execute_reply": "2024-07-29T16:23:15.299358Z"
    },
    "papermill": {
     "duration": 0.034363,
     "end_time": "2024-07-29T16:23:15.303725",
     "exception": false,
     "start_time": "2024-07-29T16:23:15.269362",
     "status": "completed"
    },
    "tags": []
   },
   "outputs": [],
   "source": [
    "test.rename(columns={True: 'CryoSleep'}, inplace=True)"
   ]
  },
  {
   "cell_type": "code",
   "execution_count": 45,
   "id": "2e272bfb",
   "metadata": {
    "execution": {
     "iopub.execute_input": "2024-07-29T16:23:15.354339Z",
     "iopub.status.busy": "2024-07-29T16:23:15.353801Z",
     "iopub.status.idle": "2024-07-29T16:23:15.363213Z",
     "shell.execute_reply": "2024-07-29T16:23:15.361839Z"
    },
    "papermill": {
     "duration": 0.037523,
     "end_time": "2024-07-29T16:23:15.365666",
     "exception": false,
     "start_time": "2024-07-29T16:23:15.328143",
     "status": "completed"
    },
    "tags": []
   },
   "outputs": [],
   "source": [
    "vip = pd.get_dummies(test.VIP, drop_first=True).astype(int)"
   ]
  },
  {
   "cell_type": "code",
   "execution_count": 46,
   "id": "6cd33501",
   "metadata": {
    "execution": {
     "iopub.execute_input": "2024-07-29T16:23:15.406232Z",
     "iopub.status.busy": "2024-07-29T16:23:15.405833Z",
     "iopub.status.idle": "2024-07-29T16:23:15.413355Z",
     "shell.execute_reply": "2024-07-29T16:23:15.412150Z"
    },
    "papermill": {
     "duration": 0.030878,
     "end_time": "2024-07-29T16:23:15.415737",
     "exception": false,
     "start_time": "2024-07-29T16:23:15.384859",
     "status": "completed"
    },
    "tags": []
   },
   "outputs": [],
   "source": [
    "test.drop(['VIP'], axis=1, inplace=True)"
   ]
  },
  {
   "cell_type": "code",
   "execution_count": 47,
   "id": "618c7b3e",
   "metadata": {
    "execution": {
     "iopub.execute_input": "2024-07-29T16:23:15.456240Z",
     "iopub.status.busy": "2024-07-29T16:23:15.455832Z",
     "iopub.status.idle": "2024-07-29T16:23:15.462659Z",
     "shell.execute_reply": "2024-07-29T16:23:15.461621Z"
    },
    "papermill": {
     "duration": 0.029323,
     "end_time": "2024-07-29T16:23:15.464985",
     "exception": false,
     "start_time": "2024-07-29T16:23:15.435662",
     "status": "completed"
    },
    "tags": []
   },
   "outputs": [],
   "source": [
    "test = pd.concat([test,vip], axis=1)"
   ]
  },
  {
   "cell_type": "code",
   "execution_count": 48,
   "id": "01fc1787",
   "metadata": {
    "execution": {
     "iopub.execute_input": "2024-07-29T16:23:15.505040Z",
     "iopub.status.busy": "2024-07-29T16:23:15.504450Z",
     "iopub.status.idle": "2024-07-29T16:23:15.510587Z",
     "shell.execute_reply": "2024-07-29T16:23:15.509508Z"
    },
    "papermill": {
     "duration": 0.029213,
     "end_time": "2024-07-29T16:23:15.513081",
     "exception": false,
     "start_time": "2024-07-29T16:23:15.483868",
     "status": "completed"
    },
    "tags": []
   },
   "outputs": [],
   "source": [
    "test.rename(columns={True: 'VIP'}, inplace=True)"
   ]
  },
  {
   "cell_type": "code",
   "execution_count": 49,
   "id": "d46221aa",
   "metadata": {
    "execution": {
     "iopub.execute_input": "2024-07-29T16:23:15.553244Z",
     "iopub.status.busy": "2024-07-29T16:23:15.552804Z",
     "iopub.status.idle": "2024-07-29T16:23:15.572517Z",
     "shell.execute_reply": "2024-07-29T16:23:15.571058Z"
    },
    "papermill": {
     "duration": 0.042505,
     "end_time": "2024-07-29T16:23:15.574923",
     "exception": false,
     "start_time": "2024-07-29T16:23:15.532418",
     "status": "completed"
    },
    "tags": []
   },
   "outputs": [
    {
     "data": {
      "text/html": [
       "<div>\n",
       "<style scoped>\n",
       "    .dataframe tbody tr th:only-of-type {\n",
       "        vertical-align: middle;\n",
       "    }\n",
       "\n",
       "    .dataframe tbody tr th {\n",
       "        vertical-align: top;\n",
       "    }\n",
       "\n",
       "    .dataframe thead th {\n",
       "        text-align: right;\n",
       "    }\n",
       "</style>\n",
       "<table border=\"1\" class=\"dataframe\">\n",
       "  <thead>\n",
       "    <tr style=\"text-align: right;\">\n",
       "      <th></th>\n",
       "      <th>PassengerId</th>\n",
       "      <th>Cabin</th>\n",
       "      <th>Age</th>\n",
       "      <th>RoomService</th>\n",
       "      <th>FoodCourt</th>\n",
       "      <th>ShoppingMall</th>\n",
       "      <th>Spa</th>\n",
       "      <th>VRDeck</th>\n",
       "      <th>Name</th>\n",
       "      <th>Europa</th>\n",
       "      <th>Mars</th>\n",
       "      <th>CryoSleep</th>\n",
       "      <th>PSO J318.5-22</th>\n",
       "      <th>TRAPPIST-1e</th>\n",
       "      <th>VIP</th>\n",
       "    </tr>\n",
       "  </thead>\n",
       "  <tbody>\n",
       "    <tr>\n",
       "      <th>0</th>\n",
       "      <td>0013_01</td>\n",
       "      <td>G/3/S</td>\n",
       "      <td>27.0</td>\n",
       "      <td>0.0</td>\n",
       "      <td>0.0</td>\n",
       "      <td>0.0</td>\n",
       "      <td>0.0</td>\n",
       "      <td>0.0</td>\n",
       "      <td>Nelly Carsoning</td>\n",
       "      <td>0</td>\n",
       "      <td>0</td>\n",
       "      <td>1</td>\n",
       "      <td>0</td>\n",
       "      <td>1</td>\n",
       "      <td>0</td>\n",
       "    </tr>\n",
       "    <tr>\n",
       "      <th>1</th>\n",
       "      <td>0018_01</td>\n",
       "      <td>F/4/S</td>\n",
       "      <td>19.0</td>\n",
       "      <td>0.0</td>\n",
       "      <td>9.0</td>\n",
       "      <td>0.0</td>\n",
       "      <td>2823.0</td>\n",
       "      <td>0.0</td>\n",
       "      <td>Lerome Peckers</td>\n",
       "      <td>0</td>\n",
       "      <td>0</td>\n",
       "      <td>0</td>\n",
       "      <td>0</td>\n",
       "      <td>1</td>\n",
       "      <td>0</td>\n",
       "    </tr>\n",
       "    <tr>\n",
       "      <th>2</th>\n",
       "      <td>0019_01</td>\n",
       "      <td>C/0/S</td>\n",
       "      <td>31.0</td>\n",
       "      <td>0.0</td>\n",
       "      <td>0.0</td>\n",
       "      <td>0.0</td>\n",
       "      <td>0.0</td>\n",
       "      <td>0.0</td>\n",
       "      <td>Sabih Unhearfus</td>\n",
       "      <td>1</td>\n",
       "      <td>0</td>\n",
       "      <td>1</td>\n",
       "      <td>0</td>\n",
       "      <td>0</td>\n",
       "      <td>0</td>\n",
       "    </tr>\n",
       "    <tr>\n",
       "      <th>3</th>\n",
       "      <td>0021_01</td>\n",
       "      <td>C/1/S</td>\n",
       "      <td>38.0</td>\n",
       "      <td>0.0</td>\n",
       "      <td>6652.0</td>\n",
       "      <td>0.0</td>\n",
       "      <td>181.0</td>\n",
       "      <td>585.0</td>\n",
       "      <td>Meratz Caltilter</td>\n",
       "      <td>1</td>\n",
       "      <td>0</td>\n",
       "      <td>0</td>\n",
       "      <td>0</td>\n",
       "      <td>1</td>\n",
       "      <td>0</td>\n",
       "    </tr>\n",
       "    <tr>\n",
       "      <th>4</th>\n",
       "      <td>0023_01</td>\n",
       "      <td>F/5/S</td>\n",
       "      <td>20.0</td>\n",
       "      <td>10.0</td>\n",
       "      <td>0.0</td>\n",
       "      <td>635.0</td>\n",
       "      <td>0.0</td>\n",
       "      <td>0.0</td>\n",
       "      <td>Brence Harperez</td>\n",
       "      <td>0</td>\n",
       "      <td>0</td>\n",
       "      <td>0</td>\n",
       "      <td>0</td>\n",
       "      <td>1</td>\n",
       "      <td>0</td>\n",
       "    </tr>\n",
       "  </tbody>\n",
       "</table>\n",
       "</div>"
      ],
      "text/plain": [
       "  PassengerId  Cabin   Age  RoomService  FoodCourt  ShoppingMall     Spa  \\\n",
       "0     0013_01  G/3/S  27.0          0.0        0.0           0.0     0.0   \n",
       "1     0018_01  F/4/S  19.0          0.0        9.0           0.0  2823.0   \n",
       "2     0019_01  C/0/S  31.0          0.0        0.0           0.0     0.0   \n",
       "3     0021_01  C/1/S  38.0          0.0     6652.0           0.0   181.0   \n",
       "4     0023_01  F/5/S  20.0         10.0        0.0         635.0     0.0   \n",
       "\n",
       "   VRDeck              Name  Europa  Mars  CryoSleep  PSO J318.5-22  \\\n",
       "0     0.0   Nelly Carsoning       0     0          1              0   \n",
       "1     0.0    Lerome Peckers       0     0          0              0   \n",
       "2     0.0   Sabih Unhearfus       1     0          1              0   \n",
       "3   585.0  Meratz Caltilter       1     0          0              0   \n",
       "4     0.0   Brence Harperez       0     0          0              0   \n",
       "\n",
       "   TRAPPIST-1e  VIP  \n",
       "0            1    0  \n",
       "1            1    0  \n",
       "2            0    0  \n",
       "3            1    0  \n",
       "4            1    0  "
      ]
     },
     "execution_count": 49,
     "metadata": {},
     "output_type": "execute_result"
    }
   ],
   "source": [
    "test.head()"
   ]
  },
  {
   "cell_type": "code",
   "execution_count": 50,
   "id": "2efcd364",
   "metadata": {
    "execution": {
     "iopub.execute_input": "2024-07-29T16:23:15.616679Z",
     "iopub.status.busy": "2024-07-29T16:23:15.616295Z",
     "iopub.status.idle": "2024-07-29T16:23:15.623259Z",
     "shell.execute_reply": "2024-07-29T16:23:15.621976Z"
    },
    "papermill": {
     "duration": 0.03016,
     "end_time": "2024-07-29T16:23:15.625657",
     "exception": false,
     "start_time": "2024-07-29T16:23:15.595497",
     "status": "completed"
    },
    "tags": []
   },
   "outputs": [],
   "source": [
    "test.drop(['Cabin','Name'],axis=1,inplace=True)"
   ]
  },
  {
   "cell_type": "code",
   "execution_count": 51,
   "id": "d8f79379",
   "metadata": {
    "execution": {
     "iopub.execute_input": "2024-07-29T16:23:15.665956Z",
     "iopub.status.busy": "2024-07-29T16:23:15.665549Z",
     "iopub.status.idle": "2024-07-29T16:23:15.672651Z",
     "shell.execute_reply": "2024-07-29T16:23:15.671486Z"
    },
    "papermill": {
     "duration": 0.029881,
     "end_time": "2024-07-29T16:23:15.674951",
     "exception": false,
     "start_time": "2024-07-29T16:23:15.645070",
     "status": "completed"
    },
    "tags": []
   },
   "outputs": [],
   "source": [
    "new_order = [  'PassengerId','Age','RoomService','FoodCourt','ShoppingMall','Spa','VRDeck','Europa','Mars',\n",
    "                  \"CryoSleep\", 'VIP','PSO J318.5-22','TRAPPIST-1e']\n",
    "\n",
    "test = test[new_order]"
   ]
  },
  {
   "cell_type": "code",
   "execution_count": 52,
   "id": "b1cd068b",
   "metadata": {
    "execution": {
     "iopub.execute_input": "2024-07-29T16:23:15.715310Z",
     "iopub.status.busy": "2024-07-29T16:23:15.714905Z",
     "iopub.status.idle": "2024-07-29T16:23:15.720011Z",
     "shell.execute_reply": "2024-07-29T16:23:15.718659Z"
    },
    "papermill": {
     "duration": 0.028444,
     "end_time": "2024-07-29T16:23:15.722493",
     "exception": false,
     "start_time": "2024-07-29T16:23:15.694049",
     "status": "completed"
    },
    "tags": []
   },
   "outputs": [],
   "source": [
    "# train['PassengerId'] = train[[\"PassengerId\"]].astype(int)"
   ]
  },
  {
   "cell_type": "code",
   "execution_count": 53,
   "id": "eba3fd24",
   "metadata": {
    "execution": {
     "iopub.execute_input": "2024-07-29T16:23:15.763331Z",
     "iopub.status.busy": "2024-07-29T16:23:15.762889Z",
     "iopub.status.idle": "2024-07-29T16:23:15.785986Z",
     "shell.execute_reply": "2024-07-29T16:23:15.784677Z"
    },
    "papermill": {
     "duration": 0.047476,
     "end_time": "2024-07-29T16:23:15.789049",
     "exception": false,
     "start_time": "2024-07-29T16:23:15.741573",
     "status": "completed"
    },
    "tags": []
   },
   "outputs": [],
   "source": [
    "mode_values = test.mode().iloc[0]\n",
    "\n",
    "# Fill NaN values with the mode\n",
    "test.fillna(mode_values, inplace=True)"
   ]
  },
  {
   "cell_type": "code",
   "execution_count": 54,
   "id": "29812ea1",
   "metadata": {
    "execution": {
     "iopub.execute_input": "2024-07-29T16:23:15.828734Z",
     "iopub.status.busy": "2024-07-29T16:23:15.828359Z",
     "iopub.status.idle": "2024-07-29T16:23:15.835372Z",
     "shell.execute_reply": "2024-07-29T16:23:15.834293Z"
    },
    "papermill": {
     "duration": 0.029576,
     "end_time": "2024-07-29T16:23:15.837659",
     "exception": false,
     "start_time": "2024-07-29T16:23:15.808083",
     "status": "completed"
    },
    "tags": []
   },
   "outputs": [
    {
     "data": {
      "text/plain": [
       "Index(['PassengerId', 'Age', 'RoomService', 'FoodCourt', 'ShoppingMall', 'Spa',\n",
       "       'VRDeck', 'Europa', 'Mars', 'CryoSleep', 'VIP', 'PSO J318.5-22',\n",
       "       'TRAPPIST-1e'],\n",
       "      dtype='object')"
      ]
     },
     "execution_count": 54,
     "metadata": {},
     "output_type": "execute_result"
    }
   ],
   "source": [
    "test.columns"
   ]
  },
  {
   "cell_type": "code",
   "execution_count": 55,
   "id": "2b99285a",
   "metadata": {
    "execution": {
     "iopub.execute_input": "2024-07-29T16:23:15.878331Z",
     "iopub.status.busy": "2024-07-29T16:23:15.877240Z",
     "iopub.status.idle": "2024-07-29T16:23:15.883868Z",
     "shell.execute_reply": "2024-07-29T16:23:15.882581Z"
    },
    "papermill": {
     "duration": 0.029335,
     "end_time": "2024-07-29T16:23:15.886224",
     "exception": false,
     "start_time": "2024-07-29T16:23:15.856889",
     "status": "completed"
    },
    "tags": []
   },
   "outputs": [],
   "source": [
    "X_test  = test[['Europa','Mars','CryoSleep', 'VIP']]"
   ]
  },
  {
   "cell_type": "code",
   "execution_count": 56,
   "id": "14b65165",
   "metadata": {
    "execution": {
     "iopub.execute_input": "2024-07-29T16:23:15.927184Z",
     "iopub.status.busy": "2024-07-29T16:23:15.926779Z",
     "iopub.status.idle": "2024-07-29T16:23:15.965709Z",
     "shell.execute_reply": "2024-07-29T16:23:15.964727Z"
    },
    "papermill": {
     "duration": 0.062421,
     "end_time": "2024-07-29T16:23:15.968385",
     "exception": false,
     "start_time": "2024-07-29T16:23:15.905964",
     "status": "completed"
    },
    "tags": []
   },
   "outputs": [],
   "source": [
    "pred = rfc.predict(X_test)"
   ]
  },
  {
   "cell_type": "code",
   "execution_count": 57,
   "id": "0fdcd1ad",
   "metadata": {
    "execution": {
     "iopub.execute_input": "2024-07-29T16:23:16.008907Z",
     "iopub.status.busy": "2024-07-29T16:23:16.008499Z",
     "iopub.status.idle": "2024-07-29T16:23:16.015945Z",
     "shell.execute_reply": "2024-07-29T16:23:16.014905Z"
    },
    "papermill": {
     "duration": 0.030932,
     "end_time": "2024-07-29T16:23:16.018661",
     "exception": false,
     "start_time": "2024-07-29T16:23:15.987729",
     "status": "completed"
    },
    "tags": []
   },
   "outputs": [
    {
     "data": {
      "text/plain": [
       "array([1, 0, 1, ..., 1, 0, 1])"
      ]
     },
     "execution_count": 57,
     "metadata": {},
     "output_type": "execute_result"
    }
   ],
   "source": [
    "pred"
   ]
  },
  {
   "cell_type": "code",
   "execution_count": null,
   "id": "7b9f9bb6",
   "metadata": {
    "papermill": {
     "duration": 0.019055,
     "end_time": "2024-07-29T16:23:16.057659",
     "exception": false,
     "start_time": "2024-07-29T16:23:16.038604",
     "status": "completed"
    },
    "tags": []
   },
   "outputs": [],
   "source": []
  },
  {
   "cell_type": "code",
   "execution_count": 58,
   "id": "56fee497",
   "metadata": {
    "execution": {
     "iopub.execute_input": "2024-07-29T16:23:16.098176Z",
     "iopub.status.busy": "2024-07-29T16:23:16.097744Z",
     "iopub.status.idle": "2024-07-29T16:23:16.103737Z",
     "shell.execute_reply": "2024-07-29T16:23:16.102645Z"
    },
    "papermill": {
     "duration": 0.029111,
     "end_time": "2024-07-29T16:23:16.106051",
     "exception": false,
     "start_time": "2024-07-29T16:23:16.076940",
     "status": "completed"
    },
    "tags": []
   },
   "outputs": [],
   "source": [
    "output = pd.DataFrame({'PassengerId': test.PassengerId, 'Transported': pred})"
   ]
  },
  {
   "cell_type": "code",
   "execution_count": 59,
   "id": "8d66ec4b",
   "metadata": {
    "execution": {
     "iopub.execute_input": "2024-07-29T16:23:16.147064Z",
     "iopub.status.busy": "2024-07-29T16:23:16.146191Z",
     "iopub.status.idle": "2024-07-29T16:23:16.158428Z",
     "shell.execute_reply": "2024-07-29T16:23:16.157218Z"
    },
    "papermill": {
     "duration": 0.035186,
     "end_time": "2024-07-29T16:23:16.160965",
     "exception": false,
     "start_time": "2024-07-29T16:23:16.125779",
     "status": "completed"
    },
    "tags": []
   },
   "outputs": [
    {
     "data": {
      "text/html": [
       "<div>\n",
       "<style scoped>\n",
       "    .dataframe tbody tr th:only-of-type {\n",
       "        vertical-align: middle;\n",
       "    }\n",
       "\n",
       "    .dataframe tbody tr th {\n",
       "        vertical-align: top;\n",
       "    }\n",
       "\n",
       "    .dataframe thead th {\n",
       "        text-align: right;\n",
       "    }\n",
       "</style>\n",
       "<table border=\"1\" class=\"dataframe\">\n",
       "  <thead>\n",
       "    <tr style=\"text-align: right;\">\n",
       "      <th></th>\n",
       "      <th>PassengerId</th>\n",
       "      <th>Transported</th>\n",
       "    </tr>\n",
       "  </thead>\n",
       "  <tbody>\n",
       "    <tr>\n",
       "      <th>0</th>\n",
       "      <td>0013_01</td>\n",
       "      <td>1</td>\n",
       "    </tr>\n",
       "    <tr>\n",
       "      <th>1</th>\n",
       "      <td>0018_01</td>\n",
       "      <td>0</td>\n",
       "    </tr>\n",
       "    <tr>\n",
       "      <th>2</th>\n",
       "      <td>0019_01</td>\n",
       "      <td>1</td>\n",
       "    </tr>\n",
       "    <tr>\n",
       "      <th>3</th>\n",
       "      <td>0021_01</td>\n",
       "      <td>0</td>\n",
       "    </tr>\n",
       "    <tr>\n",
       "      <th>4</th>\n",
       "      <td>0023_01</td>\n",
       "      <td>0</td>\n",
       "    </tr>\n",
       "    <tr>\n",
       "      <th>...</th>\n",
       "      <td>...</td>\n",
       "      <td>...</td>\n",
       "    </tr>\n",
       "    <tr>\n",
       "      <th>4272</th>\n",
       "      <td>9266_02</td>\n",
       "      <td>1</td>\n",
       "    </tr>\n",
       "    <tr>\n",
       "      <th>4273</th>\n",
       "      <td>9269_01</td>\n",
       "      <td>0</td>\n",
       "    </tr>\n",
       "    <tr>\n",
       "      <th>4274</th>\n",
       "      <td>9271_01</td>\n",
       "      <td>1</td>\n",
       "    </tr>\n",
       "    <tr>\n",
       "      <th>4275</th>\n",
       "      <td>9273_01</td>\n",
       "      <td>0</td>\n",
       "    </tr>\n",
       "    <tr>\n",
       "      <th>4276</th>\n",
       "      <td>9277_01</td>\n",
       "      <td>1</td>\n",
       "    </tr>\n",
       "  </tbody>\n",
       "</table>\n",
       "<p>4277 rows × 2 columns</p>\n",
       "</div>"
      ],
      "text/plain": [
       "     PassengerId  Transported\n",
       "0        0013_01            1\n",
       "1        0018_01            0\n",
       "2        0019_01            1\n",
       "3        0021_01            0\n",
       "4        0023_01            0\n",
       "...          ...          ...\n",
       "4272     9266_02            1\n",
       "4273     9269_01            0\n",
       "4274     9271_01            1\n",
       "4275     9273_01            0\n",
       "4276     9277_01            1\n",
       "\n",
       "[4277 rows x 2 columns]"
      ]
     },
     "execution_count": 59,
     "metadata": {},
     "output_type": "execute_result"
    }
   ],
   "source": [
    "output"
   ]
  },
  {
   "cell_type": "code",
   "execution_count": 60,
   "id": "782659e7",
   "metadata": {
    "execution": {
     "iopub.execute_input": "2024-07-29T16:23:16.203170Z",
     "iopub.status.busy": "2024-07-29T16:23:16.202049Z",
     "iopub.status.idle": "2024-07-29T16:23:16.214410Z",
     "shell.execute_reply": "2024-07-29T16:23:16.213328Z"
    },
    "papermill": {
     "duration": 0.035984,
     "end_time": "2024-07-29T16:23:16.217182",
     "exception": false,
     "start_time": "2024-07-29T16:23:16.181198",
     "status": "completed"
    },
    "tags": []
   },
   "outputs": [],
   "source": [
    "output.to_csv('submission.csv', index=False)"
   ]
  },
  {
   "cell_type": "code",
   "execution_count": null,
   "id": "b16f212f",
   "metadata": {
    "papermill": {
     "duration": 0.0194,
     "end_time": "2024-07-29T16:23:16.256306",
     "exception": false,
     "start_time": "2024-07-29T16:23:16.236906",
     "status": "completed"
    },
    "tags": []
   },
   "outputs": [],
   "source": []
  }
 ],
 "metadata": {
  "kaggle": {
   "accelerator": "none",
   "dataSources": [
    {
     "databundleVersionId": 3220602,
     "sourceId": 34377,
     "sourceType": "competition"
    }
   ],
   "dockerImageVersionId": 30746,
   "isGpuEnabled": false,
   "isInternetEnabled": true,
   "language": "python",
   "sourceType": "notebook"
  },
  "kernelspec": {
   "display_name": "Python 3",
   "language": "python",
   "name": "python3"
  },
  "language_info": {
   "codemirror_mode": {
    "name": "ipython",
    "version": 3
   },
   "file_extension": ".py",
   "mimetype": "text/x-python",
   "name": "python",
   "nbconvert_exporter": "python",
   "pygments_lexer": "ipython3",
   "version": "3.10.13"
  },
  "papermill": {
   "default_parameters": {},
   "duration": 11.573288,
   "end_time": "2024-07-29T16:23:16.897202",
   "environment_variables": {},
   "exception": null,
   "input_path": "__notebook__.ipynb",
   "output_path": "__notebook__.ipynb",
   "parameters": {},
   "start_time": "2024-07-29T16:23:05.323914",
   "version": "2.5.0"
  }
 },
 "nbformat": 4,
 "nbformat_minor": 5
}
