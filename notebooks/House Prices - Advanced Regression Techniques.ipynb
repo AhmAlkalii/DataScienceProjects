{
 "cells": [
  {
   "cell_type": "code",
   "execution_count": 1,
   "id": "6ce04b30",
   "metadata": {
    "_cell_guid": "b1076dfc-b9ad-4769-8c92-a6c4dae69d19",
    "_uuid": "8f2839f25d086af736a60e9eeb907d3b93b6e0e5",
    "execution": {
     "iopub.execute_input": "2024-07-24T11:46:30.981817Z",
     "iopub.status.busy": "2024-07-24T11:46:30.981376Z",
     "iopub.status.idle": "2024-07-24T11:46:31.955698Z",
     "shell.execute_reply": "2024-07-24T11:46:31.954386Z"
    },
    "papermill": {
     "duration": 0.996424,
     "end_time": "2024-07-24T11:46:31.958311",
     "exception": false,
     "start_time": "2024-07-24T11:46:30.961887",
     "status": "completed"
    },
    "tags": []
   },
   "outputs": [
    {
     "name": "stdout",
     "output_type": "stream",
     "text": [
      "/kaggle/input/house-prices-advanced-regression-techniques/sample_submission.csv\n",
      "/kaggle/input/house-prices-advanced-regression-techniques/data_description.txt\n",
      "/kaggle/input/house-prices-advanced-regression-techniques/train.csv\n",
      "/kaggle/input/house-prices-advanced-regression-techniques/test.csv\n"
     ]
    }
   ],
   "source": [
    "# This Python 3 environment comes with many helpful analytics libraries installed\n",
    "# It is defined by the kaggle/python Docker image: https://github.com/kaggle/docker-python\n",
    "# For example, here's several helpful packages to load\n",
    "\n",
    "import numpy as np # linear algebra\n",
    "import pandas as pd # data processing, CSV file I/O (e.g. pd.read_csv)\n",
    "\n",
    "# Input data files are available in the read-only \"../input/\" directory\n",
    "# For example, running this (by clicking run or pressing Shift+Enter) will list all files under the input directory\n",
    "\n",
    "import os\n",
    "for dirname, _, filenames in os.walk('/kaggle/input'):\n",
    "    for filename in filenames:\n",
    "        print(os.path.join(dirname, filename))\n",
    "\n",
    "# You can write up to 20GB to the current directory (/kaggle/working/) that gets preserved as output when you create a version using \"Save & Run All\" \n",
    "# You can also write temporary files to /kaggle/temp/, but they won't be saved outside of the current session"
   ]
  },
  {
   "cell_type": "code",
   "execution_count": 2,
   "id": "56162813",
   "metadata": {
    "execution": {
     "iopub.execute_input": "2024-07-24T11:46:31.997830Z",
     "iopub.status.busy": "2024-07-24T11:46:31.996845Z",
     "iopub.status.idle": "2024-07-24T11:46:33.428092Z",
     "shell.execute_reply": "2024-07-24T11:46:33.426974Z"
    },
    "papermill": {
     "duration": 1.453581,
     "end_time": "2024-07-24T11:46:33.430771",
     "exception": false,
     "start_time": "2024-07-24T11:46:31.977190",
     "status": "completed"
    },
    "tags": []
   },
   "outputs": [],
   "source": [
    "import seaborn as sns"
   ]
  },
  {
   "cell_type": "code",
   "execution_count": 3,
   "id": "6e7b8fcc",
   "metadata": {
    "execution": {
     "iopub.execute_input": "2024-07-24T11:46:33.468199Z",
     "iopub.status.busy": "2024-07-24T11:46:33.467315Z",
     "iopub.status.idle": "2024-07-24T11:46:33.551155Z",
     "shell.execute_reply": "2024-07-24T11:46:33.549985Z"
    },
    "papermill": {
     "duration": 0.105571,
     "end_time": "2024-07-24T11:46:33.553891",
     "exception": false,
     "start_time": "2024-07-24T11:46:33.448320",
     "status": "completed"
    },
    "tags": []
   },
   "outputs": [],
   "source": [
    "train = pd.read_csv(\"/kaggle/input/house-prices-advanced-regression-techniques/train.csv\")\n",
    "test = pd.read_csv(\"/kaggle/input/house-prices-advanced-regression-techniques/test.csv\")"
   ]
  },
  {
   "cell_type": "code",
   "execution_count": 4,
   "id": "61e43eb3",
   "metadata": {
    "execution": {
     "iopub.execute_input": "2024-07-24T11:46:33.592479Z",
     "iopub.status.busy": "2024-07-24T11:46:33.591485Z",
     "iopub.status.idle": "2024-07-24T11:46:33.616924Z",
     "shell.execute_reply": "2024-07-24T11:46:33.615864Z"
    },
    "papermill": {
     "duration": 0.047904,
     "end_time": "2024-07-24T11:46:33.619548",
     "exception": false,
     "start_time": "2024-07-24T11:46:33.571644",
     "status": "completed"
    },
    "tags": []
   },
   "outputs": [
    {
     "data": {
      "text/plain": [
       "Id                 0\n",
       "MSSubClass         0\n",
       "MSZoning           0\n",
       "LotFrontage      259\n",
       "LotArea            0\n",
       "                ... \n",
       "MoSold             0\n",
       "YrSold             0\n",
       "SaleType           0\n",
       "SaleCondition      0\n",
       "SalePrice          0\n",
       "Length: 81, dtype: int64"
      ]
     },
     "execution_count": 4,
     "metadata": {},
     "output_type": "execute_result"
    }
   ],
   "source": [
    "train.isnull().sum()"
   ]
  },
  {
   "cell_type": "code",
   "execution_count": 5,
   "id": "bcdf40f8",
   "metadata": {
    "execution": {
     "iopub.execute_input": "2024-07-24T11:46:33.657331Z",
     "iopub.status.busy": "2024-07-24T11:46:33.656348Z",
     "iopub.status.idle": "2024-07-24T11:46:33.673550Z",
     "shell.execute_reply": "2024-07-24T11:46:33.672511Z"
    },
    "papermill": {
     "duration": 0.038556,
     "end_time": "2024-07-24T11:46:33.675778",
     "exception": false,
     "start_time": "2024-07-24T11:46:33.637222",
     "status": "completed"
    },
    "tags": []
   },
   "outputs": [
    {
     "data": {
      "text/plain": [
       "LotFrontage      259\n",
       "Alley           1369\n",
       "MasVnrType       872\n",
       "MasVnrArea         8\n",
       "BsmtQual          37\n",
       "BsmtCond          37\n",
       "BsmtExposure      38\n",
       "BsmtFinType1      37\n",
       "BsmtFinType2      38\n",
       "Electrical         1\n",
       "FireplaceQu      690\n",
       "GarageType        81\n",
       "GarageYrBlt       81\n",
       "GarageFinish      81\n",
       "GarageQual        81\n",
       "GarageCond        81\n",
       "PoolQC          1453\n",
       "Fence           1179\n",
       "MiscFeature     1406\n",
       "dtype: int64"
      ]
     },
     "execution_count": 5,
     "metadata": {},
     "output_type": "execute_result"
    }
   ],
   "source": [
    "# Display columns with null values and their count\n",
    "null_columns = train.isnull().sum()\n",
    "null_columns = null_columns[null_columns > 0]\n",
    "null_columns"
   ]
  },
  {
   "cell_type": "code",
   "execution_count": 6,
   "id": "c994dd97",
   "metadata": {
    "execution": {
     "iopub.execute_input": "2024-07-24T11:46:33.713817Z",
     "iopub.status.busy": "2024-07-24T11:46:33.713116Z",
     "iopub.status.idle": "2024-07-24T11:46:33.726793Z",
     "shell.execute_reply": "2024-07-24T11:46:33.725589Z"
    },
    "papermill": {
     "duration": 0.035586,
     "end_time": "2024-07-24T11:46:33.729179",
     "exception": false,
     "start_time": "2024-07-24T11:46:33.693593",
     "status": "completed"
    },
    "tags": []
   },
   "outputs": [],
   "source": [
    "train.drop(['LotFrontage', 'Alley', 'MasVnrType', 'FireplaceQu','PoolQC','Fence','MiscFeature'], axis=1, inplace=True)"
   ]
  },
  {
   "cell_type": "code",
   "execution_count": 7,
   "id": "4f5dc001",
   "metadata": {
    "execution": {
     "iopub.execute_input": "2024-07-24T11:46:33.767622Z",
     "iopub.status.busy": "2024-07-24T11:46:33.766443Z",
     "iopub.status.idle": "2024-07-24T11:46:34.444604Z",
     "shell.execute_reply": "2024-07-24T11:46:34.443222Z"
    },
    "papermill": {
     "duration": 0.699941,
     "end_time": "2024-07-24T11:46:34.447184",
     "exception": false,
     "start_time": "2024-07-24T11:46:33.747243",
     "status": "completed"
    },
    "tags": []
   },
   "outputs": [
    {
     "data": {
      "text/plain": [
       "<Axes: >"
      ]
     },
     "execution_count": 7,
     "metadata": {},
     "output_type": "execute_result"
    },
    {
     "data": {
      "image/png": "[encoded data removed]",
      "text/plain": [
       "<Figure size 640x480 with 1 Axes>"
      ]
     },
     "metadata": {},
     "output_type": "display_data"
    }
   ],
   "source": [
    "sns.heatmap(train.isnull(), yticklabels=False,cbar=False, cmap='viridis')"
   ]
  },
  {
   "cell_type": "code",
   "execution_count": 8,
   "id": "f883b972",
   "metadata": {
    "execution": {
     "iopub.execute_input": "2024-07-24T11:46:34.486791Z",
     "iopub.status.busy": "2024-07-24T11:46:34.486410Z",
     "iopub.status.idle": "2024-07-24T11:46:34.518307Z",
     "shell.execute_reply": "2024-07-24T11:46:34.517266Z"
    },
    "papermill": {
     "duration": 0.054769,
     "end_time": "2024-07-24T11:46:34.520659",
     "exception": false,
     "start_time": "2024-07-24T11:46:34.465890",
     "status": "completed"
    },
    "tags": []
   },
   "outputs": [
    {
     "data": {
      "text/plain": [
       "Condition1        9\n",
       "Condition2        8\n",
       "BldgType          5\n",
       "HouseStyle        8\n",
       "OverallQual      10\n",
       "OverallCond       9\n",
       "YearBuilt       112\n",
       "YearRemodAdd     61\n",
       "RoofStyle         6\n",
       "RoofMatl          8\n",
       "Exterior1st      15\n",
       "Exterior2nd      16\n",
       "MasVnrArea      327\n",
       "ExterQual         4\n",
       "ExterCond         5\n",
       "Foundation        6\n",
       "BsmtQual          4\n",
       "BsmtCond          4\n",
       "BsmtExposure      4\n",
       "BsmtFinType1      6\n",
       "BsmtFinSF1      637\n",
       "BsmtFinType2      6\n",
       "BsmtFinSF2      144\n",
       "BsmtUnfSF       780\n",
       "TotalBsmtSF     721\n",
       "Heating           6\n",
       "HeatingQC         5\n",
       "CentralAir        2\n",
       "Electrical        5\n",
       "1stFlrSF        753\n",
       "2ndFlrSF        417\n",
       "LowQualFinSF     24\n",
       "GrLivArea       861\n",
       "BsmtFullBath      4\n",
       "BsmtHalfBath      3\n",
       "FullBath          4\n",
       "HalfBath          3\n",
       "BedroomAbvGr      8\n",
       "KitchenAbvGr      4\n",
       "KitchenQual       4\n",
       "TotRmsAbvGrd     12\n",
       "Functional        7\n",
       "Fireplaces        4\n",
       "GarageType        6\n",
       "GarageYrBlt      97\n",
       "GarageFinish      3\n",
       "GarageCars        5\n",
       "GarageArea      441\n",
       "GarageQual        5\n",
       "GarageCond        5\n",
       "PavedDrive        3\n",
       "WoodDeckSF      274\n",
       "OpenPorchSF     202\n",
       "dtype: int64"
      ]
     },
     "execution_count": 8,
     "metadata": {},
     "output_type": "execute_result"
    }
   ],
   "source": [
    "train.loc[:, 'Condition1':'OpenPorchSF'].nunique()"
   ]
  },
  {
   "cell_type": "code",
   "execution_count": null,
   "id": "6d1a6290",
   "metadata": {
    "papermill": {
     "duration": 0.01856,
     "end_time": "2024-07-24T11:46:34.558118",
     "exception": false,
     "start_time": "2024-07-24T11:46:34.539558",
     "status": "completed"
    },
    "tags": []
   },
   "outputs": [],
   "source": []
  },
  {
   "cell_type": "code",
   "execution_count": 9,
   "id": "05060d14",
   "metadata": {
    "execution": {
     "iopub.execute_input": "2024-07-24T11:46:34.597718Z",
     "iopub.status.busy": "2024-07-24T11:46:34.597236Z",
     "iopub.status.idle": "2024-07-24T11:46:34.609670Z",
     "shell.execute_reply": "2024-07-24T11:46:34.608558Z"
    },
    "papermill": {
     "duration": 0.03533,
     "end_time": "2024-07-24T11:46:34.612401",
     "exception": false,
     "start_time": "2024-07-24T11:46:34.577071",
     "status": "completed"
    },
    "tags": []
   },
   "outputs": [],
   "source": [
    "street = pd.get_dummies(train['Street'], drop_first=True).astype(int)\n",
    "central_air = pd.get_dummies(train['CentralAir'], drop_first=True).astype(int)\n",
    "garage_finish = pd.get_dummies(train['GarageFinish'], drop_first=True).astype(int)\n",
    "\n",
    "paved_drive = pd.get_dummies(train['PavedDrive'], drop_first=True).astype(int)"
   ]
  },
  {
   "cell_type": "code",
   "execution_count": 10,
   "id": "6bc8f8ab",
   "metadata": {
    "execution": {
     "iopub.execute_input": "2024-07-24T11:46:34.652102Z",
     "iopub.status.busy": "2024-07-24T11:46:34.651667Z",
     "iopub.status.idle": "2024-07-24T11:46:34.659053Z",
     "shell.execute_reply": "2024-07-24T11:46:34.658042Z"
    },
    "papermill": {
     "duration": 0.029876,
     "end_time": "2024-07-24T11:46:34.661255",
     "exception": false,
     "start_time": "2024-07-24T11:46:34.631379",
     "status": "completed"
    },
    "tags": []
   },
   "outputs": [],
   "source": [
    "train.drop(['Street','CentralAir','GarageFinish','HalfBath','BsmtHalfBath','PavedDrive'], axis=1, inplace=True)"
   ]
  },
  {
   "cell_type": "code",
   "execution_count": 11,
   "id": "f662c9b5",
   "metadata": {
    "execution": {
     "iopub.execute_input": "2024-07-24T11:46:34.700356Z",
     "iopub.status.busy": "2024-07-24T11:46:34.699960Z",
     "iopub.status.idle": "2024-07-24T11:46:34.725026Z",
     "shell.execute_reply": "2024-07-24T11:46:34.723840Z"
    },
    "papermill": {
     "duration": 0.047504,
     "end_time": "2024-07-24T11:46:34.727520",
     "exception": false,
     "start_time": "2024-07-24T11:46:34.680016",
     "status": "completed"
    },
    "tags": []
   },
   "outputs": [
    {
     "data": {
      "text/html": [
       "<div>\n",
       "<style scoped>\n",
       "    .dataframe tbody tr th:only-of-type {\n",
       "        vertical-align: middle;\n",
       "    }\n",
       "\n",
       "    .dataframe tbody tr th {\n",
       "        vertical-align: top;\n",
       "    }\n",
       "\n",
       "    .dataframe thead th {\n",
       "        text-align: right;\n",
       "    }\n",
       "</style>\n",
       "<table border=\"1\" class=\"dataframe\">\n",
       "  <thead>\n",
       "    <tr style=\"text-align: right;\">\n",
       "      <th></th>\n",
       "      <th>Id</th>\n",
       "      <th>MSSubClass</th>\n",
       "      <th>MSZoning</th>\n",
       "      <th>LotArea</th>\n",
       "      <th>LotShape</th>\n",
       "      <th>LandContour</th>\n",
       "      <th>Utilities</th>\n",
       "      <th>LotConfig</th>\n",
       "      <th>LandSlope</th>\n",
       "      <th>Neighborhood</th>\n",
       "      <th>...</th>\n",
       "      <th>EnclosedPorch</th>\n",
       "      <th>3SsnPorch</th>\n",
       "      <th>ScreenPorch</th>\n",
       "      <th>PoolArea</th>\n",
       "      <th>MiscVal</th>\n",
       "      <th>MoSold</th>\n",
       "      <th>YrSold</th>\n",
       "      <th>SaleType</th>\n",
       "      <th>SaleCondition</th>\n",
       "      <th>SalePrice</th>\n",
       "    </tr>\n",
       "  </thead>\n",
       "  <tbody>\n",
       "    <tr>\n",
       "      <th>0</th>\n",
       "      <td>1</td>\n",
       "      <td>60</td>\n",
       "      <td>RL</td>\n",
       "      <td>8450</td>\n",
       "      <td>Reg</td>\n",
       "      <td>Lvl</td>\n",
       "      <td>AllPub</td>\n",
       "      <td>Inside</td>\n",
       "      <td>Gtl</td>\n",
       "      <td>CollgCr</td>\n",
       "      <td>...</td>\n",
       "      <td>0</td>\n",
       "      <td>0</td>\n",
       "      <td>0</td>\n",
       "      <td>0</td>\n",
       "      <td>0</td>\n",
       "      <td>2</td>\n",
       "      <td>2008</td>\n",
       "      <td>WD</td>\n",
       "      <td>Normal</td>\n",
       "      <td>208500</td>\n",
       "    </tr>\n",
       "    <tr>\n",
       "      <th>1</th>\n",
       "      <td>2</td>\n",
       "      <td>20</td>\n",
       "      <td>RL</td>\n",
       "      <td>9600</td>\n",
       "      <td>Reg</td>\n",
       "      <td>Lvl</td>\n",
       "      <td>AllPub</td>\n",
       "      <td>FR2</td>\n",
       "      <td>Gtl</td>\n",
       "      <td>Veenker</td>\n",
       "      <td>...</td>\n",
       "      <td>0</td>\n",
       "      <td>0</td>\n",
       "      <td>0</td>\n",
       "      <td>0</td>\n",
       "      <td>0</td>\n",
       "      <td>5</td>\n",
       "      <td>2007</td>\n",
       "      <td>WD</td>\n",
       "      <td>Normal</td>\n",
       "      <td>181500</td>\n",
       "    </tr>\n",
       "    <tr>\n",
       "      <th>2</th>\n",
       "      <td>3</td>\n",
       "      <td>60</td>\n",
       "      <td>RL</td>\n",
       "      <td>11250</td>\n",
       "      <td>IR1</td>\n",
       "      <td>Lvl</td>\n",
       "      <td>AllPub</td>\n",
       "      <td>Inside</td>\n",
       "      <td>Gtl</td>\n",
       "      <td>CollgCr</td>\n",
       "      <td>...</td>\n",
       "      <td>0</td>\n",
       "      <td>0</td>\n",
       "      <td>0</td>\n",
       "      <td>0</td>\n",
       "      <td>0</td>\n",
       "      <td>9</td>\n",
       "      <td>2008</td>\n",
       "      <td>WD</td>\n",
       "      <td>Normal</td>\n",
       "      <td>223500</td>\n",
       "    </tr>\n",
       "    <tr>\n",
       "      <th>3</th>\n",
       "      <td>4</td>\n",
       "      <td>70</td>\n",
       "      <td>RL</td>\n",
       "      <td>9550</td>\n",
       "      <td>IR1</td>\n",
       "      <td>Lvl</td>\n",
       "      <td>AllPub</td>\n",
       "      <td>Corner</td>\n",
       "      <td>Gtl</td>\n",
       "      <td>Crawfor</td>\n",
       "      <td>...</td>\n",
       "      <td>272</td>\n",
       "      <td>0</td>\n",
       "      <td>0</td>\n",
       "      <td>0</td>\n",
       "      <td>0</td>\n",
       "      <td>2</td>\n",
       "      <td>2006</td>\n",
       "      <td>WD</td>\n",
       "      <td>Abnorml</td>\n",
       "      <td>140000</td>\n",
       "    </tr>\n",
       "    <tr>\n",
       "      <th>4</th>\n",
       "      <td>5</td>\n",
       "      <td>60</td>\n",
       "      <td>RL</td>\n",
       "      <td>14260</td>\n",
       "      <td>IR1</td>\n",
       "      <td>Lvl</td>\n",
       "      <td>AllPub</td>\n",
       "      <td>FR2</td>\n",
       "      <td>Gtl</td>\n",
       "      <td>NoRidge</td>\n",
       "      <td>...</td>\n",
       "      <td>0</td>\n",
       "      <td>0</td>\n",
       "      <td>0</td>\n",
       "      <td>0</td>\n",
       "      <td>0</td>\n",
       "      <td>12</td>\n",
       "      <td>2008</td>\n",
       "      <td>WD</td>\n",
       "      <td>Normal</td>\n",
       "      <td>250000</td>\n",
       "    </tr>\n",
       "  </tbody>\n",
       "</table>\n",
       "<p>5 rows × 68 columns</p>\n",
       "</div>"
      ],
      "text/plain": [
       "   Id  MSSubClass MSZoning  LotArea LotShape LandContour Utilities LotConfig  \\\n",
       "0   1          60       RL     8450      Reg         Lvl    AllPub    Inside   \n",
       "1   2          20       RL     9600      Reg         Lvl    AllPub       FR2   \n",
       "2   3          60       RL    11250      IR1         Lvl    AllPub    Inside   \n",
       "3   4          70       RL     9550      IR1         Lvl    AllPub    Corner   \n",
       "4   5          60       RL    14260      IR1         Lvl    AllPub       FR2   \n",
       "\n",
       "  LandSlope Neighborhood  ... EnclosedPorch 3SsnPorch ScreenPorch PoolArea  \\\n",
       "0       Gtl      CollgCr  ...             0         0           0        0   \n",
       "1       Gtl      Veenker  ...             0         0           0        0   \n",
       "2       Gtl      CollgCr  ...             0         0           0        0   \n",
       "3       Gtl      Crawfor  ...           272         0           0        0   \n",
       "4       Gtl      NoRidge  ...             0         0           0        0   \n",
       "\n",
       "   MiscVal  MoSold  YrSold  SaleType SaleCondition SalePrice  \n",
       "0        0       2    2008        WD        Normal    208500  \n",
       "1        0       5    2007        WD        Normal    181500  \n",
       "2        0       9    2008        WD        Normal    223500  \n",
       "3        0       2    2006        WD       Abnorml    140000  \n",
       "4        0      12    2008        WD        Normal    250000  \n",
       "\n",
       "[5 rows x 68 columns]"
      ]
     },
     "execution_count": 11,
     "metadata": {},
     "output_type": "execute_result"
    }
   ],
   "source": [
    "train.head()"
   ]
  },
  {
   "cell_type": "code",
   "execution_count": 12,
   "id": "2f1e2956",
   "metadata": {
    "execution": {
     "iopub.execute_input": "2024-07-24T11:46:34.768962Z",
     "iopub.status.busy": "2024-07-24T11:46:34.768172Z",
     "iopub.status.idle": "2024-07-24T11:46:34.775216Z",
     "shell.execute_reply": "2024-07-24T11:46:34.774097Z"
    },
    "papermill": {
     "duration": 0.030285,
     "end_time": "2024-07-24T11:46:34.777635",
     "exception": false,
     "start_time": "2024-07-24T11:46:34.747350",
     "status": "completed"
    },
    "tags": []
   },
   "outputs": [],
   "source": [
    "train = pd.concat([train, street, central_air,garage_finish,paved_drive], axis=1)"
   ]
  },
  {
   "cell_type": "code",
   "execution_count": 13,
   "id": "a6107b92",
   "metadata": {
    "execution": {
     "iopub.execute_input": "2024-07-24T11:46:34.818423Z",
     "iopub.status.busy": "2024-07-24T11:46:34.817707Z",
     "iopub.status.idle": "2024-07-24T11:46:34.826163Z",
     "shell.execute_reply": "2024-07-24T11:46:34.825170Z"
    },
    "papermill": {
     "duration": 0.03203,
     "end_time": "2024-07-24T11:46:34.829070",
     "exception": false,
     "start_time": "2024-07-24T11:46:34.797040",
     "status": "completed"
    },
    "tags": []
   },
   "outputs": [
    {
     "name": "stdout",
     "output_type": "stream",
     "text": [
      "Duplicate columns: Index(['Y'], dtype='object')\n"
     ]
    }
   ],
   "source": [
    "# Identify duplicate column names\n",
    "duplicate_columns = train.columns[train.columns.duplicated()].unique()\n",
    "\n",
    "print(\"Duplicate columns:\", duplicate_columns)\n",
    "train = train.loc[:, ~train.columns.duplicated()]"
   ]
  },
  {
   "cell_type": "code",
   "execution_count": 14,
   "id": "695b4283",
   "metadata": {
    "execution": {
     "iopub.execute_input": "2024-07-24T11:46:34.870071Z",
     "iopub.status.busy": "2024-07-24T11:46:34.869360Z",
     "iopub.status.idle": "2024-07-24T11:46:35.374630Z",
     "shell.execute_reply": "2024-07-24T11:46:35.373326Z"
    },
    "papermill": {
     "duration": 0.529329,
     "end_time": "2024-07-24T11:46:35.377859",
     "exception": false,
     "start_time": "2024-07-24T11:46:34.848530",
     "status": "completed"
    },
    "tags": []
   },
   "outputs": [
    {
     "data": {
      "text/plain": [
       "<Axes: >"
      ]
     },
     "execution_count": 14,
     "metadata": {},
     "output_type": "execute_result"
    },
    {
     "data": {
      "image/png": "[encoded data removed]",
      "text/plain": [
       "<Figure size 640x480 with 1 Axes>"
      ]
     },
     "metadata": {},
     "output_type": "display_data"
    }
   ],
   "source": [
    "sns.heatmap(train.isnull(), yticklabels=False,cbar=False, cmap='viridis')"
   ]
  },
  {
   "cell_type": "code",
   "execution_count": 15,
   "id": "0a41d5f4",
   "metadata": {
    "execution": {
     "iopub.execute_input": "2024-07-24T11:46:35.434864Z",
     "iopub.status.busy": "2024-07-24T11:46:35.434450Z",
     "iopub.status.idle": "2024-07-24T11:46:35.443690Z",
     "shell.execute_reply": "2024-07-24T11:46:35.442588Z"
    },
    "papermill": {
     "duration": 0.036415,
     "end_time": "2024-07-24T11:46:35.446579",
     "exception": false,
     "start_time": "2024-07-24T11:46:35.410164",
     "status": "completed"
    },
    "tags": []
   },
   "outputs": [
    {
     "data": {
      "text/plain": [
       "Index(['MSZoning', 'LotShape', 'LandContour', 'Utilities', 'LotConfig',\n",
       "       'LandSlope', 'Neighborhood', 'Condition1', 'Condition2', 'BldgType',\n",
       "       'HouseStyle', 'RoofStyle', 'RoofMatl', 'Exterior1st', 'Exterior2nd',\n",
       "       'ExterQual', 'ExterCond', 'Foundation', 'BsmtQual', 'BsmtCond',\n",
       "       'BsmtExposure', 'BsmtFinType1', 'BsmtFinType2', 'Heating', 'HeatingQC',\n",
       "       'Electrical', 'KitchenQual', 'Functional', 'GarageType', 'GarageQual',\n",
       "       'GarageCond', 'SaleType', 'SaleCondition'],\n",
       "      dtype='object')"
      ]
     },
     "execution_count": 15,
     "metadata": {},
     "output_type": "execute_result"
    }
   ],
   "source": [
    "dtypes = train.dtypes\n",
    "\n",
    "# Filter columns with dtype 'int64'\n",
    "object_columns = dtypes[dtypes == 'object'].index\n",
    "# Print the columns with dtype 'int64'\n",
    "object_columns"
   ]
  },
  {
   "cell_type": "code",
   "execution_count": 16,
   "id": "033d416a",
   "metadata": {
    "execution": {
     "iopub.execute_input": "2024-07-24T11:46:35.501115Z",
     "iopub.status.busy": "2024-07-24T11:46:35.500544Z",
     "iopub.status.idle": "2024-07-24T11:46:35.507068Z",
     "shell.execute_reply": "2024-07-24T11:46:35.505973Z"
    },
    "papermill": {
     "duration": 0.036074,
     "end_time": "2024-07-24T11:46:35.509448",
     "exception": false,
     "start_time": "2024-07-24T11:46:35.473374",
     "status": "completed"
    },
    "tags": []
   },
   "outputs": [],
   "source": [
    "train.drop(columns=object_columns, axis=1, inplace=True)"
   ]
  },
  {
   "cell_type": "code",
   "execution_count": 17,
   "id": "474b02e1",
   "metadata": {
    "execution": {
     "iopub.execute_input": "2024-07-24T11:46:35.552415Z",
     "iopub.status.busy": "2024-07-24T11:46:35.551401Z",
     "iopub.status.idle": "2024-07-24T11:46:35.561719Z",
     "shell.execute_reply": "2024-07-24T11:46:35.560696Z"
    },
    "papermill": {
     "duration": 0.034161,
     "end_time": "2024-07-24T11:46:35.564227",
     "exception": false,
     "start_time": "2024-07-24T11:46:35.530066",
     "status": "completed"
    },
    "tags": []
   },
   "outputs": [
    {
     "data": {
      "text/plain": [
       "52      1963.0\n",
       "335     1965.0\n",
       "582        NaN\n",
       "812     1952.0\n",
       "1061    1994.0\n",
       "1184    1963.0\n",
       "Name: GarageYrBlt, dtype: float64"
      ]
     },
     "execution_count": 17,
     "metadata": {},
     "output_type": "execute_result"
    }
   ],
   "source": [
    "train[train['Pave'] == 0]['GarageYrBlt']"
   ]
  },
  {
   "cell_type": "code",
   "execution_count": 18,
   "id": "c68c0f29",
   "metadata": {
    "execution": {
     "iopub.execute_input": "2024-07-24T11:46:35.606659Z",
     "iopub.status.busy": "2024-07-24T11:46:35.605747Z",
     "iopub.status.idle": "2024-07-24T11:46:35.793682Z",
     "shell.execute_reply": "2024-07-24T11:46:35.792604Z"
    },
    "papermill": {
     "duration": 0.211659,
     "end_time": "2024-07-24T11:46:35.796120",
     "exception": false,
     "start_time": "2024-07-24T11:46:35.584461",
     "status": "completed"
    },
    "tags": []
   },
   "outputs": [
    {
     "data": {
      "text/plain": [
       "<Axes: xlabel='Pave', ylabel='GarageYrBlt'>"
      ]
     },
     "execution_count": 18,
     "metadata": {},
     "output_type": "execute_result"
    },
    {
     "data": {
      "image/png": "[encoded data removed]",
      "text/plain": [
       "<Figure size 640x480 with 1 Axes>"
      ]
     },
     "metadata": {},
     "output_type": "display_data"
    }
   ],
   "source": [
    "sns.boxplot(train,x='Pave',y='GarageYrBlt')"
   ]
  },
  {
   "cell_type": "code",
   "execution_count": 19,
   "id": "5253e69c",
   "metadata": {
    "execution": {
     "iopub.execute_input": "2024-07-24T11:46:35.840011Z",
     "iopub.status.busy": "2024-07-24T11:46:35.839580Z",
     "iopub.status.idle": "2024-07-24T11:46:35.846213Z",
     "shell.execute_reply": "2024-07-24T11:46:35.845113Z"
    },
    "papermill": {
     "duration": 0.031083,
     "end_time": "2024-07-24T11:46:35.848619",
     "exception": false,
     "start_time": "2024-07-24T11:46:35.817536",
     "status": "completed"
    },
    "tags": []
   },
   "outputs": [],
   "source": [
    " def impute_age(cols):\n",
    "        GarageYrBlt = cols.iloc[0]\n",
    "        Pave = cols.iloc[1]\n",
    "        \n",
    "        if pd.isnull(GarageYrBlt):\n",
    "            if Pave == 1:\n",
    "                return 1980\n",
    "            elif Pave == 0:\n",
    "                return 1970 \n",
    "            else:\n",
    "                return 1978\n",
    "        else:\n",
    "            return GarageYrBlt"
   ]
  },
  {
   "cell_type": "code",
   "execution_count": 20,
   "id": "0b819599",
   "metadata": {
    "execution": {
     "iopub.execute_input": "2024-07-24T11:46:35.893291Z",
     "iopub.status.busy": "2024-07-24T11:46:35.892565Z",
     "iopub.status.idle": "2024-07-24T11:46:35.957060Z",
     "shell.execute_reply": "2024-07-24T11:46:35.955957Z"
    },
    "papermill": {
     "duration": 0.090085,
     "end_time": "2024-07-24T11:46:35.959878",
     "exception": false,
     "start_time": "2024-07-24T11:46:35.869793",
     "status": "completed"
    },
    "tags": []
   },
   "outputs": [],
   "source": [
    "train['GarageYrBlt'] = train[['GarageYrBlt', 'Pave']].apply(impute_age, axis=1)"
   ]
  },
  {
   "cell_type": "code",
   "execution_count": 21,
   "id": "051211c8",
   "metadata": {
    "execution": {
     "iopub.execute_input": "2024-07-24T11:46:36.008834Z",
     "iopub.status.busy": "2024-07-24T11:46:36.008106Z",
     "iopub.status.idle": "2024-07-24T11:46:36.030230Z",
     "shell.execute_reply": "2024-07-24T11:46:36.029221Z"
    },
    "papermill": {
     "duration": 0.048837,
     "end_time": "2024-07-24T11:46:36.032633",
     "exception": false,
     "start_time": "2024-07-24T11:46:35.983796",
     "status": "completed"
    },
    "tags": []
   },
   "outputs": [
    {
     "data": {
      "text/html": [
       "<div>\n",
       "<style scoped>\n",
       "    .dataframe tbody tr th:only-of-type {\n",
       "        vertical-align: middle;\n",
       "    }\n",
       "\n",
       "    .dataframe tbody tr th {\n",
       "        vertical-align: top;\n",
       "    }\n",
       "\n",
       "    .dataframe thead th {\n",
       "        text-align: right;\n",
       "    }\n",
       "</style>\n",
       "<table border=\"1\" class=\"dataframe\">\n",
       "  <thead>\n",
       "    <tr style=\"text-align: right;\">\n",
       "      <th></th>\n",
       "      <th>Id</th>\n",
       "      <th>MSSubClass</th>\n",
       "      <th>LotArea</th>\n",
       "      <th>OverallQual</th>\n",
       "      <th>OverallCond</th>\n",
       "      <th>YearBuilt</th>\n",
       "      <th>YearRemodAdd</th>\n",
       "      <th>MasVnrArea</th>\n",
       "      <th>BsmtFinSF1</th>\n",
       "      <th>BsmtFinSF2</th>\n",
       "      <th>...</th>\n",
       "      <th>PoolArea</th>\n",
       "      <th>MiscVal</th>\n",
       "      <th>MoSold</th>\n",
       "      <th>YrSold</th>\n",
       "      <th>SalePrice</th>\n",
       "      <th>Pave</th>\n",
       "      <th>Y</th>\n",
       "      <th>RFn</th>\n",
       "      <th>Unf</th>\n",
       "      <th>P</th>\n",
       "    </tr>\n",
       "  </thead>\n",
       "  <tbody>\n",
       "    <tr>\n",
       "      <th>1455</th>\n",
       "      <td>1456</td>\n",
       "      <td>60</td>\n",
       "      <td>7917</td>\n",
       "      <td>6</td>\n",
       "      <td>5</td>\n",
       "      <td>1999</td>\n",
       "      <td>2000</td>\n",
       "      <td>0.0</td>\n",
       "      <td>0</td>\n",
       "      <td>0</td>\n",
       "      <td>...</td>\n",
       "      <td>0</td>\n",
       "      <td>0</td>\n",
       "      <td>8</td>\n",
       "      <td>2007</td>\n",
       "      <td>175000</td>\n",
       "      <td>1</td>\n",
       "      <td>1</td>\n",
       "      <td>1</td>\n",
       "      <td>0</td>\n",
       "      <td>0</td>\n",
       "    </tr>\n",
       "    <tr>\n",
       "      <th>1456</th>\n",
       "      <td>1457</td>\n",
       "      <td>20</td>\n",
       "      <td>13175</td>\n",
       "      <td>6</td>\n",
       "      <td>6</td>\n",
       "      <td>1978</td>\n",
       "      <td>1988</td>\n",
       "      <td>119.0</td>\n",
       "      <td>790</td>\n",
       "      <td>163</td>\n",
       "      <td>...</td>\n",
       "      <td>0</td>\n",
       "      <td>0</td>\n",
       "      <td>2</td>\n",
       "      <td>2010</td>\n",
       "      <td>210000</td>\n",
       "      <td>1</td>\n",
       "      <td>1</td>\n",
       "      <td>0</td>\n",
       "      <td>1</td>\n",
       "      <td>0</td>\n",
       "    </tr>\n",
       "    <tr>\n",
       "      <th>1457</th>\n",
       "      <td>1458</td>\n",
       "      <td>70</td>\n",
       "      <td>9042</td>\n",
       "      <td>7</td>\n",
       "      <td>9</td>\n",
       "      <td>1941</td>\n",
       "      <td>2006</td>\n",
       "      <td>0.0</td>\n",
       "      <td>275</td>\n",
       "      <td>0</td>\n",
       "      <td>...</td>\n",
       "      <td>0</td>\n",
       "      <td>2500</td>\n",
       "      <td>5</td>\n",
       "      <td>2010</td>\n",
       "      <td>266500</td>\n",
       "      <td>1</td>\n",
       "      <td>1</td>\n",
       "      <td>1</td>\n",
       "      <td>0</td>\n",
       "      <td>0</td>\n",
       "    </tr>\n",
       "    <tr>\n",
       "      <th>1458</th>\n",
       "      <td>1459</td>\n",
       "      <td>20</td>\n",
       "      <td>9717</td>\n",
       "      <td>5</td>\n",
       "      <td>6</td>\n",
       "      <td>1950</td>\n",
       "      <td>1996</td>\n",
       "      <td>0.0</td>\n",
       "      <td>49</td>\n",
       "      <td>1029</td>\n",
       "      <td>...</td>\n",
       "      <td>0</td>\n",
       "      <td>0</td>\n",
       "      <td>4</td>\n",
       "      <td>2010</td>\n",
       "      <td>142125</td>\n",
       "      <td>1</td>\n",
       "      <td>1</td>\n",
       "      <td>0</td>\n",
       "      <td>1</td>\n",
       "      <td>0</td>\n",
       "    </tr>\n",
       "    <tr>\n",
       "      <th>1459</th>\n",
       "      <td>1460</td>\n",
       "      <td>20</td>\n",
       "      <td>9937</td>\n",
       "      <td>5</td>\n",
       "      <td>6</td>\n",
       "      <td>1965</td>\n",
       "      <td>1965</td>\n",
       "      <td>0.0</td>\n",
       "      <td>830</td>\n",
       "      <td>290</td>\n",
       "      <td>...</td>\n",
       "      <td>0</td>\n",
       "      <td>0</td>\n",
       "      <td>6</td>\n",
       "      <td>2008</td>\n",
       "      <td>147500</td>\n",
       "      <td>1</td>\n",
       "      <td>1</td>\n",
       "      <td>0</td>\n",
       "      <td>0</td>\n",
       "      <td>0</td>\n",
       "    </tr>\n",
       "  </tbody>\n",
       "</table>\n",
       "<p>5 rows × 40 columns</p>\n",
       "</div>"
      ],
      "text/plain": [
       "        Id  MSSubClass  LotArea  OverallQual  OverallCond  YearBuilt  \\\n",
       "1455  1456          60     7917            6            5       1999   \n",
       "1456  1457          20    13175            6            6       1978   \n",
       "1457  1458          70     9042            7            9       1941   \n",
       "1458  1459          20     9717            5            6       1950   \n",
       "1459  1460          20     9937            5            6       1965   \n",
       "\n",
       "      YearRemodAdd  MasVnrArea  BsmtFinSF1  BsmtFinSF2  ...  PoolArea  \\\n",
       "1455          2000         0.0           0           0  ...         0   \n",
       "1456          1988       119.0         790         163  ...         0   \n",
       "1457          2006         0.0         275           0  ...         0   \n",
       "1458          1996         0.0          49        1029  ...         0   \n",
       "1459          1965         0.0         830         290  ...         0   \n",
       "\n",
       "      MiscVal  MoSold  YrSold  SalePrice  Pave  Y  RFn  Unf  P  \n",
       "1455        0       8    2007     175000     1  1    1    0  0  \n",
       "1456        0       2    2010     210000     1  1    0    1  0  \n",
       "1457     2500       5    2010     266500     1  1    1    0  0  \n",
       "1458        0       4    2010     142125     1  1    0    1  0  \n",
       "1459        0       6    2008     147500     1  1    0    0  0  \n",
       "\n",
       "[5 rows x 40 columns]"
      ]
     },
     "execution_count": 21,
     "metadata": {},
     "output_type": "execute_result"
    }
   ],
   "source": [
    "train.tail()"
   ]
  },
  {
   "cell_type": "code",
   "execution_count": 22,
   "id": "adf79d17",
   "metadata": {
    "execution": {
     "iopub.execute_input": "2024-07-24T11:46:36.138792Z",
     "iopub.status.busy": "2024-07-24T11:46:36.138399Z",
     "iopub.status.idle": "2024-07-24T11:46:36.444916Z",
     "shell.execute_reply": "2024-07-24T11:46:36.443800Z"
    },
    "papermill": {
     "duration": 0.333922,
     "end_time": "2024-07-24T11:46:36.447623",
     "exception": false,
     "start_time": "2024-07-24T11:46:36.113701",
     "status": "completed"
    },
    "tags": []
   },
   "outputs": [
    {
     "data": {
      "text/plain": [
       "<Axes: xlabel='Pave', ylabel='MasVnrArea'>"
      ]
     },
     "execution_count": 22,
     "metadata": {},
     "output_type": "execute_result"
    },
    {
     "data": {
      "image/png": "[encoded data removed]",
      "text/plain": [
       "<Figure size 640x480 with 1 Axes>"
      ]
     },
     "metadata": {},
     "output_type": "display_data"
    }
   ],
   "source": [
    "sns.violinplot(x='Pave', y='MasVnrArea', data=train)\n"
   ]
  },
  {
   "cell_type": "code",
   "execution_count": 23,
   "id": "df84c4e7",
   "metadata": {
    "execution": {
     "iopub.execute_input": "2024-07-24T11:46:36.493853Z",
     "iopub.status.busy": "2024-07-24T11:46:36.493475Z",
     "iopub.status.idle": "2024-07-24T11:46:36.500193Z",
     "shell.execute_reply": "2024-07-24T11:46:36.499100Z"
    },
    "papermill": {
     "duration": 0.032749,
     "end_time": "2024-07-24T11:46:36.502463",
     "exception": false,
     "start_time": "2024-07-24T11:46:36.469714",
     "status": "completed"
    },
    "tags": []
   },
   "outputs": [],
   "source": [
    " def impute_area(cols):\n",
    "        MasVnrArea = cols.iloc[0]\n",
    "        Pave = cols.iloc[1]\n",
    "        \n",
    "        if pd.isnull(MasVnrArea):\n",
    "            if Pave == 1:\n",
    "                return 625\n",
    "            elif Pave == 0:\n",
    "                return 375\n",
    "            else:\n",
    "                return 103\n",
    "        else:\n",
    "            return MasVnrArea"
   ]
  },
  {
   "cell_type": "code",
   "execution_count": 24,
   "id": "860fdc9f",
   "metadata": {
    "execution": {
     "iopub.execute_input": "2024-07-24T11:46:36.548057Z",
     "iopub.status.busy": "2024-07-24T11:46:36.547317Z",
     "iopub.status.idle": "2024-07-24T11:46:36.600530Z",
     "shell.execute_reply": "2024-07-24T11:46:36.599382Z"
    },
    "papermill": {
     "duration": 0.079009,
     "end_time": "2024-07-24T11:46:36.603291",
     "exception": false,
     "start_time": "2024-07-24T11:46:36.524282",
     "status": "completed"
    },
    "tags": []
   },
   "outputs": [],
   "source": [
    "train['MasVnrArea'] = train[['MasVnrArea', 'Pave']].apply(impute_age, axis=1)"
   ]
  },
  {
   "cell_type": "code",
   "execution_count": null,
   "id": "40a51df9",
   "metadata": {
    "papermill": {
     "duration": 0.02193,
     "end_time": "2024-07-24T11:46:36.647436",
     "exception": false,
     "start_time": "2024-07-24T11:46:36.625506",
     "status": "completed"
    },
    "tags": []
   },
   "outputs": [],
   "source": []
  },
  {
   "cell_type": "code",
   "execution_count": 25,
   "id": "acd25643",
   "metadata": {
    "execution": {
     "iopub.execute_input": "2024-07-24T11:46:36.693973Z",
     "iopub.status.busy": "2024-07-24T11:46:36.693479Z",
     "iopub.status.idle": "2024-07-24T11:46:36.700800Z",
     "shell.execute_reply": "2024-07-24T11:46:36.699567Z"
    },
    "papermill": {
     "duration": 0.033661,
     "end_time": "2024-07-24T11:46:36.703281",
     "exception": false,
     "start_time": "2024-07-24T11:46:36.669620",
     "status": "completed"
    },
    "tags": []
   },
   "outputs": [],
   "source": [
    "X_train = train.drop('SalePrice', axis =1)\n",
    "y_train = train['SalePrice']"
   ]
  },
  {
   "cell_type": "code",
   "execution_count": 26,
   "id": "162a387d",
   "metadata": {
    "execution": {
     "iopub.execute_input": "2024-07-24T11:46:36.749323Z",
     "iopub.status.busy": "2024-07-24T11:46:36.748877Z",
     "iopub.status.idle": "2024-07-24T11:46:37.193652Z",
     "shell.execute_reply": "2024-07-24T11:46:37.191974Z"
    },
    "papermill": {
     "duration": 0.473068,
     "end_time": "2024-07-24T11:46:37.198500",
     "exception": false,
     "start_time": "2024-07-24T11:46:36.725432",
     "status": "completed"
    },
    "tags": []
   },
   "outputs": [
    {
     "data": {
      "text/html": [
       "<style>#sk-container-id-1 {color: black;background-color: white;}#sk-container-id-1 pre{padding: 0;}#sk-container-id-1 div.sk-toggleable {background-color: white;}#sk-container-id-1 label.sk-toggleable__label {cursor: pointer;display: block;width: 100%;margin-bottom: 0;padding: 0.3em;box-sizing: border-box;text-align: center;}#sk-container-id-1 label.sk-toggleable__label-arrow:before {content: \"▸\";float: left;margin-right: 0.25em;color: #696969;}#sk-container-id-1 label.sk-toggleable__label-arrow:hover:before {color: black;}#sk-container-id-1 div.sk-estimator:hover label.sk-toggleable__label-arrow:before {color: black;}#sk-container-id-1 div.sk-toggleable__content {max-height: 0;max-width: 0;overflow: hidden;text-align: left;background-color: #f0f8ff;}#sk-container-id-1 div.sk-toggleable__content pre {margin: 0.2em;color: black;border-radius: 0.25em;background-color: #f0f8ff;}#sk-container-id-1 input.sk-toggleable__control:checked~div.sk-toggleable__content {max-height: 200px;max-width: 100%;overflow: auto;}#sk-container-id-1 input.sk-toggleable__control:checked~label.sk-toggleable__label-arrow:before {content: \"▾\";}#sk-container-id-1 div.sk-estimator input.sk-toggleable__control:checked~label.sk-toggleable__label {background-color: #d4ebff;}#sk-container-id-1 div.sk-label input.sk-toggleable__control:checked~label.sk-toggleable__label {background-color: #d4ebff;}#sk-container-id-1 input.sk-hidden--visually {border: 0;clip: rect(1px 1px 1px 1px);clip: rect(1px, 1px, 1px, 1px);height: 1px;margin: -1px;overflow: hidden;padding: 0;position: absolute;width: 1px;}#sk-container-id-1 div.sk-estimator {font-family: monospace;background-color: #f0f8ff;border: 1px dotted black;border-radius: 0.25em;box-sizing: border-box;margin-bottom: 0.5em;}#sk-container-id-1 div.sk-estimator:hover {background-color: #d4ebff;}#sk-container-id-1 div.sk-parallel-item::after {content: \"\";width: 100%;border-bottom: 1px solid gray;flex-grow: 1;}#sk-container-id-1 div.sk-label:hover label.sk-toggleable__label {background-color: #d4ebff;}#sk-container-id-1 div.sk-serial::before {content: \"\";position: absolute;border-left: 1px solid gray;box-sizing: border-box;top: 0;bottom: 0;left: 50%;z-index: 0;}#sk-container-id-1 div.sk-serial {display: flex;flex-direction: column;align-items: center;background-color: white;padding-right: 0.2em;padding-left: 0.2em;position: relative;}#sk-container-id-1 div.sk-item {position: relative;z-index: 1;}#sk-container-id-1 div.sk-parallel {display: flex;align-items: stretch;justify-content: center;background-color: white;position: relative;}#sk-container-id-1 div.sk-item::before, #sk-container-id-1 div.sk-parallel-item::before {content: \"\";position: absolute;border-left: 1px solid gray;box-sizing: border-box;top: 0;bottom: 0;left: 50%;z-index: -1;}#sk-container-id-1 div.sk-parallel-item {display: flex;flex-direction: column;z-index: 1;position: relative;background-color: white;}#sk-container-id-1 div.sk-parallel-item:first-child::after {align-self: flex-end;width: 50%;}#sk-container-id-1 div.sk-parallel-item:last-child::after {align-self: flex-start;width: 50%;}#sk-container-id-1 div.sk-parallel-item:only-child::after {width: 0;}#sk-container-id-1 div.sk-dashed-wrapped {border: 1px dashed gray;margin: 0 0.4em 0.5em 0.4em;box-sizing: border-box;padding-bottom: 0.4em;background-color: white;}#sk-container-id-1 div.sk-label label {font-family: monospace;font-weight: bold;display: inline-block;line-height: 1.2em;}#sk-container-id-1 div.sk-label-container {text-align: center;}#sk-container-id-1 div.sk-container {/* jupyter's `normalize.less` sets `[hidden] { display: none; }` but bootstrap.min.css set `[hidden] { display: none !important; }` so we also need the `!important` here to be able to override the default hidden behavior on the sphinx rendered scikit-learn.org. See: https://github.com/scikit-learn/scikit-learn/issues/21755 */display: inline-block !important;position: relative;}#sk-container-id-1 div.sk-text-repr-fallback {display: none;}</style><div id=\"sk-container-id-1\" class=\"sk-top-container\"><div class=\"sk-text-repr-fallback\"><pre>LinearRegression()</pre><b>In a Jupyter environment, please rerun this cell to show the HTML representation or trust the notebook. <br />On GitHub, the HTML representation is unable to render, please try loading this page with nbviewer.org.</b></div><div class=\"sk-container\" hidden><div class=\"sk-item\"><div class=\"sk-estimator sk-toggleable\"><input class=\"sk-toggleable__control sk-hidden--visually\" id=\"sk-estimator-id-1\" type=\"checkbox\" checked><label for=\"sk-estimator-id-1\" class=\"sk-toggleable__label sk-toggleable__label-arrow\">LinearRegression</label><div class=\"sk-toggleable__content\"><pre>LinearRegression()</pre></div></div></div></div></div>"
      ],
      "text/plain": [
       "LinearRegression()"
      ]
     },
     "execution_count": 26,
     "metadata": {},
     "output_type": "execute_result"
    }
   ],
   "source": [
    "from sklearn.linear_model import LinearRegression\n",
    "\n",
    "lg = LinearRegression()\n",
    "lg.fit(X_train,y_train)"
   ]
  },
  {
   "cell_type": "code",
   "execution_count": 27,
   "id": "89523648",
   "metadata": {
    "execution": {
     "iopub.execute_input": "2024-07-24T11:46:37.294314Z",
     "iopub.status.busy": "2024-07-24T11:46:37.293606Z",
     "iopub.status.idle": "2024-07-24T11:46:37.319493Z",
     "shell.execute_reply": "2024-07-24T11:46:37.318443Z"
    },
    "papermill": {
     "duration": 0.0769,
     "end_time": "2024-07-24T11:46:37.322089",
     "exception": false,
     "start_time": "2024-07-24T11:46:37.245189",
     "status": "completed"
    },
    "tags": []
   },
   "outputs": [
    {
     "data": {
      "text/html": [
       "<div>\n",
       "<style scoped>\n",
       "    .dataframe tbody tr th:only-of-type {\n",
       "        vertical-align: middle;\n",
       "    }\n",
       "\n",
       "    .dataframe tbody tr th {\n",
       "        vertical-align: top;\n",
       "    }\n",
       "\n",
       "    .dataframe thead th {\n",
       "        text-align: right;\n",
       "    }\n",
       "</style>\n",
       "<table border=\"1\" class=\"dataframe\">\n",
       "  <thead>\n",
       "    <tr style=\"text-align: right;\">\n",
       "      <th></th>\n",
       "      <th>Id</th>\n",
       "      <th>MSSubClass</th>\n",
       "      <th>MSZoning</th>\n",
       "      <th>LotFrontage</th>\n",
       "      <th>LotArea</th>\n",
       "      <th>Street</th>\n",
       "      <th>Alley</th>\n",
       "      <th>LotShape</th>\n",
       "      <th>LandContour</th>\n",
       "      <th>Utilities</th>\n",
       "      <th>...</th>\n",
       "      <th>ScreenPorch</th>\n",
       "      <th>PoolArea</th>\n",
       "      <th>PoolQC</th>\n",
       "      <th>Fence</th>\n",
       "      <th>MiscFeature</th>\n",
       "      <th>MiscVal</th>\n",
       "      <th>MoSold</th>\n",
       "      <th>YrSold</th>\n",
       "      <th>SaleType</th>\n",
       "      <th>SaleCondition</th>\n",
       "    </tr>\n",
       "  </thead>\n",
       "  <tbody>\n",
       "    <tr>\n",
       "      <th>0</th>\n",
       "      <td>1461</td>\n",
       "      <td>20</td>\n",
       "      <td>RH</td>\n",
       "      <td>80.0</td>\n",
       "      <td>11622</td>\n",
       "      <td>Pave</td>\n",
       "      <td>NaN</td>\n",
       "      <td>Reg</td>\n",
       "      <td>Lvl</td>\n",
       "      <td>AllPub</td>\n",
       "      <td>...</td>\n",
       "      <td>120</td>\n",
       "      <td>0</td>\n",
       "      <td>NaN</td>\n",
       "      <td>MnPrv</td>\n",
       "      <td>NaN</td>\n",
       "      <td>0</td>\n",
       "      <td>6</td>\n",
       "      <td>2010</td>\n",
       "      <td>WD</td>\n",
       "      <td>Normal</td>\n",
       "    </tr>\n",
       "    <tr>\n",
       "      <th>1</th>\n",
       "      <td>1462</td>\n",
       "      <td>20</td>\n",
       "      <td>RL</td>\n",
       "      <td>81.0</td>\n",
       "      <td>14267</td>\n",
       "      <td>Pave</td>\n",
       "      <td>NaN</td>\n",
       "      <td>IR1</td>\n",
       "      <td>Lvl</td>\n",
       "      <td>AllPub</td>\n",
       "      <td>...</td>\n",
       "      <td>0</td>\n",
       "      <td>0</td>\n",
       "      <td>NaN</td>\n",
       "      <td>NaN</td>\n",
       "      <td>Gar2</td>\n",
       "      <td>12500</td>\n",
       "      <td>6</td>\n",
       "      <td>2010</td>\n",
       "      <td>WD</td>\n",
       "      <td>Normal</td>\n",
       "    </tr>\n",
       "    <tr>\n",
       "      <th>2</th>\n",
       "      <td>1463</td>\n",
       "      <td>60</td>\n",
       "      <td>RL</td>\n",
       "      <td>74.0</td>\n",
       "      <td>13830</td>\n",
       "      <td>Pave</td>\n",
       "      <td>NaN</td>\n",
       "      <td>IR1</td>\n",
       "      <td>Lvl</td>\n",
       "      <td>AllPub</td>\n",
       "      <td>...</td>\n",
       "      <td>0</td>\n",
       "      <td>0</td>\n",
       "      <td>NaN</td>\n",
       "      <td>MnPrv</td>\n",
       "      <td>NaN</td>\n",
       "      <td>0</td>\n",
       "      <td>3</td>\n",
       "      <td>2010</td>\n",
       "      <td>WD</td>\n",
       "      <td>Normal</td>\n",
       "    </tr>\n",
       "    <tr>\n",
       "      <th>3</th>\n",
       "      <td>1464</td>\n",
       "      <td>60</td>\n",
       "      <td>RL</td>\n",
       "      <td>78.0</td>\n",
       "      <td>9978</td>\n",
       "      <td>Pave</td>\n",
       "      <td>NaN</td>\n",
       "      <td>IR1</td>\n",
       "      <td>Lvl</td>\n",
       "      <td>AllPub</td>\n",
       "      <td>...</td>\n",
       "      <td>0</td>\n",
       "      <td>0</td>\n",
       "      <td>NaN</td>\n",
       "      <td>NaN</td>\n",
       "      <td>NaN</td>\n",
       "      <td>0</td>\n",
       "      <td>6</td>\n",
       "      <td>2010</td>\n",
       "      <td>WD</td>\n",
       "      <td>Normal</td>\n",
       "    </tr>\n",
       "    <tr>\n",
       "      <th>4</th>\n",
       "      <td>1465</td>\n",
       "      <td>120</td>\n",
       "      <td>RL</td>\n",
       "      <td>43.0</td>\n",
       "      <td>5005</td>\n",
       "      <td>Pave</td>\n",
       "      <td>NaN</td>\n",
       "      <td>IR1</td>\n",
       "      <td>HLS</td>\n",
       "      <td>AllPub</td>\n",
       "      <td>...</td>\n",
       "      <td>144</td>\n",
       "      <td>0</td>\n",
       "      <td>NaN</td>\n",
       "      <td>NaN</td>\n",
       "      <td>NaN</td>\n",
       "      <td>0</td>\n",
       "      <td>1</td>\n",
       "      <td>2010</td>\n",
       "      <td>WD</td>\n",
       "      <td>Normal</td>\n",
       "    </tr>\n",
       "  </tbody>\n",
       "</table>\n",
       "<p>5 rows × 80 columns</p>\n",
       "</div>"
      ],
      "text/plain": [
       "     Id  MSSubClass MSZoning  LotFrontage  LotArea Street Alley LotShape  \\\n",
       "0  1461          20       RH         80.0    11622   Pave   NaN      Reg   \n",
       "1  1462          20       RL         81.0    14267   Pave   NaN      IR1   \n",
       "2  1463          60       RL         74.0    13830   Pave   NaN      IR1   \n",
       "3  1464          60       RL         78.0     9978   Pave   NaN      IR1   \n",
       "4  1465         120       RL         43.0     5005   Pave   NaN      IR1   \n",
       "\n",
       "  LandContour Utilities  ... ScreenPorch PoolArea PoolQC  Fence MiscFeature  \\\n",
       "0         Lvl    AllPub  ...         120        0    NaN  MnPrv         NaN   \n",
       "1         Lvl    AllPub  ...           0        0    NaN    NaN        Gar2   \n",
       "2         Lvl    AllPub  ...           0        0    NaN  MnPrv         NaN   \n",
       "3         Lvl    AllPub  ...           0        0    NaN    NaN         NaN   \n",
       "4         HLS    AllPub  ...         144        0    NaN    NaN         NaN   \n",
       "\n",
       "  MiscVal MoSold  YrSold  SaleType  SaleCondition  \n",
       "0       0      6    2010        WD         Normal  \n",
       "1   12500      6    2010        WD         Normal  \n",
       "2       0      3    2010        WD         Normal  \n",
       "3       0      6    2010        WD         Normal  \n",
       "4       0      1    2010        WD         Normal  \n",
       "\n",
       "[5 rows x 80 columns]"
      ]
     },
     "execution_count": 27,
     "metadata": {},
     "output_type": "execute_result"
    }
   ],
   "source": [
    "test.head()"
   ]
  },
  {
   "cell_type": "code",
   "execution_count": 28,
   "id": "61b931b6",
   "metadata": {
    "execution": {
     "iopub.execute_input": "2024-07-24T11:46:37.369327Z",
     "iopub.status.busy": "2024-07-24T11:46:37.368941Z",
     "iopub.status.idle": "2024-07-24T11:46:37.386155Z",
     "shell.execute_reply": "2024-07-24T11:46:37.385028Z"
    },
    "papermill": {
     "duration": 0.043484,
     "end_time": "2024-07-24T11:46:37.388565",
     "exception": false,
     "start_time": "2024-07-24T11:46:37.345081",
     "status": "completed"
    },
    "tags": []
   },
   "outputs": [
    {
     "data": {
      "text/plain": [
       "MSZoning           4\n",
       "LotFrontage      227\n",
       "Alley           1352\n",
       "Utilities          2\n",
       "Exterior1st        1\n",
       "Exterior2nd        1\n",
       "MasVnrType       894\n",
       "MasVnrArea        15\n",
       "BsmtQual          44\n",
       "BsmtCond          45\n",
       "BsmtExposure      44\n",
       "BsmtFinType1      42\n",
       "BsmtFinSF1         1\n",
       "BsmtFinType2      42\n",
       "BsmtFinSF2         1\n",
       "BsmtUnfSF          1\n",
       "TotalBsmtSF        1\n",
       "BsmtFullBath       2\n",
       "BsmtHalfBath       2\n",
       "KitchenQual        1\n",
       "Functional         2\n",
       "FireplaceQu      730\n",
       "GarageType        76\n",
       "GarageYrBlt       78\n",
       "GarageFinish      78\n",
       "GarageCars         1\n",
       "GarageArea         1\n",
       "GarageQual        78\n",
       "GarageCond        78\n",
       "PoolQC          1456\n",
       "Fence           1169\n",
       "MiscFeature     1408\n",
       "SaleType           1\n",
       "dtype: int64"
      ]
     },
     "execution_count": 28,
     "metadata": {},
     "output_type": "execute_result"
    }
   ],
   "source": [
    "# Display columns with null values and their count\n",
    "null_columns = test.isnull().sum()\n",
    "null_columns = null_columns[null_columns > 0]\n",
    "null_columns"
   ]
  },
  {
   "cell_type": "code",
   "execution_count": 29,
   "id": "dcea48a8",
   "metadata": {
    "execution": {
     "iopub.execute_input": "2024-07-24T11:46:37.436862Z",
     "iopub.status.busy": "2024-07-24T11:46:37.436464Z",
     "iopub.status.idle": "2024-07-24T11:46:37.443619Z",
     "shell.execute_reply": "2024-07-24T11:46:37.442684Z"
    },
    "papermill": {
     "duration": 0.034264,
     "end_time": "2024-07-24T11:46:37.446042",
     "exception": false,
     "start_time": "2024-07-24T11:46:37.411778",
     "status": "completed"
    },
    "tags": []
   },
   "outputs": [],
   "source": [
    "test.drop(['LotFrontage', 'Alley', 'MasVnrType', 'FireplaceQu','PoolQC','Fence','MiscFeature'], axis=1, inplace=True)"
   ]
  },
  {
   "cell_type": "code",
   "execution_count": 30,
   "id": "37de8d85",
   "metadata": {
    "execution": {
     "iopub.execute_input": "2024-07-24T11:46:37.494027Z",
     "iopub.status.busy": "2024-07-24T11:46:37.493615Z",
     "iopub.status.idle": "2024-07-24T11:46:37.504736Z",
     "shell.execute_reply": "2024-07-24T11:46:37.503707Z"
    },
    "papermill": {
     "duration": 0.037983,
     "end_time": "2024-07-24T11:46:37.507055",
     "exception": false,
     "start_time": "2024-07-24T11:46:37.469072",
     "status": "completed"
    },
    "tags": []
   },
   "outputs": [],
   "source": [
    "street1 = pd.get_dummies(test['Street'], drop_first=True).astype(int)\n",
    "central_air1 = pd.get_dummies(test['CentralAir'], drop_first=True).astype(int)\n",
    "garage_finish1 = pd.get_dummies(test['GarageFinish'], drop_first=True).astype(int)\n",
    "\n",
    "paved_drive1 = pd.get_dummies(test['PavedDrive'], drop_first=True).astype(int)"
   ]
  },
  {
   "cell_type": "code",
   "execution_count": 31,
   "id": "5a6f3a3c",
   "metadata": {
    "execution": {
     "iopub.execute_input": "2024-07-24T11:46:37.554858Z",
     "iopub.status.busy": "2024-07-24T11:46:37.554472Z",
     "iopub.status.idle": "2024-07-24T11:46:37.562031Z",
     "shell.execute_reply": "2024-07-24T11:46:37.560945Z"
    },
    "papermill": {
     "duration": 0.03411,
     "end_time": "2024-07-24T11:46:37.564425",
     "exception": false,
     "start_time": "2024-07-24T11:46:37.530315",
     "status": "completed"
    },
    "tags": []
   },
   "outputs": [],
   "source": [
    "test.drop(['Street','CentralAir','GarageFinish','HalfBath','BsmtHalfBath','PavedDrive'], axis=1, inplace=True)"
   ]
  },
  {
   "cell_type": "code",
   "execution_count": 32,
   "id": "637e4bdc",
   "metadata": {
    "execution": {
     "iopub.execute_input": "2024-07-24T11:46:37.612661Z",
     "iopub.status.busy": "2024-07-24T11:46:37.611922Z",
     "iopub.status.idle": "2024-07-24T11:46:37.619075Z",
     "shell.execute_reply": "2024-07-24T11:46:37.617964Z"
    },
    "papermill": {
     "duration": 0.033951,
     "end_time": "2024-07-24T11:46:37.621509",
     "exception": false,
     "start_time": "2024-07-24T11:46:37.587558",
     "status": "completed"
    },
    "tags": []
   },
   "outputs": [],
   "source": [
    "test = pd.concat([test, street1, central_air1,garage_finish1,paved_drive1], axis=1)"
   ]
  },
  {
   "cell_type": "code",
   "execution_count": 33,
   "id": "01b42af9",
   "metadata": {
    "execution": {
     "iopub.execute_input": "2024-07-24T11:46:37.670255Z",
     "iopub.status.busy": "2024-07-24T11:46:37.669099Z",
     "iopub.status.idle": "2024-07-24T11:46:37.679069Z",
     "shell.execute_reply": "2024-07-24T11:46:37.677613Z"
    },
    "papermill": {
     "duration": 0.037027,
     "end_time": "2024-07-24T11:46:37.681550",
     "exception": false,
     "start_time": "2024-07-24T11:46:37.644523",
     "status": "completed"
    },
    "tags": []
   },
   "outputs": [
    {
     "name": "stdout",
     "output_type": "stream",
     "text": [
      "Duplicate columns: Index(['Y'], dtype='object')\n"
     ]
    }
   ],
   "source": [
    "# Identify duplicate column names\n",
    "duplicate_columns = test.columns[test.columns.duplicated()].unique()\n",
    "\n",
    "print(\"Duplicate columns:\", duplicate_columns)\n",
    "test = test.loc[:, ~test.columns.duplicated()]"
   ]
  },
  {
   "cell_type": "code",
   "execution_count": 34,
   "id": "06650ef4",
   "metadata": {
    "execution": {
     "iopub.execute_input": "2024-07-24T11:46:37.730396Z",
     "iopub.status.busy": "2024-07-24T11:46:37.729993Z",
     "iopub.status.idle": "2024-07-24T11:46:38.199206Z",
     "shell.execute_reply": "2024-07-24T11:46:38.197734Z"
    },
    "papermill": {
     "duration": 0.496092,
     "end_time": "2024-07-24T11:46:38.201712",
     "exception": false,
     "start_time": "2024-07-24T11:46:37.705620",
     "status": "completed"
    },
    "tags": []
   },
   "outputs": [
    {
     "data": {
      "text/plain": [
       "<Axes: >"
      ]
     },
     "execution_count": 34,
     "metadata": {},
     "output_type": "execute_result"
    },
    {
     "data": {
      "image/png": "[encoded data removed]",
      "text/plain": [
       "<Figure size 640x480 with 1 Axes>"
      ]
     },
     "metadata": {},
     "output_type": "display_data"
    }
   ],
   "source": [
    "sns.heatmap(test.isnull(), yticklabels=False,cbar=False, cmap='viridis')"
   ]
  },
  {
   "cell_type": "code",
   "execution_count": 35,
   "id": "f6b09c20",
   "metadata": {
    "execution": {
     "iopub.execute_input": "2024-07-24T11:46:38.250629Z",
     "iopub.status.busy": "2024-07-24T11:46:38.250240Z",
     "iopub.status.idle": "2024-07-24T11:46:38.259650Z",
     "shell.execute_reply": "2024-07-24T11:46:38.258578Z"
    },
    "papermill": {
     "duration": 0.036565,
     "end_time": "2024-07-24T11:46:38.261922",
     "exception": false,
     "start_time": "2024-07-24T11:46:38.225357",
     "status": "completed"
    },
    "tags": []
   },
   "outputs": [
    {
     "data": {
      "text/plain": [
       "Index(['MSZoning', 'LotShape', 'LandContour', 'Utilities', 'LotConfig',\n",
       "       'LandSlope', 'Neighborhood', 'Condition1', 'Condition2', 'BldgType',\n",
       "       'HouseStyle', 'RoofStyle', 'RoofMatl', 'Exterior1st', 'Exterior2nd',\n",
       "       'ExterQual', 'ExterCond', 'Foundation', 'BsmtQual', 'BsmtCond',\n",
       "       'BsmtExposure', 'BsmtFinType1', 'BsmtFinType2', 'Heating', 'HeatingQC',\n",
       "       'Electrical', 'KitchenQual', 'Functional', 'GarageType', 'GarageQual',\n",
       "       'GarageCond', 'SaleType', 'SaleCondition'],\n",
       "      dtype='object')"
      ]
     },
     "execution_count": 35,
     "metadata": {},
     "output_type": "execute_result"
    }
   ],
   "source": [
    "dtypes = test.dtypes\n",
    "\n",
    "# Filter columns with dtype 'int64'\n",
    "object_columns = dtypes[dtypes == 'object'].index\n",
    "# Print the columns with dtype 'int64'\n",
    "object_columns"
   ]
  },
  {
   "cell_type": "code",
   "execution_count": 36,
   "id": "de687834",
   "metadata": {
    "execution": {
     "iopub.execute_input": "2024-07-24T11:46:38.313282Z",
     "iopub.status.busy": "2024-07-24T11:46:38.312135Z",
     "iopub.status.idle": "2024-07-24T11:46:38.320012Z",
     "shell.execute_reply": "2024-07-24T11:46:38.318889Z"
    },
    "papermill": {
     "duration": 0.035845,
     "end_time": "2024-07-24T11:46:38.322281",
     "exception": false,
     "start_time": "2024-07-24T11:46:38.286436",
     "status": "completed"
    },
    "tags": []
   },
   "outputs": [],
   "source": [
    "test.drop(columns=object_columns, axis=1, inplace=True)"
   ]
  },
  {
   "cell_type": "code",
   "execution_count": 37,
   "id": "c66b8a7c",
   "metadata": {
    "execution": {
     "iopub.execute_input": "2024-07-24T11:46:38.372085Z",
     "iopub.status.busy": "2024-07-24T11:46:38.371648Z",
     "iopub.status.idle": "2024-07-24T11:46:38.391412Z",
     "shell.execute_reply": "2024-07-24T11:46:38.390144Z"
    },
    "papermill": {
     "duration": 0.04804,
     "end_time": "2024-07-24T11:46:38.394271",
     "exception": false,
     "start_time": "2024-07-24T11:46:38.346231",
     "status": "completed"
    },
    "tags": []
   },
   "outputs": [
    {
     "name": "stdout",
     "output_type": "stream",
     "text": [
      "<class 'pandas.core.frame.DataFrame'>\n",
      "RangeIndex: 1459 entries, 0 to 1458\n",
      "Data columns (total 39 columns):\n",
      " #   Column         Non-Null Count  Dtype  \n",
      "---  ------         --------------  -----  \n",
      " 0   Id             1459 non-null   int64  \n",
      " 1   MSSubClass     1459 non-null   int64  \n",
      " 2   LotArea        1459 non-null   int64  \n",
      " 3   OverallQual    1459 non-null   int64  \n",
      " 4   OverallCond    1459 non-null   int64  \n",
      " 5   YearBuilt      1459 non-null   int64  \n",
      " 6   YearRemodAdd   1459 non-null   int64  \n",
      " 7   MasVnrArea     1444 non-null   float64\n",
      " 8   BsmtFinSF1     1458 non-null   float64\n",
      " 9   BsmtFinSF2     1458 non-null   float64\n",
      " 10  BsmtUnfSF      1458 non-null   float64\n",
      " 11  TotalBsmtSF    1458 non-null   float64\n",
      " 12  1stFlrSF       1459 non-null   int64  \n",
      " 13  2ndFlrSF       1459 non-null   int64  \n",
      " 14  LowQualFinSF   1459 non-null   int64  \n",
      " 15  GrLivArea      1459 non-null   int64  \n",
      " 16  BsmtFullBath   1457 non-null   float64\n",
      " 17  FullBath       1459 non-null   int64  \n",
      " 18  BedroomAbvGr   1459 non-null   int64  \n",
      " 19  KitchenAbvGr   1459 non-null   int64  \n",
      " 20  TotRmsAbvGrd   1459 non-null   int64  \n",
      " 21  Fireplaces     1459 non-null   int64  \n",
      " 22  GarageYrBlt    1381 non-null   float64\n",
      " 23  GarageCars     1458 non-null   float64\n",
      " 24  GarageArea     1458 non-null   float64\n",
      " 25  WoodDeckSF     1459 non-null   int64  \n",
      " 26  OpenPorchSF    1459 non-null   int64  \n",
      " 27  EnclosedPorch  1459 non-null   int64  \n",
      " 28  3SsnPorch      1459 non-null   int64  \n",
      " 29  ScreenPorch    1459 non-null   int64  \n",
      " 30  PoolArea       1459 non-null   int64  \n",
      " 31  MiscVal        1459 non-null   int64  \n",
      " 32  MoSold         1459 non-null   int64  \n",
      " 33  YrSold         1459 non-null   int64  \n",
      " 34  Pave           1459 non-null   int64  \n",
      " 35  Y              1459 non-null   int64  \n",
      " 36  RFn            1459 non-null   int64  \n",
      " 37  Unf            1459 non-null   int64  \n",
      " 38  P              1459 non-null   int64  \n",
      "dtypes: float64(9), int64(30)\n",
      "memory usage: 444.7 KB\n"
     ]
    }
   ],
   "source": [
    "test.info()"
   ]
  },
  {
   "cell_type": "code",
   "execution_count": 38,
   "id": "23d57a6c",
   "metadata": {
    "execution": {
     "iopub.execute_input": "2024-07-24T11:46:38.445024Z",
     "iopub.status.busy": "2024-07-24T11:46:38.444047Z",
     "iopub.status.idle": "2024-07-24T11:46:38.857616Z",
     "shell.execute_reply": "2024-07-24T11:46:38.856438Z"
    },
    "papermill": {
     "duration": 0.44148,
     "end_time": "2024-07-24T11:46:38.860304",
     "exception": false,
     "start_time": "2024-07-24T11:46:38.418824",
     "status": "completed"
    },
    "tags": []
   },
   "outputs": [
    {
     "data": {
      "text/plain": [
       "<Axes: >"
      ]
     },
     "execution_count": 38,
     "metadata": {},
     "output_type": "execute_result"
    },
    {
     "data": {
      "image/png": "[encoded data removed]",
      "text/plain": [
       "<Figure size 640x480 with 1 Axes>"
      ]
     },
     "metadata": {},
     "output_type": "display_data"
    }
   ],
   "source": [
    "sns.heatmap(test.isnull(), yticklabels=False,cbar=False, cmap='viridis')"
   ]
  },
  {
   "cell_type": "code",
   "execution_count": 39,
   "id": "8dfb5936",
   "metadata": {
    "execution": {
     "iopub.execute_input": "2024-07-24T11:46:38.913430Z",
     "iopub.status.busy": "2024-07-24T11:46:38.912456Z",
     "iopub.status.idle": "2024-07-24T11:46:38.919132Z",
     "shell.execute_reply": "2024-07-24T11:46:38.918068Z"
    },
    "papermill": {
     "duration": 0.036074,
     "end_time": "2024-07-24T11:46:38.921563",
     "exception": false,
     "start_time": "2024-07-24T11:46:38.885489",
     "status": "completed"
    },
    "tags": []
   },
   "outputs": [],
   "source": [
    " def impute_age(cols):\n",
    "        GarageYrBlt = cols.iloc[0]\n",
    "        Pave = cols.iloc[1]\n",
    "        \n",
    "        if pd.isnull(GarageYrBlt):\n",
    "            if Pave == 1:\n",
    "                return 1980\n",
    "            elif Pave == 0:\n",
    "                return 1970 \n",
    "            else:\n",
    "                return 1978\n",
    "        else:\n",
    "            return GarageYrBlt"
   ]
  },
  {
   "cell_type": "code",
   "execution_count": 40,
   "id": "35f76489",
   "metadata": {
    "execution": {
     "iopub.execute_input": "2024-07-24T11:46:38.974337Z",
     "iopub.status.busy": "2024-07-24T11:46:38.973140Z",
     "iopub.status.idle": "2024-07-24T11:46:39.027543Z",
     "shell.execute_reply": "2024-07-24T11:46:39.026440Z"
    },
    "papermill": {
     "duration": 0.083865,
     "end_time": "2024-07-24T11:46:39.030371",
     "exception": false,
     "start_time": "2024-07-24T11:46:38.946506",
     "status": "completed"
    },
    "tags": []
   },
   "outputs": [],
   "source": [
    "test['GarageYrBlt'] = test[['GarageYrBlt', 'Pave']].apply(impute_age, axis=1)"
   ]
  },
  {
   "cell_type": "code",
   "execution_count": 41,
   "id": "f77e84b7",
   "metadata": {
    "execution": {
     "iopub.execute_input": "2024-07-24T11:46:39.083724Z",
     "iopub.status.busy": "2024-07-24T11:46:39.082713Z",
     "iopub.status.idle": "2024-07-24T11:46:39.423723Z",
     "shell.execute_reply": "2024-07-24T11:46:39.422513Z"
    },
    "papermill": {
     "duration": 0.370901,
     "end_time": "2024-07-24T11:46:39.426584",
     "exception": false,
     "start_time": "2024-07-24T11:46:39.055683",
     "status": "completed"
    },
    "tags": []
   },
   "outputs": [
    {
     "data": {
      "text/plain": [
       "<Axes: xlabel='Pave', ylabel='MasVnrArea'>"
      ]
     },
     "execution_count": 41,
     "metadata": {},
     "output_type": "execute_result"
    },
    {
     "data": {
      "image/png": "[encoded data removed]",
      "text/plain": [
       "<Figure size 640x480 with 1 Axes>"
      ]
     },
     "metadata": {},
     "output_type": "display_data"
    }
   ],
   "source": [
    "sns.violinplot(x='Pave', y='MasVnrArea', data=test)"
   ]
  },
  {
   "cell_type": "code",
   "execution_count": null,
   "id": "04b69b1e",
   "metadata": {
    "papermill": {
     "duration": 0.026231,
     "end_time": "2024-07-24T11:46:39.478786",
     "exception": false,
     "start_time": "2024-07-24T11:46:39.452555",
     "status": "completed"
    },
    "tags": []
   },
   "outputs": [],
   "source": []
  },
  {
   "cell_type": "code",
   "execution_count": 42,
   "id": "629330c2",
   "metadata": {
    "execution": {
     "iopub.execute_input": "2024-07-24T11:46:39.532431Z",
     "iopub.status.busy": "2024-07-24T11:46:39.532018Z",
     "iopub.status.idle": "2024-07-24T11:46:39.585748Z",
     "shell.execute_reply": "2024-07-24T11:46:39.584643Z"
    },
    "papermill": {
     "duration": 0.083846,
     "end_time": "2024-07-24T11:46:39.588514",
     "exception": false,
     "start_time": "2024-07-24T11:46:39.504668",
     "status": "completed"
    },
    "tags": []
   },
   "outputs": [],
   "source": [
    "test['MasVnrArea'] = test[['MasVnrArea', 'Pave']].apply(impute_age, axis=1)"
   ]
  },
  {
   "cell_type": "code",
   "execution_count": 43,
   "id": "d6d6c2d7",
   "metadata": {
    "execution": {
     "iopub.execute_input": "2024-07-24T11:46:39.642925Z",
     "iopub.status.busy": "2024-07-24T11:46:39.641818Z",
     "iopub.status.idle": "2024-07-24T11:46:40.062027Z",
     "shell.execute_reply": "2024-07-24T11:46:40.060734Z"
    },
    "papermill": {
     "duration": 0.450094,
     "end_time": "2024-07-24T11:46:40.064549",
     "exception": false,
     "start_time": "2024-07-24T11:46:39.614455",
     "status": "completed"
    },
    "tags": []
   },
   "outputs": [
    {
     "data": {
      "text/plain": [
       "<Axes: >"
      ]
     },
     "execution_count": 43,
     "metadata": {},
     "output_type": "execute_result"
    },
    {
     "data": {
      "image/png": "[encoded data removed]",
      "text/plain": [
       "<Figure size 640x480 with 1 Axes>"
      ]
     },
     "metadata": {},
     "output_type": "display_data"
    }
   ],
   "source": [
    "sns.heatmap(test.isnull(), yticklabels=False,cbar=False, cmap='viridis')"
   ]
  },
  {
   "cell_type": "code",
   "execution_count": 44,
   "id": "8a45cf32",
   "metadata": {
    "execution": {
     "iopub.execute_input": "2024-07-24T11:46:40.120139Z",
     "iopub.status.busy": "2024-07-24T11:46:40.119707Z",
     "iopub.status.idle": "2024-07-24T11:46:40.161977Z",
     "shell.execute_reply": "2024-07-24T11:46:40.160947Z"
    },
    "papermill": {
     "duration": 0.073228,
     "end_time": "2024-07-24T11:46:40.164609",
     "exception": false,
     "start_time": "2024-07-24T11:46:40.091381",
     "status": "completed"
    },
    "tags": []
   },
   "outputs": [],
   "source": [
    "mode_values = test.mode().iloc[0]\n",
    "\n",
    "# Fill NaN values with the mode\n",
    "test.fillna(mode_values, inplace=True)"
   ]
  },
  {
   "cell_type": "code",
   "execution_count": 45,
   "id": "0c0134b7",
   "metadata": {
    "execution": {
     "iopub.execute_input": "2024-07-24T11:46:40.219927Z",
     "iopub.status.busy": "2024-07-24T11:46:40.219514Z",
     "iopub.status.idle": "2024-07-24T11:46:40.229644Z",
     "shell.execute_reply": "2024-07-24T11:46:40.228430Z"
    },
    "papermill": {
     "duration": 0.040528,
     "end_time": "2024-07-24T11:46:40.232128",
     "exception": false,
     "start_time": "2024-07-24T11:46:40.191600",
     "status": "completed"
    },
    "tags": []
   },
   "outputs": [
    {
     "data": {
      "text/plain": [
       "Series([], dtype: int64)"
      ]
     },
     "execution_count": 45,
     "metadata": {},
     "output_type": "execute_result"
    }
   ],
   "source": [
    "# Display columns with null values and their count\n",
    "null_columns = test.isnull().sum()\n",
    "null_columns = null_columns[null_columns > 0]\n",
    "null_columns"
   ]
  },
  {
   "cell_type": "code",
   "execution_count": 46,
   "id": "1ad5c01a",
   "metadata": {
    "execution": {
     "iopub.execute_input": "2024-07-24T11:46:40.288454Z",
     "iopub.status.busy": "2024-07-24T11:46:40.287718Z",
     "iopub.status.idle": "2024-07-24T11:46:40.313030Z",
     "shell.execute_reply": "2024-07-24T11:46:40.311961Z"
    },
    "papermill": {
     "duration": 0.056292,
     "end_time": "2024-07-24T11:46:40.315541",
     "exception": false,
     "start_time": "2024-07-24T11:46:40.259249",
     "status": "completed"
    },
    "tags": []
   },
   "outputs": [
    {
     "data": {
      "text/html": [
       "<div>\n",
       "<style scoped>\n",
       "    .dataframe tbody tr th:only-of-type {\n",
       "        vertical-align: middle;\n",
       "    }\n",
       "\n",
       "    .dataframe tbody tr th {\n",
       "        vertical-align: top;\n",
       "    }\n",
       "\n",
       "    .dataframe thead th {\n",
       "        text-align: right;\n",
       "    }\n",
       "</style>\n",
       "<table border=\"1\" class=\"dataframe\">\n",
       "  <thead>\n",
       "    <tr style=\"text-align: right;\">\n",
       "      <th></th>\n",
       "      <th>Id</th>\n",
       "      <th>MSSubClass</th>\n",
       "      <th>LotArea</th>\n",
       "      <th>OverallQual</th>\n",
       "      <th>OverallCond</th>\n",
       "      <th>YearBuilt</th>\n",
       "      <th>YearRemodAdd</th>\n",
       "      <th>MasVnrArea</th>\n",
       "      <th>BsmtFinSF1</th>\n",
       "      <th>BsmtFinSF2</th>\n",
       "      <th>...</th>\n",
       "      <th>ScreenPorch</th>\n",
       "      <th>PoolArea</th>\n",
       "      <th>MiscVal</th>\n",
       "      <th>MoSold</th>\n",
       "      <th>YrSold</th>\n",
       "      <th>Pave</th>\n",
       "      <th>Y</th>\n",
       "      <th>RFn</th>\n",
       "      <th>Unf</th>\n",
       "      <th>P</th>\n",
       "    </tr>\n",
       "  </thead>\n",
       "  <tbody>\n",
       "    <tr>\n",
       "      <th>1454</th>\n",
       "      <td>2915</td>\n",
       "      <td>160</td>\n",
       "      <td>1936</td>\n",
       "      <td>4</td>\n",
       "      <td>7</td>\n",
       "      <td>1970</td>\n",
       "      <td>1970</td>\n",
       "      <td>0.0</td>\n",
       "      <td>0.0</td>\n",
       "      <td>0.0</td>\n",
       "      <td>...</td>\n",
       "      <td>0</td>\n",
       "      <td>0</td>\n",
       "      <td>0</td>\n",
       "      <td>6</td>\n",
       "      <td>2006</td>\n",
       "      <td>1</td>\n",
       "      <td>1</td>\n",
       "      <td>0</td>\n",
       "      <td>0</td>\n",
       "      <td>0</td>\n",
       "    </tr>\n",
       "    <tr>\n",
       "      <th>1455</th>\n",
       "      <td>2916</td>\n",
       "      <td>160</td>\n",
       "      <td>1894</td>\n",
       "      <td>4</td>\n",
       "      <td>5</td>\n",
       "      <td>1970</td>\n",
       "      <td>1970</td>\n",
       "      <td>0.0</td>\n",
       "      <td>252.0</td>\n",
       "      <td>0.0</td>\n",
       "      <td>...</td>\n",
       "      <td>0</td>\n",
       "      <td>0</td>\n",
       "      <td>0</td>\n",
       "      <td>4</td>\n",
       "      <td>2006</td>\n",
       "      <td>1</td>\n",
       "      <td>1</td>\n",
       "      <td>0</td>\n",
       "      <td>1</td>\n",
       "      <td>0</td>\n",
       "    </tr>\n",
       "    <tr>\n",
       "      <th>1456</th>\n",
       "      <td>2917</td>\n",
       "      <td>20</td>\n",
       "      <td>20000</td>\n",
       "      <td>5</td>\n",
       "      <td>7</td>\n",
       "      <td>1960</td>\n",
       "      <td>1996</td>\n",
       "      <td>0.0</td>\n",
       "      <td>1224.0</td>\n",
       "      <td>0.0</td>\n",
       "      <td>...</td>\n",
       "      <td>0</td>\n",
       "      <td>0</td>\n",
       "      <td>0</td>\n",
       "      <td>9</td>\n",
       "      <td>2006</td>\n",
       "      <td>1</td>\n",
       "      <td>1</td>\n",
       "      <td>0</td>\n",
       "      <td>1</td>\n",
       "      <td>0</td>\n",
       "    </tr>\n",
       "    <tr>\n",
       "      <th>1457</th>\n",
       "      <td>2918</td>\n",
       "      <td>85</td>\n",
       "      <td>10441</td>\n",
       "      <td>5</td>\n",
       "      <td>5</td>\n",
       "      <td>1992</td>\n",
       "      <td>1992</td>\n",
       "      <td>0.0</td>\n",
       "      <td>337.0</td>\n",
       "      <td>0.0</td>\n",
       "      <td>...</td>\n",
       "      <td>0</td>\n",
       "      <td>0</td>\n",
       "      <td>700</td>\n",
       "      <td>7</td>\n",
       "      <td>2006</td>\n",
       "      <td>1</td>\n",
       "      <td>1</td>\n",
       "      <td>0</td>\n",
       "      <td>0</td>\n",
       "      <td>0</td>\n",
       "    </tr>\n",
       "    <tr>\n",
       "      <th>1458</th>\n",
       "      <td>2919</td>\n",
       "      <td>60</td>\n",
       "      <td>9627</td>\n",
       "      <td>7</td>\n",
       "      <td>5</td>\n",
       "      <td>1993</td>\n",
       "      <td>1994</td>\n",
       "      <td>94.0</td>\n",
       "      <td>758.0</td>\n",
       "      <td>0.0</td>\n",
       "      <td>...</td>\n",
       "      <td>0</td>\n",
       "      <td>0</td>\n",
       "      <td>0</td>\n",
       "      <td>11</td>\n",
       "      <td>2006</td>\n",
       "      <td>1</td>\n",
       "      <td>1</td>\n",
       "      <td>0</td>\n",
       "      <td>0</td>\n",
       "      <td>0</td>\n",
       "    </tr>\n",
       "  </tbody>\n",
       "</table>\n",
       "<p>5 rows × 39 columns</p>\n",
       "</div>"
      ],
      "text/plain": [
       "        Id  MSSubClass  LotArea  OverallQual  OverallCond  YearBuilt  \\\n",
       "1454  2915         160     1936            4            7       1970   \n",
       "1455  2916         160     1894            4            5       1970   \n",
       "1456  2917          20    20000            5            7       1960   \n",
       "1457  2918          85    10441            5            5       1992   \n",
       "1458  2919          60     9627            7            5       1993   \n",
       "\n",
       "      YearRemodAdd  MasVnrArea  BsmtFinSF1  BsmtFinSF2  ...  ScreenPorch  \\\n",
       "1454          1970         0.0         0.0         0.0  ...            0   \n",
       "1455          1970         0.0       252.0         0.0  ...            0   \n",
       "1456          1996         0.0      1224.0         0.0  ...            0   \n",
       "1457          1992         0.0       337.0         0.0  ...            0   \n",
       "1458          1994        94.0       758.0         0.0  ...            0   \n",
       "\n",
       "      PoolArea  MiscVal  MoSold  YrSold  Pave  Y  RFn  Unf  P  \n",
       "1454         0        0       6    2006     1  1    0    0  0  \n",
       "1455         0        0       4    2006     1  1    0    1  0  \n",
       "1456         0        0       9    2006     1  1    0    1  0  \n",
       "1457         0      700       7    2006     1  1    0    0  0  \n",
       "1458         0        0      11    2006     1  1    0    0  0  \n",
       "\n",
       "[5 rows x 39 columns]"
      ]
     },
     "execution_count": 46,
     "metadata": {},
     "output_type": "execute_result"
    }
   ],
   "source": [
    "test.tail()"
   ]
  },
  {
   "cell_type": "code",
   "execution_count": 47,
   "id": "bde0777b",
   "metadata": {
    "execution": {
     "iopub.execute_input": "2024-07-24T11:46:40.371714Z",
     "iopub.status.busy": "2024-07-24T11:46:40.371306Z",
     "iopub.status.idle": "2024-07-24T11:46:40.379100Z",
     "shell.execute_reply": "2024-07-24T11:46:40.377827Z"
    },
    "papermill": {
     "duration": 0.038889,
     "end_time": "2024-07-24T11:46:40.381521",
     "exception": false,
     "start_time": "2024-07-24T11:46:40.342632",
     "status": "completed"
    },
    "tags": []
   },
   "outputs": [
    {
     "data": {
      "text/plain": [
       "Index(['Id', 'MSSubClass', 'LotArea', 'OverallQual', 'OverallCond',\n",
       "       'YearBuilt', 'YearRemodAdd', 'MasVnrArea', 'BsmtFinSF1', 'BsmtFinSF2',\n",
       "       'BsmtUnfSF', 'TotalBsmtSF', '1stFlrSF', '2ndFlrSF', 'LowQualFinSF',\n",
       "       'GrLivArea', 'BsmtFullBath', 'FullBath', 'BedroomAbvGr', 'KitchenAbvGr',\n",
       "       'TotRmsAbvGrd', 'Fireplaces', 'GarageYrBlt', 'GarageCars', 'GarageArea',\n",
       "       'WoodDeckSF', 'OpenPorchSF', 'EnclosedPorch', '3SsnPorch',\n",
       "       'ScreenPorch', 'PoolArea', 'MiscVal', 'MoSold', 'YrSold', 'SalePrice',\n",
       "       'Pave', 'Y', 'RFn', 'Unf', 'P'],\n",
       "      dtype='object')"
      ]
     },
     "execution_count": 47,
     "metadata": {},
     "output_type": "execute_result"
    }
   ],
   "source": [
    "train.columns"
   ]
  },
  {
   "cell_type": "code",
   "execution_count": 48,
   "id": "6c0a0946",
   "metadata": {
    "execution": {
     "iopub.execute_input": "2024-07-24T11:46:40.438278Z",
     "iopub.status.busy": "2024-07-24T11:46:40.437357Z",
     "iopub.status.idle": "2024-07-24T11:46:40.444487Z",
     "shell.execute_reply": "2024-07-24T11:46:40.443479Z"
    },
    "papermill": {
     "duration": 0.038497,
     "end_time": "2024-07-24T11:46:40.447107",
     "exception": false,
     "start_time": "2024-07-24T11:46:40.408610",
     "status": "completed"
    },
    "tags": []
   },
   "outputs": [
    {
     "data": {
      "text/plain": [
       "Index(['Id', 'MSSubClass', 'LotArea', 'OverallQual', 'OverallCond',\n",
       "       'YearBuilt', 'YearRemodAdd', 'MasVnrArea', 'BsmtFinSF1', 'BsmtFinSF2',\n",
       "       'BsmtUnfSF', 'TotalBsmtSF', '1stFlrSF', '2ndFlrSF', 'LowQualFinSF',\n",
       "       'GrLivArea', 'BsmtFullBath', 'FullBath', 'BedroomAbvGr', 'KitchenAbvGr',\n",
       "       'TotRmsAbvGrd', 'Fireplaces', 'GarageYrBlt', 'GarageCars', 'GarageArea',\n",
       "       'WoodDeckSF', 'OpenPorchSF', 'EnclosedPorch', '3SsnPorch',\n",
       "       'ScreenPorch', 'PoolArea', 'MiscVal', 'MoSold', 'YrSold', 'Pave', 'Y',\n",
       "       'RFn', 'Unf', 'P'],\n",
       "      dtype='object')"
      ]
     },
     "execution_count": 48,
     "metadata": {},
     "output_type": "execute_result"
    }
   ],
   "source": [
    "test.columns"
   ]
  },
  {
   "cell_type": "code",
   "execution_count": null,
   "id": "85e4b68f",
   "metadata": {
    "execution": {
     "iopub.execute_input": "2024-07-23T19:25:12.885327Z",
     "iopub.status.busy": "2024-07-23T19:25:12.884911Z",
     "iopub.status.idle": "2024-07-23T19:25:12.895686Z",
     "shell.execute_reply": "2024-07-23T19:25:12.894303Z",
     "shell.execute_reply.started": "2024-07-23T19:25:12.885296Z"
    },
    "papermill": {
     "duration": 0.026982,
     "end_time": "2024-07-24T11:46:40.501340",
     "exception": false,
     "start_time": "2024-07-24T11:46:40.474358",
     "status": "completed"
    },
    "tags": []
   },
   "outputs": [],
   "source": []
  },
  {
   "cell_type": "code",
   "execution_count": 49,
   "id": "acf76ab6",
   "metadata": {
    "execution": {
     "iopub.execute_input": "2024-07-24T11:46:40.557954Z",
     "iopub.status.busy": "2024-07-24T11:46:40.557537Z",
     "iopub.status.idle": "2024-07-24T11:46:40.567163Z",
     "shell.execute_reply": "2024-07-24T11:46:40.566101Z"
    },
    "papermill": {
     "duration": 0.041053,
     "end_time": "2024-07-24T11:46:40.569640",
     "exception": false,
     "start_time": "2024-07-24T11:46:40.528587",
     "status": "completed"
    },
    "tags": []
   },
   "outputs": [],
   "source": [
    "X_final = test\n",
    "pred = lg.predict(X_final)"
   ]
  },
  {
   "cell_type": "code",
   "execution_count": 50,
   "id": "a85fb136",
   "metadata": {
    "execution": {
     "iopub.execute_input": "2024-07-24T11:46:40.668785Z",
     "iopub.status.busy": "2024-07-24T11:46:40.668131Z",
     "iopub.status.idle": "2024-07-24T11:46:40.676256Z",
     "shell.execute_reply": "2024-07-24T11:46:40.675091Z"
    },
    "papermill": {
     "duration": 0.071257,
     "end_time": "2024-07-24T11:46:40.680000",
     "exception": false,
     "start_time": "2024-07-24T11:46:40.608743",
     "status": "completed"
    },
    "tags": []
   },
   "outputs": [],
   "source": [
    "output = pd.DataFrame({'Id': test['Id'], 'SalePrice': pred})"
   ]
  },
  {
   "cell_type": "code",
   "execution_count": 51,
   "id": "f86131dd",
   "metadata": {
    "execution": {
     "iopub.execute_input": "2024-07-24T11:46:40.739373Z",
     "iopub.status.busy": "2024-07-24T11:46:40.738968Z",
     "iopub.status.idle": "2024-07-24T11:46:40.750830Z",
     "shell.execute_reply": "2024-07-24T11:46:40.749843Z"
    },
    "papermill": {
     "duration": 0.042394,
     "end_time": "2024-07-24T11:46:40.753085",
     "exception": false,
     "start_time": "2024-07-24T11:46:40.710691",
     "status": "completed"
    },
    "tags": []
   },
   "outputs": [
    {
     "data": {
      "text/html": [
       "<div>\n",
       "<style scoped>\n",
       "    .dataframe tbody tr th:only-of-type {\n",
       "        vertical-align: middle;\n",
       "    }\n",
       "\n",
       "    .dataframe tbody tr th {\n",
       "        vertical-align: top;\n",
       "    }\n",
       "\n",
       "    .dataframe thead th {\n",
       "        text-align: right;\n",
       "    }\n",
       "</style>\n",
       "<table border=\"1\" class=\"dataframe\">\n",
       "  <thead>\n",
       "    <tr style=\"text-align: right;\">\n",
       "      <th></th>\n",
       "      <th>Id</th>\n",
       "      <th>SalePrice</th>\n",
       "    </tr>\n",
       "  </thead>\n",
       "  <tbody>\n",
       "    <tr>\n",
       "      <th>0</th>\n",
       "      <td>1461</td>\n",
       "      <td>120378.545909</td>\n",
       "    </tr>\n",
       "    <tr>\n",
       "      <th>1</th>\n",
       "      <td>1462</td>\n",
       "      <td>154445.976788</td>\n",
       "    </tr>\n",
       "    <tr>\n",
       "      <th>2</th>\n",
       "      <td>1463</td>\n",
       "      <td>179916.944836</td>\n",
       "    </tr>\n",
       "    <tr>\n",
       "      <th>3</th>\n",
       "      <td>1464</td>\n",
       "      <td>207015.442311</td>\n",
       "    </tr>\n",
       "    <tr>\n",
       "      <th>4</th>\n",
       "      <td>1465</td>\n",
       "      <td>191825.396303</td>\n",
       "    </tr>\n",
       "    <tr>\n",
       "      <th>...</th>\n",
       "      <td>...</td>\n",
       "      <td>...</td>\n",
       "    </tr>\n",
       "    <tr>\n",
       "      <th>1454</th>\n",
       "      <td>2915</td>\n",
       "      <td>61667.024492</td>\n",
       "    </tr>\n",
       "    <tr>\n",
       "      <th>1455</th>\n",
       "      <td>2916</td>\n",
       "      <td>60977.974849</td>\n",
       "    </tr>\n",
       "    <tr>\n",
       "      <th>1456</th>\n",
       "      <td>2917</td>\n",
       "      <td>174897.773203</td>\n",
       "    </tr>\n",
       "    <tr>\n",
       "      <th>1457</th>\n",
       "      <td>2918</td>\n",
       "      <td>100443.460288</td>\n",
       "    </tr>\n",
       "    <tr>\n",
       "      <th>1458</th>\n",
       "      <td>2919</td>\n",
       "      <td>256357.572621</td>\n",
       "    </tr>\n",
       "  </tbody>\n",
       "</table>\n",
       "<p>1459 rows × 2 columns</p>\n",
       "</div>"
      ],
      "text/plain": [
       "        Id      SalePrice\n",
       "0     1461  120378.545909\n",
       "1     1462  154445.976788\n",
       "2     1463  179916.944836\n",
       "3     1464  207015.442311\n",
       "4     1465  191825.396303\n",
       "...    ...            ...\n",
       "1454  2915   61667.024492\n",
       "1455  2916   60977.974849\n",
       "1456  2917  174897.773203\n",
       "1457  2918  100443.460288\n",
       "1458  2919  256357.572621\n",
       "\n",
       "[1459 rows x 2 columns]"
      ]
     },
     "execution_count": 51,
     "metadata": {},
     "output_type": "execute_result"
    }
   ],
   "source": [
    "output"
   ]
  },
  {
   "cell_type": "code",
   "execution_count": 52,
   "id": "48c756af",
   "metadata": {
    "execution": {
     "iopub.execute_input": "2024-07-24T11:46:40.808842Z",
     "iopub.status.busy": "2024-07-24T11:46:40.808426Z",
     "iopub.status.idle": "2024-07-24T11:46:40.821054Z",
     "shell.execute_reply": "2024-07-24T11:46:40.819978Z"
    },
    "papermill": {
     "duration": 0.043672,
     "end_time": "2024-07-24T11:46:40.823755",
     "exception": false,
     "start_time": "2024-07-24T11:46:40.780083",
     "status": "completed"
    },
    "tags": []
   },
   "outputs": [],
   "source": [
    "output.to_csv('submission.csv', index=False)"
   ]
  },
  {
   "cell_type": "code",
   "execution_count": 53,
   "id": "0bf3799d",
   "metadata": {
    "execution": {
     "iopub.execute_input": "2024-07-24T11:46:40.880786Z",
     "iopub.status.busy": "2024-07-24T11:46:40.880369Z",
     "iopub.status.idle": "2024-07-24T11:46:40.887050Z",
     "shell.execute_reply": "2024-07-24T11:46:40.885981Z"
    },
    "papermill": {
     "duration": 0.038085,
     "end_time": "2024-07-24T11:46:40.889482",
     "exception": false,
     "start_time": "2024-07-24T11:46:40.851397",
     "status": "completed"
    },
    "tags": []
   },
   "outputs": [
    {
     "data": {
      "text/plain": [
       "1459"
      ]
     },
     "execution_count": 53,
     "metadata": {},
     "output_type": "execute_result"
    }
   ],
   "source": [
    "len(output)"
   ]
  },
  {
   "cell_type": "code",
   "execution_count": null,
   "id": "e2c831e8",
   "metadata": {
    "papermill": {
     "duration": 0.027249,
     "end_time": "2024-07-24T11:46:40.944461",
     "exception": false,
     "start_time": "2024-07-24T11:46:40.917212",
     "status": "completed"
    },
    "tags": []
   },
   "outputs": [],
   "source": []
  }
 ],
 "metadata": {
  "kaggle": {
   "accelerator": "none",
   "dataSources": [
    {
     "databundleVersionId": 868283,
     "sourceId": 5407,
     "sourceType": "competition"
    }
   ],
   "dockerImageVersionId": 30746,
   "isGpuEnabled": false,
   "isInternetEnabled": false,
   "language": "python",
   "sourceType": "notebook"
  },
  "kernelspec": {
   "display_name": "Python 3",
   "language": "python",
   "name": "python3"
  },
  "language_info": {
   "codemirror_mode": {
    "name": "ipython",
    "version": 3
   },
   "file_extension": ".py",
   "mimetype": "text/x-python",
   "name": "python",
   "nbconvert_exporter": "python",
   "pygments_lexer": "ipython3",
   "version": "3.10.13"
  },
  "papermill": {
   "default_parameters": {},
   "duration": 13.957999,
   "end_time": "2024-07-24T11:46:41.593431",
   "environment_variables": {},
   "exception": null,
   "input_path": "__notebook__.ipynb",
   "output_path": "__notebook__.ipynb",
   "parameters": {},
   "start_time": "2024-07-24T11:46:27.635432",
   "version": "2.5.0"
  }
 },
 "nbformat": 4,
 "nbformat_minor": 5
}
