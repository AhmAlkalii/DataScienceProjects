{
 "cells": [
  {
   "cell_type": "code",
   "execution_count": 1,
   "id": "497305b8",
   "metadata": {
    "_cell_guid": "b1076dfc-b9ad-4769-8c92-a6c4dae69d19",
    "_uuid": "8f2839f25d086af736a60e9eeb907d3b93b6e0e5",
    "execution": {
     "iopub.execute_input": "2024-07-23T16:15:45.869737Z",
     "iopub.status.busy": "2024-07-23T16:15:45.869300Z",
     "iopub.status.idle": "2024-07-23T16:15:46.883163Z",
     "shell.execute_reply": "2024-07-23T16:15:46.881855Z"
    },
    "papermill": {
     "duration": 1.024072,
     "end_time": "2024-07-23T16:15:46.885740",
     "exception": false,
     "start_time": "2024-07-23T16:15:45.861668",
     "status": "completed"
    },
    "tags": []
   },
   "outputs": [
    {
     "name": "stdout",
     "output_type": "stream",
     "text": [
      "/kaggle/input/titanic/train.csv\n",
      "/kaggle/input/titanic/test.csv\n",
      "/kaggle/input/titanic/gender_submission.csv\n"
     ]
    }
   ],
   "source": [
    "# This Python 3 environment comes with many helpful analytics libraries installed\n",
    "# It is defined by the kaggle/python Docker image: https://github.com/kaggle/docker-python\n",
    "# For example, here's several helpful packages to load\n",
    "\n",
    "import numpy as np # linear algebra\n",
    "import pandas as pd # data processing, CSV file I/O (e.g. pd.read_csv)\n",
    "\n",
    "# Input data files are available in the read-only \"../input/\" directory\n",
    "# For example, running this (by clicking run or pressing Shift+Enter) will list all files under the input directory\n",
    "\n",
    "import os\n",
    "for dirname, _, filenames in os.walk('/kaggle/input'):\n",
    "    for filename in filenames:\n",
    "        print(os.path.join(dirname, filename))\n",
    "\n",
    "# You can write up to 20GB to the current directory (/kaggle/working/) that gets preserved as output when you create a version using \"Save & Run All\" \n",
    "# You can also write temporary files to /kaggle/temp/, but they won't be saved outside of the current session"
   ]
  },
  {
   "cell_type": "code",
   "execution_count": 2,
   "id": "10e3bb83",
   "metadata": {
    "execution": {
     "iopub.execute_input": "2024-07-23T16:15:46.899788Z",
     "iopub.status.busy": "2024-07-23T16:15:46.898583Z",
     "iopub.status.idle": "2024-07-23T16:15:48.430233Z",
     "shell.execute_reply": "2024-07-23T16:15:48.428894Z"
    },
    "papermill": {
     "duration": 1.541606,
     "end_time": "2024-07-23T16:15:48.432976",
     "exception": false,
     "start_time": "2024-07-23T16:15:46.891370",
     "status": "completed"
    },
    "tags": []
   },
   "outputs": [],
   "source": [
    "import pandas as pd\n",
    "import numpy as np\n",
    "from sklearn.linear_model import LogisticRegression\n",
    "from sklearn.preprocessing import StandardScaler\n",
    "\n",
    "# Load the training and test data\n",
    "train = pd.read_csv(\"/kaggle/input/titanic/train.csv\")\n",
    "test = pd.read_csv(\"/kaggle/input/titanic/test.csv\")"
   ]
  },
  {
   "cell_type": "code",
   "execution_count": 3,
   "id": "f81cfec0",
   "metadata": {
    "execution": {
     "iopub.execute_input": "2024-07-23T16:15:48.444505Z",
     "iopub.status.busy": "2024-07-23T16:15:48.444079Z",
     "iopub.status.idle": "2024-07-23T16:15:48.512494Z",
     "shell.execute_reply": "2024-07-23T16:15:48.511145Z"
    },
    "papermill": {
     "duration": 0.077414,
     "end_time": "2024-07-23T16:15:48.515141",
     "exception": false,
     "start_time": "2024-07-23T16:15:48.437727",
     "status": "completed"
    },
    "tags": []
   },
   "outputs": [],
   "source": [
    "import pandas as pd\n",
    "\n",
    "def preprocess_data(df):\n",
    "    # Impute Age based on Pclass\n",
    "    def impute_age(cols):\n",
    "        Age = cols.iloc[0]\n",
    "        Pclass = cols.iloc[1]\n",
    "        \n",
    "        if pd.isnull(Age):\n",
    "            if Pclass == 1:\n",
    "                return 37\n",
    "            elif Pclass == 2:\n",
    "                return 29\n",
    "            else:\n",
    "                return 24\n",
    "        else:\n",
    "            return Age\n",
    "\n",
    "    df['Age'] = df[['Age', 'Pclass']].apply(impute_age, axis=1)\n",
    "    \n",
    "    # Drop Cabin and fill missing Fare values\n",
    "    df.drop('Cabin', axis=1, inplace=True)\n",
    "    df['Fare'] = df['Fare'].fillna(df['Fare'].median())\n",
    "    \n",
    "    # Fill missing Embarked values\n",
    "    df['Embarked'] = df['Embarked'].fillna(df['Embarked'].mode()[0])\n",
    "    \n",
    "    # Encode categorical variables\n",
    "    # Ensure dummy variables are integers\n",
    "    sex = pd.get_dummies(df['Sex'], drop_first=True).astype(int)\n",
    "    embark = pd.get_dummies(df['Embarked'], drop_first=True).astype(int)\n",
    "\n",
    "    \n",
    "    df.drop(['Sex', 'Embarked', 'Name', 'Ticket'], axis=1, inplace=True)\n",
    "    df = pd.concat([df, sex, embark], axis=1)\n",
    "    \n",
    "    return df\n",
    "\n",
    "# Apply preprocessing to train and test DataFrames\n",
    "train = preprocess_data(train)\n",
    "test = preprocess_data(test)\n"
   ]
  },
  {
   "cell_type": "code",
   "execution_count": 4,
   "id": "1f36fd86",
   "metadata": {
    "execution": {
     "iopub.execute_input": "2024-07-23T16:15:48.526357Z",
     "iopub.status.busy": "2024-07-23T16:15:48.525964Z",
     "iopub.status.idle": "2024-07-23T16:15:48.548124Z",
     "shell.execute_reply": "2024-07-23T16:15:48.546996Z"
    },
    "papermill": {
     "duration": 0.03057,
     "end_time": "2024-07-23T16:15:48.550585",
     "exception": false,
     "start_time": "2024-07-23T16:15:48.520015",
     "status": "completed"
    },
    "tags": []
   },
   "outputs": [
    {
     "data": {
      "text/html": [
       "<div>\n",
       "<style scoped>\n",
       "    .dataframe tbody tr th:only-of-type {\n",
       "        vertical-align: middle;\n",
       "    }\n",
       "\n",
       "    .dataframe tbody tr th {\n",
       "        vertical-align: top;\n",
       "    }\n",
       "\n",
       "    .dataframe thead th {\n",
       "        text-align: right;\n",
       "    }\n",
       "</style>\n",
       "<table border=\"1\" class=\"dataframe\">\n",
       "  <thead>\n",
       "    <tr style=\"text-align: right;\">\n",
       "      <th></th>\n",
       "      <th>PassengerId</th>\n",
       "      <th>Pclass</th>\n",
       "      <th>Age</th>\n",
       "      <th>SibSp</th>\n",
       "      <th>Parch</th>\n",
       "      <th>Fare</th>\n",
       "      <th>male</th>\n",
       "      <th>Q</th>\n",
       "      <th>S</th>\n",
       "    </tr>\n",
       "  </thead>\n",
       "  <tbody>\n",
       "    <tr>\n",
       "      <th>0</th>\n",
       "      <td>892</td>\n",
       "      <td>3</td>\n",
       "      <td>34.5</td>\n",
       "      <td>0</td>\n",
       "      <td>0</td>\n",
       "      <td>7.8292</td>\n",
       "      <td>1</td>\n",
       "      <td>1</td>\n",
       "      <td>0</td>\n",
       "    </tr>\n",
       "    <tr>\n",
       "      <th>1</th>\n",
       "      <td>893</td>\n",
       "      <td>3</td>\n",
       "      <td>47.0</td>\n",
       "      <td>1</td>\n",
       "      <td>0</td>\n",
       "      <td>7.0000</td>\n",
       "      <td>0</td>\n",
       "      <td>0</td>\n",
       "      <td>1</td>\n",
       "    </tr>\n",
       "    <tr>\n",
       "      <th>2</th>\n",
       "      <td>894</td>\n",
       "      <td>2</td>\n",
       "      <td>62.0</td>\n",
       "      <td>0</td>\n",
       "      <td>0</td>\n",
       "      <td>9.6875</td>\n",
       "      <td>1</td>\n",
       "      <td>1</td>\n",
       "      <td>0</td>\n",
       "    </tr>\n",
       "    <tr>\n",
       "      <th>3</th>\n",
       "      <td>895</td>\n",
       "      <td>3</td>\n",
       "      <td>27.0</td>\n",
       "      <td>0</td>\n",
       "      <td>0</td>\n",
       "      <td>8.6625</td>\n",
       "      <td>1</td>\n",
       "      <td>0</td>\n",
       "      <td>1</td>\n",
       "    </tr>\n",
       "    <tr>\n",
       "      <th>4</th>\n",
       "      <td>896</td>\n",
       "      <td>3</td>\n",
       "      <td>22.0</td>\n",
       "      <td>1</td>\n",
       "      <td>1</td>\n",
       "      <td>12.2875</td>\n",
       "      <td>0</td>\n",
       "      <td>0</td>\n",
       "      <td>1</td>\n",
       "    </tr>\n",
       "  </tbody>\n",
       "</table>\n",
       "</div>"
      ],
      "text/plain": [
       "   PassengerId  Pclass   Age  SibSp  Parch     Fare  male  Q  S\n",
       "0          892       3  34.5      0      0   7.8292     1  1  0\n",
       "1          893       3  47.0      1      0   7.0000     0  0  1\n",
       "2          894       2  62.0      0      0   9.6875     1  1  0\n",
       "3          895       3  27.0      0      0   8.6625     1  0  1\n",
       "4          896       3  22.0      1      1  12.2875     0  0  1"
      ]
     },
     "execution_count": 4,
     "metadata": {},
     "output_type": "execute_result"
    }
   ],
   "source": [
    "test.head()"
   ]
  },
  {
   "cell_type": "code",
   "execution_count": 5,
   "id": "a58762fa",
   "metadata": {
    "execution": {
     "iopub.execute_input": "2024-07-23T16:15:48.562685Z",
     "iopub.status.busy": "2024-07-23T16:15:48.562244Z",
     "iopub.status.idle": "2024-07-23T16:15:48.576957Z",
     "shell.execute_reply": "2024-07-23T16:15:48.575809Z"
    },
    "papermill": {
     "duration": 0.023503,
     "end_time": "2024-07-23T16:15:48.579478",
     "exception": false,
     "start_time": "2024-07-23T16:15:48.555975",
     "status": "completed"
    },
    "tags": []
   },
   "outputs": [
    {
     "data": {
      "text/html": [
       "<div>\n",
       "<style scoped>\n",
       "    .dataframe tbody tr th:only-of-type {\n",
       "        vertical-align: middle;\n",
       "    }\n",
       "\n",
       "    .dataframe tbody tr th {\n",
       "        vertical-align: top;\n",
       "    }\n",
       "\n",
       "    .dataframe thead th {\n",
       "        text-align: right;\n",
       "    }\n",
       "</style>\n",
       "<table border=\"1\" class=\"dataframe\">\n",
       "  <thead>\n",
       "    <tr style=\"text-align: right;\">\n",
       "      <th></th>\n",
       "      <th>PassengerId</th>\n",
       "      <th>Survived</th>\n",
       "      <th>Pclass</th>\n",
       "      <th>Age</th>\n",
       "      <th>SibSp</th>\n",
       "      <th>Parch</th>\n",
       "      <th>Fare</th>\n",
       "      <th>male</th>\n",
       "      <th>Q</th>\n",
       "      <th>S</th>\n",
       "    </tr>\n",
       "  </thead>\n",
       "  <tbody>\n",
       "    <tr>\n",
       "      <th>0</th>\n",
       "      <td>1</td>\n",
       "      <td>0</td>\n",
       "      <td>3</td>\n",
       "      <td>22.0</td>\n",
       "      <td>1</td>\n",
       "      <td>0</td>\n",
       "      <td>7.2500</td>\n",
       "      <td>1</td>\n",
       "      <td>0</td>\n",
       "      <td>1</td>\n",
       "    </tr>\n",
       "    <tr>\n",
       "      <th>1</th>\n",
       "      <td>2</td>\n",
       "      <td>1</td>\n",
       "      <td>1</td>\n",
       "      <td>38.0</td>\n",
       "      <td>1</td>\n",
       "      <td>0</td>\n",
       "      <td>71.2833</td>\n",
       "      <td>0</td>\n",
       "      <td>0</td>\n",
       "      <td>0</td>\n",
       "    </tr>\n",
       "    <tr>\n",
       "      <th>2</th>\n",
       "      <td>3</td>\n",
       "      <td>1</td>\n",
       "      <td>3</td>\n",
       "      <td>26.0</td>\n",
       "      <td>0</td>\n",
       "      <td>0</td>\n",
       "      <td>7.9250</td>\n",
       "      <td>0</td>\n",
       "      <td>0</td>\n",
       "      <td>1</td>\n",
       "    </tr>\n",
       "    <tr>\n",
       "      <th>3</th>\n",
       "      <td>4</td>\n",
       "      <td>1</td>\n",
       "      <td>1</td>\n",
       "      <td>35.0</td>\n",
       "      <td>1</td>\n",
       "      <td>0</td>\n",
       "      <td>53.1000</td>\n",
       "      <td>0</td>\n",
       "      <td>0</td>\n",
       "      <td>1</td>\n",
       "    </tr>\n",
       "    <tr>\n",
       "      <th>4</th>\n",
       "      <td>5</td>\n",
       "      <td>0</td>\n",
       "      <td>3</td>\n",
       "      <td>35.0</td>\n",
       "      <td>0</td>\n",
       "      <td>0</td>\n",
       "      <td>8.0500</td>\n",
       "      <td>1</td>\n",
       "      <td>0</td>\n",
       "      <td>1</td>\n",
       "    </tr>\n",
       "  </tbody>\n",
       "</table>\n",
       "</div>"
      ],
      "text/plain": [
       "   PassengerId  Survived  Pclass   Age  SibSp  Parch     Fare  male  Q  S\n",
       "0            1         0       3  22.0      1      0   7.2500     1  0  1\n",
       "1            2         1       1  38.0      1      0  71.2833     0  0  0\n",
       "2            3         1       3  26.0      0      0   7.9250     0  0  1\n",
       "3            4         1       1  35.0      1      0  53.1000     0  0  1\n",
       "4            5         0       3  35.0      0      0   8.0500     1  0  1"
      ]
     },
     "execution_count": 5,
     "metadata": {},
     "output_type": "execute_result"
    }
   ],
   "source": [
    "train.head()"
   ]
  },
  {
   "cell_type": "code",
   "execution_count": 6,
   "id": "d82b8f28",
   "metadata": {
    "execution": {
     "iopub.execute_input": "2024-07-23T16:15:48.591652Z",
     "iopub.status.busy": "2024-07-23T16:15:48.591161Z",
     "iopub.status.idle": "2024-07-23T16:15:48.598289Z",
     "shell.execute_reply": "2024-07-23T16:15:48.597159Z"
    },
    "papermill": {
     "duration": 0.016182,
     "end_time": "2024-07-23T16:15:48.600902",
     "exception": false,
     "start_time": "2024-07-23T16:15:48.584720",
     "status": "completed"
    },
    "tags": []
   },
   "outputs": [],
   "source": [
    "X_train =train.drop('Survived',axis=1)\n",
    "y_train =train['Survived']"
   ]
  },
  {
   "cell_type": "code",
   "execution_count": 7,
   "id": "a200646e",
   "metadata": {
    "execution": {
     "iopub.execute_input": "2024-07-23T16:15:48.614007Z",
     "iopub.status.busy": "2024-07-23T16:15:48.612747Z",
     "iopub.status.idle": "2024-07-23T16:15:48.674792Z",
     "shell.execute_reply": "2024-07-23T16:15:48.673011Z"
    },
    "papermill": {
     "duration": 0.071702,
     "end_time": "2024-07-23T16:15:48.677828",
     "exception": false,
     "start_time": "2024-07-23T16:15:48.606126",
     "status": "completed"
    },
    "tags": []
   },
   "outputs": [
    {
     "name": "stderr",
     "output_type": "stream",
     "text": [
      "/opt/conda/lib/python3.10/site-packages/sklearn/linear_model/_logistic.py:458: ConvergenceWarning: lbfgs failed to converge (status=1):\n",
      "STOP: TOTAL NO. of ITERATIONS REACHED LIMIT.\n",
      "\n",
      "Increase the number of iterations (max_iter) or scale the data as shown in:\n",
      "    https://scikit-learn.org/stable/modules/preprocessing.html\n",
      "Please also refer to the documentation for alternative solver options:\n",
      "    https://scikit-learn.org/stable/modules/linear_model.html#logistic-regression\n",
      "  n_iter_i = _check_optimize_result(\n"
     ]
    },
    {
     "data": {
      "text/html": [
       "<style>#sk-container-id-1 {color: black;background-color: white;}#sk-container-id-1 pre{padding: 0;}#sk-container-id-1 div.sk-toggleable {background-color: white;}#sk-container-id-1 label.sk-toggleable__label {cursor: pointer;display: block;width: 100%;margin-bottom: 0;padding: 0.3em;box-sizing: border-box;text-align: center;}#sk-container-id-1 label.sk-toggleable__label-arrow:before {content: \"▸\";float: left;margin-right: 0.25em;color: #696969;}#sk-container-id-1 label.sk-toggleable__label-arrow:hover:before {color: black;}#sk-container-id-1 div.sk-estimator:hover label.sk-toggleable__label-arrow:before {color: black;}#sk-container-id-1 div.sk-toggleable__content {max-height: 0;max-width: 0;overflow: hidden;text-align: left;background-color: #f0f8ff;}#sk-container-id-1 div.sk-toggleable__content pre {margin: 0.2em;color: black;border-radius: 0.25em;background-color: #f0f8ff;}#sk-container-id-1 input.sk-toggleable__control:checked~div.sk-toggleable__content {max-height: 200px;max-width: 100%;overflow: auto;}#sk-container-id-1 input.sk-toggleable__control:checked~label.sk-toggleable__label-arrow:before {content: \"▾\";}#sk-container-id-1 div.sk-estimator input.sk-toggleable__control:checked~label.sk-toggleable__label {background-color: #d4ebff;}#sk-container-id-1 div.sk-label input.sk-toggleable__control:checked~label.sk-toggleable__label {background-color: #d4ebff;}#sk-container-id-1 input.sk-hidden--visually {border: 0;clip: rect(1px 1px 1px 1px);clip: rect(1px, 1px, 1px, 1px);height: 1px;margin: -1px;overflow: hidden;padding: 0;position: absolute;width: 1px;}#sk-container-id-1 div.sk-estimator {font-family: monospace;background-color: #f0f8ff;border: 1px dotted black;border-radius: 0.25em;box-sizing: border-box;margin-bottom: 0.5em;}#sk-container-id-1 div.sk-estimator:hover {background-color: #d4ebff;}#sk-container-id-1 div.sk-parallel-item::after {content: \"\";width: 100%;border-bottom: 1px solid gray;flex-grow: 1;}#sk-container-id-1 div.sk-label:hover label.sk-toggleable__label {background-color: #d4ebff;}#sk-container-id-1 div.sk-serial::before {content: \"\";position: absolute;border-left: 1px solid gray;box-sizing: border-box;top: 0;bottom: 0;left: 50%;z-index: 0;}#sk-container-id-1 div.sk-serial {display: flex;flex-direction: column;align-items: center;background-color: white;padding-right: 0.2em;padding-left: 0.2em;position: relative;}#sk-container-id-1 div.sk-item {position: relative;z-index: 1;}#sk-container-id-1 div.sk-parallel {display: flex;align-items: stretch;justify-content: center;background-color: white;position: relative;}#sk-container-id-1 div.sk-item::before, #sk-container-id-1 div.sk-parallel-item::before {content: \"\";position: absolute;border-left: 1px solid gray;box-sizing: border-box;top: 0;bottom: 0;left: 50%;z-index: -1;}#sk-container-id-1 div.sk-parallel-item {display: flex;flex-direction: column;z-index: 1;position: relative;background-color: white;}#sk-container-id-1 div.sk-parallel-item:first-child::after {align-self: flex-end;width: 50%;}#sk-container-id-1 div.sk-parallel-item:last-child::after {align-self: flex-start;width: 50%;}#sk-container-id-1 div.sk-parallel-item:only-child::after {width: 0;}#sk-container-id-1 div.sk-dashed-wrapped {border: 1px dashed gray;margin: 0 0.4em 0.5em 0.4em;box-sizing: border-box;padding-bottom: 0.4em;background-color: white;}#sk-container-id-1 div.sk-label label {font-family: monospace;font-weight: bold;display: inline-block;line-height: 1.2em;}#sk-container-id-1 div.sk-label-container {text-align: center;}#sk-container-id-1 div.sk-container {/* jupyter's `normalize.less` sets `[hidden] { display: none; }` but bootstrap.min.css set `[hidden] { display: none !important; }` so we also need the `!important` here to be able to override the default hidden behavior on the sphinx rendered scikit-learn.org. See: https://github.com/scikit-learn/scikit-learn/issues/21755 */display: inline-block !important;position: relative;}#sk-container-id-1 div.sk-text-repr-fallback {display: none;}</style><div id=\"sk-container-id-1\" class=\"sk-top-container\"><div class=\"sk-text-repr-fallback\"><pre>LogisticRegression(max_iter=200)</pre><b>In a Jupyter environment, please rerun this cell to show the HTML representation or trust the notebook. <br />On GitHub, the HTML representation is unable to render, please try loading this page with nbviewer.org.</b></div><div class=\"sk-container\" hidden><div class=\"sk-item\"><div class=\"sk-estimator sk-toggleable\"><input class=\"sk-toggleable__control sk-hidden--visually\" id=\"sk-estimator-id-1\" type=\"checkbox\" checked><label for=\"sk-estimator-id-1\" class=\"sk-toggleable__label sk-toggleable__label-arrow\">LogisticRegression</label><div class=\"sk-toggleable__content\"><pre>LogisticRegression(max_iter=200)</pre></div></div></div></div></div>"
      ],
      "text/plain": [
       "LogisticRegression(max_iter=200)"
      ]
     },
     "execution_count": 7,
     "metadata": {},
     "output_type": "execute_result"
    }
   ],
   "source": [
    "from sklearn.linear_model import LogisticRegression\n",
    "logmodel = LogisticRegression(max_iter=200)\n",
    "logmodel.fit(X_train,y_train)"
   ]
  },
  {
   "cell_type": "code",
   "execution_count": null,
   "id": "a972379b",
   "metadata": {
    "execution": {
     "iopub.execute_input": "2024-07-23T16:09:50.528798Z",
     "iopub.status.busy": "2024-07-23T16:09:50.528346Z",
     "iopub.status.idle": "2024-07-23T16:09:50.537760Z",
     "shell.execute_reply": "2024-07-23T16:09:50.536383Z",
     "shell.execute_reply.started": "2024-07-23T16:09:50.528763Z"
    },
    "papermill": {
     "duration": 0.005564,
     "end_time": "2024-07-23T16:15:48.688817",
     "exception": false,
     "start_time": "2024-07-23T16:15:48.683253",
     "status": "completed"
    },
    "tags": []
   },
   "outputs": [],
   "source": []
  },
  {
   "cell_type": "code",
   "execution_count": null,
   "id": "8f27b743",
   "metadata": {
    "execution": {
     "iopub.execute_input": "2024-07-23T15:57:56.700263Z",
     "iopub.status.busy": "2024-07-23T15:57:56.699767Z",
     "iopub.status.idle": "2024-07-23T15:57:56.722352Z",
     "shell.execute_reply": "2024-07-23T15:57:56.720806Z",
     "shell.execute_reply.started": "2024-07-23T15:57:56.700224Z"
    },
    "papermill": {
     "duration": 0.005573,
     "end_time": "2024-07-23T16:15:48.699861",
     "exception": false,
     "start_time": "2024-07-23T16:15:48.694288",
     "status": "completed"
    },
    "tags": []
   },
   "outputs": [],
   "source": []
  },
  {
   "cell_type": "code",
   "execution_count": null,
   "id": "3670c312",
   "metadata": {
    "execution": {
     "iopub.execute_input": "2024-07-23T16:14:12.605552Z",
     "iopub.status.busy": "2024-07-23T16:14:12.605080Z",
     "iopub.status.idle": "2024-07-23T16:14:12.611458Z",
     "shell.execute_reply": "2024-07-23T16:14:12.610077Z",
     "shell.execute_reply.started": "2024-07-23T16:14:12.605520Z"
    },
    "papermill": {
     "duration": 0.005111,
     "end_time": "2024-07-23T16:15:48.710390",
     "exception": false,
     "start_time": "2024-07-23T16:15:48.705279",
     "status": "completed"
    },
    "tags": []
   },
   "outputs": [],
   "source": []
  },
  {
   "cell_type": "code",
   "execution_count": null,
   "id": "bd7b75be",
   "metadata": {
    "execution": {
     "iopub.execute_input": "2024-07-23T16:09:55.534765Z",
     "iopub.status.busy": "2024-07-23T16:09:55.534284Z",
     "iopub.status.idle": "2024-07-23T16:09:55.554349Z",
     "shell.execute_reply": "2024-07-23T16:09:55.552875Z",
     "shell.execute_reply.started": "2024-07-23T16:09:55.534721Z"
    },
    "papermill": {
     "duration": 0.005302,
     "end_time": "2024-07-23T16:15:48.721150",
     "exception": false,
     "start_time": "2024-07-23T16:15:48.715848",
     "status": "completed"
    },
    "tags": []
   },
   "outputs": [],
   "source": []
  },
  {
   "cell_type": "code",
   "execution_count": 8,
   "id": "9cf1f5a8",
   "metadata": {
    "execution": {
     "iopub.execute_input": "2024-07-23T16:15:48.733805Z",
     "iopub.status.busy": "2024-07-23T16:15:48.733375Z",
     "iopub.status.idle": "2024-07-23T16:15:48.738203Z",
     "shell.execute_reply": "2024-07-23T16:15:48.737101Z"
    },
    "papermill": {
     "duration": 0.013994,
     "end_time": "2024-07-23T16:15:48.740577",
     "exception": false,
     "start_time": "2024-07-23T16:15:48.726583",
     "status": "completed"
    },
    "tags": []
   },
   "outputs": [],
   "source": [
    "X_test_final = test"
   ]
  },
  {
   "cell_type": "code",
   "execution_count": 9,
   "id": "476bf83b",
   "metadata": {
    "execution": {
     "iopub.execute_input": "2024-07-23T16:15:48.753531Z",
     "iopub.status.busy": "2024-07-23T16:15:48.753125Z",
     "iopub.status.idle": "2024-07-23T16:15:48.760611Z",
     "shell.execute_reply": "2024-07-23T16:15:48.759574Z"
    },
    "papermill": {
     "duration": 0.017011,
     "end_time": "2024-07-23T16:15:48.763251",
     "exception": false,
     "start_time": "2024-07-23T16:15:48.746240",
     "status": "completed"
    },
    "tags": []
   },
   "outputs": [],
   "source": [
    "prediction = logmodel.predict(X_test_final)"
   ]
  },
  {
   "cell_type": "code",
   "execution_count": 10,
   "id": "aeff5ed4",
   "metadata": {
    "execution": {
     "iopub.execute_input": "2024-07-23T16:15:48.776742Z",
     "iopub.status.busy": "2024-07-23T16:15:48.775633Z",
     "iopub.status.idle": "2024-07-23T16:15:48.781755Z",
     "shell.execute_reply": "2024-07-23T16:15:48.780595Z"
    },
    "papermill": {
     "duration": 0.015738,
     "end_time": "2024-07-23T16:15:48.784463",
     "exception": false,
     "start_time": "2024-07-23T16:15:48.768725",
     "status": "completed"
    },
    "tags": []
   },
   "outputs": [],
   "source": [
    "output = pd.DataFrame({'PassengerId': test['PassengerId'], 'Survived': prediction})"
   ]
  },
  {
   "cell_type": "code",
   "execution_count": 11,
   "id": "eb0122a6",
   "metadata": {
    "execution": {
     "iopub.execute_input": "2024-07-23T16:15:48.797174Z",
     "iopub.status.busy": "2024-07-23T16:15:48.796727Z",
     "iopub.status.idle": "2024-07-23T16:15:48.809921Z",
     "shell.execute_reply": "2024-07-23T16:15:48.808785Z"
    },
    "papermill": {
     "duration": 0.022056,
     "end_time": "2024-07-23T16:15:48.812119",
     "exception": false,
     "start_time": "2024-07-23T16:15:48.790063",
     "status": "completed"
    },
    "tags": []
   },
   "outputs": [
    {
     "data": {
      "text/html": [
       "<div>\n",
       "<style scoped>\n",
       "    .dataframe tbody tr th:only-of-type {\n",
       "        vertical-align: middle;\n",
       "    }\n",
       "\n",
       "    .dataframe tbody tr th {\n",
       "        vertical-align: top;\n",
       "    }\n",
       "\n",
       "    .dataframe thead th {\n",
       "        text-align: right;\n",
       "    }\n",
       "</style>\n",
       "<table border=\"1\" class=\"dataframe\">\n",
       "  <thead>\n",
       "    <tr style=\"text-align: right;\">\n",
       "      <th></th>\n",
       "      <th>PassengerId</th>\n",
       "      <th>Survived</th>\n",
       "    </tr>\n",
       "  </thead>\n",
       "  <tbody>\n",
       "    <tr>\n",
       "      <th>0</th>\n",
       "      <td>892</td>\n",
       "      <td>0</td>\n",
       "    </tr>\n",
       "    <tr>\n",
       "      <th>1</th>\n",
       "      <td>893</td>\n",
       "      <td>0</td>\n",
       "    </tr>\n",
       "    <tr>\n",
       "      <th>2</th>\n",
       "      <td>894</td>\n",
       "      <td>0</td>\n",
       "    </tr>\n",
       "    <tr>\n",
       "      <th>3</th>\n",
       "      <td>895</td>\n",
       "      <td>0</td>\n",
       "    </tr>\n",
       "    <tr>\n",
       "      <th>4</th>\n",
       "      <td>896</td>\n",
       "      <td>1</td>\n",
       "    </tr>\n",
       "    <tr>\n",
       "      <th>...</th>\n",
       "      <td>...</td>\n",
       "      <td>...</td>\n",
       "    </tr>\n",
       "    <tr>\n",
       "      <th>413</th>\n",
       "      <td>1305</td>\n",
       "      <td>0</td>\n",
       "    </tr>\n",
       "    <tr>\n",
       "      <th>414</th>\n",
       "      <td>1306</td>\n",
       "      <td>1</td>\n",
       "    </tr>\n",
       "    <tr>\n",
       "      <th>415</th>\n",
       "      <td>1307</td>\n",
       "      <td>0</td>\n",
       "    </tr>\n",
       "    <tr>\n",
       "      <th>416</th>\n",
       "      <td>1308</td>\n",
       "      <td>0</td>\n",
       "    </tr>\n",
       "    <tr>\n",
       "      <th>417</th>\n",
       "      <td>1309</td>\n",
       "      <td>0</td>\n",
       "    </tr>\n",
       "  </tbody>\n",
       "</table>\n",
       "<p>418 rows × 2 columns</p>\n",
       "</div>"
      ],
      "text/plain": [
       "     PassengerId  Survived\n",
       "0            892         0\n",
       "1            893         0\n",
       "2            894         0\n",
       "3            895         0\n",
       "4            896         1\n",
       "..           ...       ...\n",
       "413         1305         0\n",
       "414         1306         1\n",
       "415         1307         0\n",
       "416         1308         0\n",
       "417         1309         0\n",
       "\n",
       "[418 rows x 2 columns]"
      ]
     },
     "execution_count": 11,
     "metadata": {},
     "output_type": "execute_result"
    }
   ],
   "source": [
    "output"
   ]
  },
  {
   "cell_type": "code",
   "execution_count": 12,
   "id": "fa57d8b5",
   "metadata": {
    "execution": {
     "iopub.execute_input": "2024-07-23T16:15:48.825449Z",
     "iopub.status.busy": "2024-07-23T16:15:48.825045Z",
     "iopub.status.idle": "2024-07-23T16:15:48.834726Z",
     "shell.execute_reply": "2024-07-23T16:15:48.833395Z"
    },
    "papermill": {
     "duration": 0.020034,
     "end_time": "2024-07-23T16:15:48.837909",
     "exception": false,
     "start_time": "2024-07-23T16:15:48.817875",
     "status": "completed"
    },
    "tags": []
   },
   "outputs": [],
   "source": [
    "output.to_csv('submission.csv', index=False)"
   ]
  },
  {
   "cell_type": "code",
   "execution_count": null,
   "id": "5cbae344",
   "metadata": {
    "papermill": {
     "duration": 0.005539,
     "end_time": "2024-07-23T16:15:48.849636",
     "exception": false,
     "start_time": "2024-07-23T16:15:48.844097",
     "status": "completed"
    },
    "tags": []
   },
   "outputs": [],
   "source": []
  }
 ],
 "metadata": {
  "kaggle": {
   "accelerator": "none",
   "dataSources": [
    {
     "databundleVersionId": 26502,
     "sourceId": 3136,
     "sourceType": "competition"
    }
   ],
   "dockerImageVersionId": 30746,
   "isGpuEnabled": false,
   "isInternetEnabled": false,
   "language": "python",
   "sourceType": "notebook"
  },
  "kernelspec": {
   "display_name": "Python 3",
   "language": "python",
   "name": "python3"
  },
  "language_info": {
   "codemirror_mode": {
    "name": "ipython",
    "version": 3
   },
   "file_extension": ".py",
   "mimetype": "text/x-python",
   "name": "python",
   "nbconvert_exporter": "python",
   "pygments_lexer": "ipython3",
   "version": "3.10.13"
  },
  "papermill": {
   "default_parameters": {},
   "duration": 6.575533,
   "end_time": "2024-07-23T16:15:49.478064",
   "environment_variables": {},
   "exception": null,
   "input_path": "__notebook__.ipynb",
   "output_path": "__notebook__.ipynb",
   "parameters": {},
   "start_time": "2024-07-23T16:15:42.902531",
   "version": "2.5.0"
  }
 },
 "nbformat": 4,
 "nbformat_minor": 5
}
