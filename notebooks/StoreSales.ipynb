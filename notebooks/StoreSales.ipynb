{
 "cells": [
  {
   "cell_type": "code",
   "execution_count": 1,
   "id": "cf243d4a",
   "metadata": {
    "_cell_guid": "b1076dfc-b9ad-4769-8c92-a6c4dae69d19",
    "_uuid": "8f2839f25d086af736a60e9eeb907d3b93b6e0e5",
    "execution": {
     "iopub.execute_input": "2024-08-20T14:11:03.910875Z",
     "iopub.status.busy": "2024-08-20T14:11:03.910474Z",
     "iopub.status.idle": "2024-08-20T14:11:04.737337Z",
     "shell.execute_reply": "2024-08-20T14:11:04.735678Z"
    },
    "papermill": {
     "duration": 0.839983,
     "end_time": "2024-08-20T14:11:04.740010",
     "exception": false,
     "start_time": "2024-08-20T14:11:03.900027",
     "status": "completed"
    },
    "tags": []
   },
   "outputs": [
    {
     "name": "stdout",
     "output_type": "stream",
     "text": [
      "/kaggle/input/store-sales-time-series-forecasting/oil.csv\n",
      "/kaggle/input/store-sales-time-series-forecasting/sample_submission.csv\n",
      "/kaggle/input/store-sales-time-series-forecasting/holidays_events.csv\n",
      "/kaggle/input/store-sales-time-series-forecasting/stores.csv\n",
      "/kaggle/input/store-sales-time-series-forecasting/train.csv\n",
      "/kaggle/input/store-sales-time-series-forecasting/test.csv\n",
      "/kaggle/input/store-sales-time-series-forecasting/transactions.csv\n"
     ]
    }
   ],
   "source": [
    "# This Python 3 environment comes with many helpful analytics libraries installed\n",
    "# It is defined by the kaggle/python Docker image: https://github.com/kaggle/docker-python\n",
    "# For example, here's several helpful packages to load\n",
    "\n",
    "import numpy as np # linear algebra\n",
    "import pandas as pd # data processing, CSV file I/O (e.g. pd.read_csv)\n",
    "\n",
    "# Input data files are available in the read-only \"../input/\" directory\n",
    "# For example, running this (by clicking run or pressing Shift+Enter) will list all files under the input directory\n",
    "\n",
    "import os\n",
    "for dirname, _, filenames in os.walk('/kaggle/input'):\n",
    "    for filename in filenames:\n",
    "        print(os.path.join(dirname, filename))\n",
    "\n",
    "# You can write up to 20GB to the current directory (/kaggle/working/) that gets preserved as output when you create a version using \"Save & Run All\" \n",
    "# You can also write temporary files to /kaggle/temp/, but they won't be saved outside of the current session"
   ]
  },
  {
   "cell_type": "code",
   "execution_count": 2,
   "id": "c73df14b",
   "metadata": {
    "execution": {
     "iopub.execute_input": "2024-08-20T14:11:04.759258Z",
     "iopub.status.busy": "2024-08-20T14:11:04.758726Z",
     "iopub.status.idle": "2024-08-20T14:11:05.972768Z",
     "shell.execute_reply": "2024-08-20T14:11:05.971718Z"
    },
    "papermill": {
     "duration": 1.226861,
     "end_time": "2024-08-20T14:11:05.975585",
     "exception": false,
     "start_time": "2024-08-20T14:11:04.748724",
     "status": "completed"
    },
    "tags": []
   },
   "outputs": [],
   "source": [
    "import seaborn as sns"
   ]
  },
  {
   "cell_type": "code",
   "execution_count": 3,
   "id": "645a3b4b",
   "metadata": {
    "execution": {
     "iopub.execute_input": "2024-08-20T14:11:05.994294Z",
     "iopub.status.busy": "2024-08-20T14:11:05.993857Z",
     "iopub.status.idle": "2024-08-20T14:11:10.359281Z",
     "shell.execute_reply": "2024-08-20T14:11:10.358115Z"
    },
    "papermill": {
     "duration": 4.378046,
     "end_time": "2024-08-20T14:11:10.362188",
     "exception": false,
     "start_time": "2024-08-20T14:11:05.984142",
     "status": "completed"
    },
    "tags": []
   },
   "outputs": [],
   "source": [
    "train = pd.read_csv('/kaggle/input/store-sales-time-series-forecasting/train.csv')\n",
    "test = pd.read_csv('/kaggle/input/store-sales-time-series-forecasting/test.csv')\n",
    "sub = pd.read_csv('/kaggle/input/store-sales-time-series-forecasting/sample_submission.csv')"
   ]
  },
  {
   "cell_type": "code",
   "execution_count": 4,
   "id": "c156c7da",
   "metadata": {
    "execution": {
     "iopub.execute_input": "2024-08-20T14:11:10.381123Z",
     "iopub.status.busy": "2024-08-20T14:11:10.380466Z",
     "iopub.status.idle": "2024-08-20T14:11:10.391740Z",
     "shell.execute_reply": "2024-08-20T14:11:10.390753Z"
    },
    "papermill": {
     "duration": 0.023234,
     "end_time": "2024-08-20T14:11:10.394102",
     "exception": false,
     "start_time": "2024-08-20T14:11:10.370868",
     "status": "completed"
    },
    "tags": []
   },
   "outputs": [],
   "source": [
    "hol = pd.read_csv('/kaggle/input/store-sales-time-series-forecasting/holidays_events.csv')"
   ]
  },
  {
   "cell_type": "code",
   "execution_count": 5,
   "id": "77e74a81",
   "metadata": {
    "execution": {
     "iopub.execute_input": "2024-08-20T14:11:10.413442Z",
     "iopub.status.busy": "2024-08-20T14:11:10.412631Z",
     "iopub.status.idle": "2024-08-20T14:11:10.434211Z",
     "shell.execute_reply": "2024-08-20T14:11:10.433108Z"
    },
    "papermill": {
     "duration": 0.034139,
     "end_time": "2024-08-20T14:11:10.436794",
     "exception": false,
     "start_time": "2024-08-20T14:11:10.402655",
     "status": "completed"
    },
    "tags": []
   },
   "outputs": [
    {
     "data": {
      "text/html": [
       "<div>\n",
       "<style scoped>\n",
       "    .dataframe tbody tr th:only-of-type {\n",
       "        vertical-align: middle;\n",
       "    }\n",
       "\n",
       "    .dataframe tbody tr th {\n",
       "        vertical-align: top;\n",
       "    }\n",
       "\n",
       "    .dataframe thead th {\n",
       "        text-align: right;\n",
       "    }\n",
       "</style>\n",
       "<table border=\"1\" class=\"dataframe\">\n",
       "  <thead>\n",
       "    <tr style=\"text-align: right;\">\n",
       "      <th></th>\n",
       "      <th>id</th>\n",
       "      <th>sales</th>\n",
       "    </tr>\n",
       "  </thead>\n",
       "  <tbody>\n",
       "    <tr>\n",
       "      <th>0</th>\n",
       "      <td>3000888</td>\n",
       "      <td>0.0</td>\n",
       "    </tr>\n",
       "    <tr>\n",
       "      <th>1</th>\n",
       "      <td>3000889</td>\n",
       "      <td>0.0</td>\n",
       "    </tr>\n",
       "    <tr>\n",
       "      <th>2</th>\n",
       "      <td>3000890</td>\n",
       "      <td>0.0</td>\n",
       "    </tr>\n",
       "    <tr>\n",
       "      <th>3</th>\n",
       "      <td>3000891</td>\n",
       "      <td>0.0</td>\n",
       "    </tr>\n",
       "    <tr>\n",
       "      <th>4</th>\n",
       "      <td>3000892</td>\n",
       "      <td>0.0</td>\n",
       "    </tr>\n",
       "  </tbody>\n",
       "</table>\n",
       "</div>"
      ],
      "text/plain": [
       "        id  sales\n",
       "0  3000888    0.0\n",
       "1  3000889    0.0\n",
       "2  3000890    0.0\n",
       "3  3000891    0.0\n",
       "4  3000892    0.0"
      ]
     },
     "execution_count": 5,
     "metadata": {},
     "output_type": "execute_result"
    }
   ],
   "source": [
    "sub.head()"
   ]
  },
  {
   "cell_type": "code",
   "execution_count": 6,
   "id": "b0d68c7d",
   "metadata": {
    "execution": {
     "iopub.execute_input": "2024-08-20T14:11:10.455861Z",
     "iopub.status.busy": "2024-08-20T14:11:10.455437Z",
     "iopub.status.idle": "2024-08-20T14:11:10.468430Z",
     "shell.execute_reply": "2024-08-20T14:11:10.467392Z"
    },
    "papermill": {
     "duration": 0.025149,
     "end_time": "2024-08-20T14:11:10.470699",
     "exception": false,
     "start_time": "2024-08-20T14:11:10.445550",
     "status": "completed"
    },
    "tags": []
   },
   "outputs": [
    {
     "data": {
      "text/html": [
       "<div>\n",
       "<style scoped>\n",
       "    .dataframe tbody tr th:only-of-type {\n",
       "        vertical-align: middle;\n",
       "    }\n",
       "\n",
       "    .dataframe tbody tr th {\n",
       "        vertical-align: top;\n",
       "    }\n",
       "\n",
       "    .dataframe thead th {\n",
       "        text-align: right;\n",
       "    }\n",
       "</style>\n",
       "<table border=\"1\" class=\"dataframe\">\n",
       "  <thead>\n",
       "    <tr style=\"text-align: right;\">\n",
       "      <th></th>\n",
       "      <th>id</th>\n",
       "      <th>date</th>\n",
       "      <th>store_nbr</th>\n",
       "      <th>family</th>\n",
       "      <th>sales</th>\n",
       "      <th>onpromotion</th>\n",
       "    </tr>\n",
       "  </thead>\n",
       "  <tbody>\n",
       "    <tr>\n",
       "      <th>0</th>\n",
       "      <td>0</td>\n",
       "      <td>2013-01-01</td>\n",
       "      <td>1</td>\n",
       "      <td>AUTOMOTIVE</td>\n",
       "      <td>0.0</td>\n",
       "      <td>0</td>\n",
       "    </tr>\n",
       "    <tr>\n",
       "      <th>1</th>\n",
       "      <td>1</td>\n",
       "      <td>2013-01-01</td>\n",
       "      <td>1</td>\n",
       "      <td>BABY CARE</td>\n",
       "      <td>0.0</td>\n",
       "      <td>0</td>\n",
       "    </tr>\n",
       "    <tr>\n",
       "      <th>2</th>\n",
       "      <td>2</td>\n",
       "      <td>2013-01-01</td>\n",
       "      <td>1</td>\n",
       "      <td>BEAUTY</td>\n",
       "      <td>0.0</td>\n",
       "      <td>0</td>\n",
       "    </tr>\n",
       "    <tr>\n",
       "      <th>3</th>\n",
       "      <td>3</td>\n",
       "      <td>2013-01-01</td>\n",
       "      <td>1</td>\n",
       "      <td>BEVERAGES</td>\n",
       "      <td>0.0</td>\n",
       "      <td>0</td>\n",
       "    </tr>\n",
       "    <tr>\n",
       "      <th>4</th>\n",
       "      <td>4</td>\n",
       "      <td>2013-01-01</td>\n",
       "      <td>1</td>\n",
       "      <td>BOOKS</td>\n",
       "      <td>0.0</td>\n",
       "      <td>0</td>\n",
       "    </tr>\n",
       "  </tbody>\n",
       "</table>\n",
       "</div>"
      ],
      "text/plain": [
       "   id        date  store_nbr      family  sales  onpromotion\n",
       "0   0  2013-01-01          1  AUTOMOTIVE    0.0            0\n",
       "1   1  2013-01-01          1   BABY CARE    0.0            0\n",
       "2   2  2013-01-01          1      BEAUTY    0.0            0\n",
       "3   3  2013-01-01          1   BEVERAGES    0.0            0\n",
       "4   4  2013-01-01          1       BOOKS    0.0            0"
      ]
     },
     "execution_count": 6,
     "metadata": {},
     "output_type": "execute_result"
    }
   ],
   "source": [
    "train.head()"
   ]
  },
  {
   "cell_type": "code",
   "execution_count": 7,
   "id": "ef30fa70",
   "metadata": {
    "execution": {
     "iopub.execute_input": "2024-08-20T14:11:10.490561Z",
     "iopub.status.busy": "2024-08-20T14:11:10.489588Z",
     "iopub.status.idle": "2024-08-20T14:11:10.511893Z",
     "shell.execute_reply": "2024-08-20T14:11:10.510536Z"
    },
    "papermill": {
     "duration": 0.03458,
     "end_time": "2024-08-20T14:11:10.514290",
     "exception": false,
     "start_time": "2024-08-20T14:11:10.479710",
     "status": "completed"
    },
    "tags": []
   },
   "outputs": [
    {
     "name": "stdout",
     "output_type": "stream",
     "text": [
      "<class 'pandas.core.frame.DataFrame'>\n",
      "RangeIndex: 3000888 entries, 0 to 3000887\n",
      "Data columns (total 6 columns):\n",
      " #   Column       Dtype  \n",
      "---  ------       -----  \n",
      " 0   id           int64  \n",
      " 1   date         object \n",
      " 2   store_nbr    int64  \n",
      " 3   family       object \n",
      " 4   sales        float64\n",
      " 5   onpromotion  int64  \n",
      "dtypes: float64(1), int64(3), object(2)\n",
      "memory usage: 137.4+ MB\n"
     ]
    }
   ],
   "source": [
    "train.info()"
   ]
  },
  {
   "cell_type": "code",
   "execution_count": 8,
   "id": "7fca2ee9",
   "metadata": {
    "execution": {
     "iopub.execute_input": "2024-08-20T14:11:10.534484Z",
     "iopub.status.busy": "2024-08-20T14:11:10.533718Z",
     "iopub.status.idle": "2024-08-20T14:11:10.876287Z",
     "shell.execute_reply": "2024-08-20T14:11:10.875180Z"
    },
    "papermill": {
     "duration": 0.355647,
     "end_time": "2024-08-20T14:11:10.878916",
     "exception": false,
     "start_time": "2024-08-20T14:11:10.523269",
     "status": "completed"
    },
    "tags": []
   },
   "outputs": [
    {
     "data": {
      "text/html": [
       "<div>\n",
       "<style scoped>\n",
       "    .dataframe tbody tr th:only-of-type {\n",
       "        vertical-align: middle;\n",
       "    }\n",
       "\n",
       "    .dataframe tbody tr th {\n",
       "        vertical-align: top;\n",
       "    }\n",
       "\n",
       "    .dataframe thead th {\n",
       "        text-align: right;\n",
       "    }\n",
       "</style>\n",
       "<table border=\"1\" class=\"dataframe\">\n",
       "  <thead>\n",
       "    <tr style=\"text-align: right;\">\n",
       "      <th></th>\n",
       "      <th>id</th>\n",
       "      <th>store_nbr</th>\n",
       "      <th>sales</th>\n",
       "      <th>onpromotion</th>\n",
       "    </tr>\n",
       "  </thead>\n",
       "  <tbody>\n",
       "    <tr>\n",
       "      <th>count</th>\n",
       "      <td>3.000888e+06</td>\n",
       "      <td>3.000888e+06</td>\n",
       "      <td>3.000888e+06</td>\n",
       "      <td>3.000888e+06</td>\n",
       "    </tr>\n",
       "    <tr>\n",
       "      <th>mean</th>\n",
       "      <td>1.500444e+06</td>\n",
       "      <td>2.750000e+01</td>\n",
       "      <td>3.577757e+02</td>\n",
       "      <td>2.602770e+00</td>\n",
       "    </tr>\n",
       "    <tr>\n",
       "      <th>std</th>\n",
       "      <td>8.662819e+05</td>\n",
       "      <td>1.558579e+01</td>\n",
       "      <td>1.101998e+03</td>\n",
       "      <td>1.221888e+01</td>\n",
       "    </tr>\n",
       "    <tr>\n",
       "      <th>min</th>\n",
       "      <td>0.000000e+00</td>\n",
       "      <td>1.000000e+00</td>\n",
       "      <td>0.000000e+00</td>\n",
       "      <td>0.000000e+00</td>\n",
       "    </tr>\n",
       "    <tr>\n",
       "      <th>25%</th>\n",
       "      <td>7.502218e+05</td>\n",
       "      <td>1.400000e+01</td>\n",
       "      <td>0.000000e+00</td>\n",
       "      <td>0.000000e+00</td>\n",
       "    </tr>\n",
       "    <tr>\n",
       "      <th>50%</th>\n",
       "      <td>1.500444e+06</td>\n",
       "      <td>2.750000e+01</td>\n",
       "      <td>1.100000e+01</td>\n",
       "      <td>0.000000e+00</td>\n",
       "    </tr>\n",
       "    <tr>\n",
       "      <th>75%</th>\n",
       "      <td>2.250665e+06</td>\n",
       "      <td>4.100000e+01</td>\n",
       "      <td>1.958473e+02</td>\n",
       "      <td>0.000000e+00</td>\n",
       "    </tr>\n",
       "    <tr>\n",
       "      <th>max</th>\n",
       "      <td>3.000887e+06</td>\n",
       "      <td>5.400000e+01</td>\n",
       "      <td>1.247170e+05</td>\n",
       "      <td>7.410000e+02</td>\n",
       "    </tr>\n",
       "  </tbody>\n",
       "</table>\n",
       "</div>"
      ],
      "text/plain": [
       "                 id     store_nbr         sales   onpromotion\n",
       "count  3.000888e+06  3.000888e+06  3.000888e+06  3.000888e+06\n",
       "mean   1.500444e+06  2.750000e+01  3.577757e+02  2.602770e+00\n",
       "std    8.662819e+05  1.558579e+01  1.101998e+03  1.221888e+01\n",
       "min    0.000000e+00  1.000000e+00  0.000000e+00  0.000000e+00\n",
       "25%    7.502218e+05  1.400000e+01  0.000000e+00  0.000000e+00\n",
       "50%    1.500444e+06  2.750000e+01  1.100000e+01  0.000000e+00\n",
       "75%    2.250665e+06  4.100000e+01  1.958473e+02  0.000000e+00\n",
       "max    3.000887e+06  5.400000e+01  1.247170e+05  7.410000e+02"
      ]
     },
     "execution_count": 8,
     "metadata": {},
     "output_type": "execute_result"
    }
   ],
   "source": [
    "train.describe()"
   ]
  },
  {
   "cell_type": "code",
   "execution_count": 9,
   "id": "658b720f",
   "metadata": {
    "execution": {
     "iopub.execute_input": "2024-08-20T14:11:10.899142Z",
     "iopub.status.busy": "2024-08-20T14:11:10.898726Z",
     "iopub.status.idle": "2024-08-20T14:11:11.545375Z",
     "shell.execute_reply": "2024-08-20T14:11:11.544285Z"
    },
    "papermill": {
     "duration": 0.659783,
     "end_time": "2024-08-20T14:11:11.547962",
     "exception": false,
     "start_time": "2024-08-20T14:11:10.888179",
     "status": "completed"
    },
    "tags": []
   },
   "outputs": [
    {
     "data": {
      "text/plain": [
       "id             0\n",
       "date           0\n",
       "store_nbr      0\n",
       "family         0\n",
       "sales          0\n",
       "onpromotion    0\n",
       "dtype: int64"
      ]
     },
     "execution_count": 9,
     "metadata": {},
     "output_type": "execute_result"
    }
   ],
   "source": [
    "train.isnull().sum()"
   ]
  },
  {
   "cell_type": "code",
   "execution_count": 10,
   "id": "030fafe9",
   "metadata": {
    "execution": {
     "iopub.execute_input": "2024-08-20T14:11:11.568890Z",
     "iopub.status.busy": "2024-08-20T14:11:11.568188Z",
     "iopub.status.idle": "2024-08-20T14:11:37.363116Z",
     "shell.execute_reply": "2024-08-20T14:11:37.361842Z"
    },
    "papermill": {
     "duration": 25.808203,
     "end_time": "2024-08-20T14:11:37.365746",
     "exception": false,
     "start_time": "2024-08-20T14:11:11.557543",
     "status": "completed"
    },
    "tags": []
   },
   "outputs": [
    {
     "data": {
      "text/plain": [
       "<Axes: >"
      ]
     },
     "execution_count": 10,
     "metadata": {},
     "output_type": "execute_result"
    },
    {
     "data": {
      "image/png": "[encoded data removed]",
      "text/plain": [
       "<Figure size 640x480 with 1 Axes>"
      ]
     },
     "metadata": {},
     "output_type": "display_data"
    }
   ],
   "source": [
    "sns.heatmap(train.isnull(), yticklabels=False, cbar= False,cmap='viridis')"
   ]
  },
  {
   "cell_type": "code",
   "execution_count": 11,
   "id": "d39fc902",
   "metadata": {
    "execution": {
     "iopub.execute_input": "2024-08-20T14:11:37.387808Z",
     "iopub.status.busy": "2024-08-20T14:11:37.387422Z",
     "iopub.status.idle": "2024-08-20T14:11:37.428074Z",
     "shell.execute_reply": "2024-08-20T14:11:37.426781Z"
    },
    "papermill": {
     "duration": 0.054742,
     "end_time": "2024-08-20T14:11:37.430810",
     "exception": false,
     "start_time": "2024-08-20T14:11:37.376068",
     "status": "completed"
    },
    "tags": []
   },
   "outputs": [],
   "source": [
    "train = train.drop(['family','date'], axis=1)"
   ]
  },
  {
   "cell_type": "code",
   "execution_count": 12,
   "id": "6817ad09",
   "metadata": {
    "execution": {
     "iopub.execute_input": "2024-08-20T14:11:37.452579Z",
     "iopub.status.busy": "2024-08-20T14:11:37.451794Z",
     "iopub.status.idle": "2024-08-20T14:11:37.463777Z",
     "shell.execute_reply": "2024-08-20T14:11:37.462734Z"
    },
    "papermill": {
     "duration": 0.025308,
     "end_time": "2024-08-20T14:11:37.466050",
     "exception": false,
     "start_time": "2024-08-20T14:11:37.440742",
     "status": "completed"
    },
    "tags": []
   },
   "outputs": [
    {
     "data": {
      "text/html": [
       "<div>\n",
       "<style scoped>\n",
       "    .dataframe tbody tr th:only-of-type {\n",
       "        vertical-align: middle;\n",
       "    }\n",
       "\n",
       "    .dataframe tbody tr th {\n",
       "        vertical-align: top;\n",
       "    }\n",
       "\n",
       "    .dataframe thead th {\n",
       "        text-align: right;\n",
       "    }\n",
       "</style>\n",
       "<table border=\"1\" class=\"dataframe\">\n",
       "  <thead>\n",
       "    <tr style=\"text-align: right;\">\n",
       "      <th></th>\n",
       "      <th>id</th>\n",
       "      <th>store_nbr</th>\n",
       "      <th>sales</th>\n",
       "      <th>onpromotion</th>\n",
       "    </tr>\n",
       "  </thead>\n",
       "  <tbody>\n",
       "    <tr>\n",
       "      <th>0</th>\n",
       "      <td>0</td>\n",
       "      <td>1</td>\n",
       "      <td>0.0</td>\n",
       "      <td>0</td>\n",
       "    </tr>\n",
       "    <tr>\n",
       "      <th>1</th>\n",
       "      <td>1</td>\n",
       "      <td>1</td>\n",
       "      <td>0.0</td>\n",
       "      <td>0</td>\n",
       "    </tr>\n",
       "    <tr>\n",
       "      <th>2</th>\n",
       "      <td>2</td>\n",
       "      <td>1</td>\n",
       "      <td>0.0</td>\n",
       "      <td>0</td>\n",
       "    </tr>\n",
       "    <tr>\n",
       "      <th>3</th>\n",
       "      <td>3</td>\n",
       "      <td>1</td>\n",
       "      <td>0.0</td>\n",
       "      <td>0</td>\n",
       "    </tr>\n",
       "    <tr>\n",
       "      <th>4</th>\n",
       "      <td>4</td>\n",
       "      <td>1</td>\n",
       "      <td>0.0</td>\n",
       "      <td>0</td>\n",
       "    </tr>\n",
       "  </tbody>\n",
       "</table>\n",
       "</div>"
      ],
      "text/plain": [
       "   id  store_nbr  sales  onpromotion\n",
       "0   0          1    0.0            0\n",
       "1   1          1    0.0            0\n",
       "2   2          1    0.0            0\n",
       "3   3          1    0.0            0\n",
       "4   4          1    0.0            0"
      ]
     },
     "execution_count": 12,
     "metadata": {},
     "output_type": "execute_result"
    }
   ],
   "source": [
    "train.head()"
   ]
  },
  {
   "cell_type": "code",
   "execution_count": 13,
   "id": "72552e83",
   "metadata": {
    "execution": {
     "iopub.execute_input": "2024-08-20T14:11:37.488879Z",
     "iopub.status.busy": "2024-08-20T14:11:37.488469Z",
     "iopub.status.idle": "2024-08-20T14:11:37.517927Z",
     "shell.execute_reply": "2024-08-20T14:11:37.516812Z"
    },
    "papermill": {
     "duration": 0.043769,
     "end_time": "2024-08-20T14:11:37.520740",
     "exception": false,
     "start_time": "2024-08-20T14:11:37.476971",
     "status": "completed"
    },
    "tags": []
   },
   "outputs": [],
   "source": [
    "X = train.drop('sales', axis=1)\n",
    "y = train['sales']"
   ]
  },
  {
   "cell_type": "code",
   "execution_count": 14,
   "id": "0b0d2d5a",
   "metadata": {
    "execution": {
     "iopub.execute_input": "2024-08-20T14:11:37.542753Z",
     "iopub.status.busy": "2024-08-20T14:11:37.542326Z",
     "iopub.status.idle": "2024-08-20T14:11:37.970025Z",
     "shell.execute_reply": "2024-08-20T14:11:37.968867Z"
    },
    "papermill": {
     "duration": 0.441911,
     "end_time": "2024-08-20T14:11:37.972787",
     "exception": false,
     "start_time": "2024-08-20T14:11:37.530876",
     "status": "completed"
    },
    "tags": []
   },
   "outputs": [],
   "source": [
    "from sklearn.linear_model import LinearRegression"
   ]
  },
  {
   "cell_type": "code",
   "execution_count": 15,
   "id": "571da4c6",
   "metadata": {
    "execution": {
     "iopub.execute_input": "2024-08-20T14:11:37.994796Z",
     "iopub.status.busy": "2024-08-20T14:11:37.994371Z",
     "iopub.status.idle": "2024-08-20T14:11:37.999262Z",
     "shell.execute_reply": "2024-08-20T14:11:37.998163Z"
    },
    "papermill": {
     "duration": 0.018648,
     "end_time": "2024-08-20T14:11:38.001674",
     "exception": false,
     "start_time": "2024-08-20T14:11:37.983026",
     "status": "completed"
    },
    "tags": []
   },
   "outputs": [],
   "source": [
    "lr = LinearRegression()"
   ]
  },
  {
   "cell_type": "code",
   "execution_count": 16,
   "id": "35640964",
   "metadata": {
    "execution": {
     "iopub.execute_input": "2024-08-20T14:11:38.023258Z",
     "iopub.status.busy": "2024-08-20T14:11:38.022849Z",
     "iopub.status.idle": "2024-08-20T14:11:38.732338Z",
     "shell.execute_reply": "2024-08-20T14:11:38.730933Z"
    },
    "papermill": {
     "duration": 0.724616,
     "end_time": "2024-08-20T14:11:38.736235",
     "exception": false,
     "start_time": "2024-08-20T14:11:38.011619",
     "status": "completed"
    },
    "tags": []
   },
   "outputs": [
    {
     "data": {
      "text/html": [
       "<style>#sk-container-id-1 {color: black;background-color: white;}#sk-container-id-1 pre{padding: 0;}#sk-container-id-1 div.sk-toggleable {background-color: white;}#sk-container-id-1 label.sk-toggleable__label {cursor: pointer;display: block;width: 100%;margin-bottom: 0;padding: 0.3em;box-sizing: border-box;text-align: center;}#sk-container-id-1 label.sk-toggleable__label-arrow:before {content: \"▸\";float: left;margin-right: 0.25em;color: #696969;}#sk-container-id-1 label.sk-toggleable__label-arrow:hover:before {color: black;}#sk-container-id-1 div.sk-estimator:hover label.sk-toggleable__label-arrow:before {color: black;}#sk-container-id-1 div.sk-toggleable__content {max-height: 0;max-width: 0;overflow: hidden;text-align: left;background-color: #f0f8ff;}#sk-container-id-1 div.sk-toggleable__content pre {margin: 0.2em;color: black;border-radius: 0.25em;background-color: #f0f8ff;}#sk-container-id-1 input.sk-toggleable__control:checked~div.sk-toggleable__content {max-height: 200px;max-width: 100%;overflow: auto;}#sk-container-id-1 input.sk-toggleable__control:checked~label.sk-toggleable__label-arrow:before {content: \"▾\";}#sk-container-id-1 div.sk-estimator input.sk-toggleable__control:checked~label.sk-toggleable__label {background-color: #d4ebff;}#sk-container-id-1 div.sk-label input.sk-toggleable__control:checked~label.sk-toggleable__label {background-color: #d4ebff;}#sk-container-id-1 input.sk-hidden--visually {border: 0;clip: rect(1px 1px 1px 1px);clip: rect(1px, 1px, 1px, 1px);height: 1px;margin: -1px;overflow: hidden;padding: 0;position: absolute;width: 1px;}#sk-container-id-1 div.sk-estimator {font-family: monospace;background-color: #f0f8ff;border: 1px dotted black;border-radius: 0.25em;box-sizing: border-box;margin-bottom: 0.5em;}#sk-container-id-1 div.sk-estimator:hover {background-color: #d4ebff;}#sk-container-id-1 div.sk-parallel-item::after {content: \"\";width: 100%;border-bottom: 1px solid gray;flex-grow: 1;}#sk-container-id-1 div.sk-label:hover label.sk-toggleable__label {background-color: #d4ebff;}#sk-container-id-1 div.sk-serial::before {content: \"\";position: absolute;border-left: 1px solid gray;box-sizing: border-box;top: 0;bottom: 0;left: 50%;z-index: 0;}#sk-container-id-1 div.sk-serial {display: flex;flex-direction: column;align-items: center;background-color: white;padding-right: 0.2em;padding-left: 0.2em;position: relative;}#sk-container-id-1 div.sk-item {position: relative;z-index: 1;}#sk-container-id-1 div.sk-parallel {display: flex;align-items: stretch;justify-content: center;background-color: white;position: relative;}#sk-container-id-1 div.sk-item::before, #sk-container-id-1 div.sk-parallel-item::before {content: \"\";position: absolute;border-left: 1px solid gray;box-sizing: border-box;top: 0;bottom: 0;left: 50%;z-index: -1;}#sk-container-id-1 div.sk-parallel-item {display: flex;flex-direction: column;z-index: 1;position: relative;background-color: white;}#sk-container-id-1 div.sk-parallel-item:first-child::after {align-self: flex-end;width: 50%;}#sk-container-id-1 div.sk-parallel-item:last-child::after {align-self: flex-start;width: 50%;}#sk-container-id-1 div.sk-parallel-item:only-child::after {width: 0;}#sk-container-id-1 div.sk-dashed-wrapped {border: 1px dashed gray;margin: 0 0.4em 0.5em 0.4em;box-sizing: border-box;padding-bottom: 0.4em;background-color: white;}#sk-container-id-1 div.sk-label label {font-family: monospace;font-weight: bold;display: inline-block;line-height: 1.2em;}#sk-container-id-1 div.sk-label-container {text-align: center;}#sk-container-id-1 div.sk-container {/* jupyter's `normalize.less` sets `[hidden] { display: none; }` but bootstrap.min.css set `[hidden] { display: none !important; }` so we also need the `!important` here to be able to override the default hidden behavior on the sphinx rendered scikit-learn.org. See: https://github.com/scikit-learn/scikit-learn/issues/21755 */display: inline-block !important;position: relative;}#sk-container-id-1 div.sk-text-repr-fallback {display: none;}</style><div id=\"sk-container-id-1\" class=\"sk-top-container\"><div class=\"sk-text-repr-fallback\"><pre>LinearRegression()</pre><b>In a Jupyter environment, please rerun this cell to show the HTML representation or trust the notebook. <br />On GitHub, the HTML representation is unable to render, please try loading this page with nbviewer.org.</b></div><div class=\"sk-container\" hidden><div class=\"sk-item\"><div class=\"sk-estimator sk-toggleable\"><input class=\"sk-toggleable__control sk-hidden--visually\" id=\"sk-estimator-id-1\" type=\"checkbox\" checked><label for=\"sk-estimator-id-1\" class=\"sk-toggleable__label sk-toggleable__label-arrow\">LinearRegression</label><div class=\"sk-toggleable__content\"><pre>LinearRegression()</pre></div></div></div></div></div>"
      ],
      "text/plain": [
       "LinearRegression()"
      ]
     },
     "execution_count": 16,
     "metadata": {},
     "output_type": "execute_result"
    }
   ],
   "source": [
    "lr.fit(X,y)"
   ]
  },
  {
   "cell_type": "code",
   "execution_count": 17,
   "id": "a6ba8b5b",
   "metadata": {
    "execution": {
     "iopub.execute_input": "2024-08-20T14:11:38.774663Z",
     "iopub.status.busy": "2024-08-20T14:11:38.774261Z",
     "iopub.status.idle": "2024-08-20T14:11:38.785808Z",
     "shell.execute_reply": "2024-08-20T14:11:38.784931Z"
    },
    "papermill": {
     "duration": 0.030124,
     "end_time": "2024-08-20T14:11:38.787859",
     "exception": false,
     "start_time": "2024-08-20T14:11:38.757735",
     "status": "completed"
    },
    "tags": []
   },
   "outputs": [
    {
     "data": {
      "text/html": [
       "<div>\n",
       "<style scoped>\n",
       "    .dataframe tbody tr th:only-of-type {\n",
       "        vertical-align: middle;\n",
       "    }\n",
       "\n",
       "    .dataframe tbody tr th {\n",
       "        vertical-align: top;\n",
       "    }\n",
       "\n",
       "    .dataframe thead th {\n",
       "        text-align: right;\n",
       "    }\n",
       "</style>\n",
       "<table border=\"1\" class=\"dataframe\">\n",
       "  <thead>\n",
       "    <tr style=\"text-align: right;\">\n",
       "      <th></th>\n",
       "      <th>id</th>\n",
       "      <th>date</th>\n",
       "      <th>store_nbr</th>\n",
       "      <th>family</th>\n",
       "      <th>onpromotion</th>\n",
       "    </tr>\n",
       "  </thead>\n",
       "  <tbody>\n",
       "    <tr>\n",
       "      <th>0</th>\n",
       "      <td>3000888</td>\n",
       "      <td>2017-08-16</td>\n",
       "      <td>1</td>\n",
       "      <td>AUTOMOTIVE</td>\n",
       "      <td>0</td>\n",
       "    </tr>\n",
       "    <tr>\n",
       "      <th>1</th>\n",
       "      <td>3000889</td>\n",
       "      <td>2017-08-16</td>\n",
       "      <td>1</td>\n",
       "      <td>BABY CARE</td>\n",
       "      <td>0</td>\n",
       "    </tr>\n",
       "    <tr>\n",
       "      <th>2</th>\n",
       "      <td>3000890</td>\n",
       "      <td>2017-08-16</td>\n",
       "      <td>1</td>\n",
       "      <td>BEAUTY</td>\n",
       "      <td>2</td>\n",
       "    </tr>\n",
       "    <tr>\n",
       "      <th>3</th>\n",
       "      <td>3000891</td>\n",
       "      <td>2017-08-16</td>\n",
       "      <td>1</td>\n",
       "      <td>BEVERAGES</td>\n",
       "      <td>20</td>\n",
       "    </tr>\n",
       "    <tr>\n",
       "      <th>4</th>\n",
       "      <td>3000892</td>\n",
       "      <td>2017-08-16</td>\n",
       "      <td>1</td>\n",
       "      <td>BOOKS</td>\n",
       "      <td>0</td>\n",
       "    </tr>\n",
       "  </tbody>\n",
       "</table>\n",
       "</div>"
      ],
      "text/plain": [
       "        id        date  store_nbr      family  onpromotion\n",
       "0  3000888  2017-08-16          1  AUTOMOTIVE            0\n",
       "1  3000889  2017-08-16          1   BABY CARE            0\n",
       "2  3000890  2017-08-16          1      BEAUTY            2\n",
       "3  3000891  2017-08-16          1   BEVERAGES           20\n",
       "4  3000892  2017-08-16          1       BOOKS            0"
      ]
     },
     "execution_count": 17,
     "metadata": {},
     "output_type": "execute_result"
    }
   ],
   "source": [
    "test.head()"
   ]
  },
  {
   "cell_type": "code",
   "execution_count": 18,
   "id": "2d184e3d",
   "metadata": {
    "execution": {
     "iopub.execute_input": "2024-08-20T14:11:38.815251Z",
     "iopub.status.busy": "2024-08-20T14:11:38.814842Z",
     "iopub.status.idle": "2024-08-20T14:11:38.839612Z",
     "shell.execute_reply": "2024-08-20T14:11:38.838583Z"
    },
    "papermill": {
     "duration": 0.04332,
     "end_time": "2024-08-20T14:11:38.841924",
     "exception": false,
     "start_time": "2024-08-20T14:11:38.798604",
     "status": "completed"
    },
    "tags": []
   },
   "outputs": [
    {
     "data": {
      "text/plain": [
       "id             0\n",
       "date           0\n",
       "store_nbr      0\n",
       "family         0\n",
       "onpromotion    0\n",
       "dtype: int64"
      ]
     },
     "execution_count": 18,
     "metadata": {},
     "output_type": "execute_result"
    }
   ],
   "source": [
    "test.isnull().sum()"
   ]
  },
  {
   "cell_type": "code",
   "execution_count": 19,
   "id": "912895e1",
   "metadata": {
    "execution": {
     "iopub.execute_input": "2024-08-20T14:11:38.865077Z",
     "iopub.status.busy": "2024-08-20T14:11:38.864676Z",
     "iopub.status.idle": "2024-08-20T14:11:38.870631Z",
     "shell.execute_reply": "2024-08-20T14:11:38.869577Z"
    },
    "papermill": {
     "duration": 0.020118,
     "end_time": "2024-08-20T14:11:38.872935",
     "exception": false,
     "start_time": "2024-08-20T14:11:38.852817",
     "status": "completed"
    },
    "tags": []
   },
   "outputs": [],
   "source": [
    "test = test.drop(['date','family'], axis=1)"
   ]
  },
  {
   "cell_type": "code",
   "execution_count": 20,
   "id": "460c3390",
   "metadata": {
    "execution": {
     "iopub.execute_input": "2024-08-20T14:11:38.896655Z",
     "iopub.status.busy": "2024-08-20T14:11:38.895710Z",
     "iopub.status.idle": "2024-08-20T14:11:38.904883Z",
     "shell.execute_reply": "2024-08-20T14:11:38.903403Z"
    },
    "papermill": {
     "duration": 0.025391,
     "end_time": "2024-08-20T14:11:38.909133",
     "exception": false,
     "start_time": "2024-08-20T14:11:38.883742",
     "status": "completed"
    },
    "tags": []
   },
   "outputs": [],
   "source": [
    "pred = lr.predict(test)"
   ]
  },
  {
   "cell_type": "code",
   "execution_count": 21,
   "id": "617e1b6b",
   "metadata": {
    "execution": {
     "iopub.execute_input": "2024-08-20T14:11:38.958056Z",
     "iopub.status.busy": "2024-08-20T14:11:38.956153Z",
     "iopub.status.idle": "2024-08-20T14:11:38.967132Z",
     "shell.execute_reply": "2024-08-20T14:11:38.965813Z"
    },
    "papermill": {
     "duration": 0.038749,
     "end_time": "2024-08-20T14:11:38.970770",
     "exception": false,
     "start_time": "2024-08-20T14:11:38.932021",
     "status": "completed"
    },
    "tags": []
   },
   "outputs": [
    {
     "data": {
      "text/plain": [
       "array([181.07005265, 181.07004942, 258.30174602, ..., 241.13185341,\n",
       "       550.05864953, 202.51599702])"
      ]
     },
     "execution_count": 21,
     "metadata": {},
     "output_type": "execute_result"
    }
   ],
   "source": [
    "pred"
   ]
  },
  {
   "cell_type": "code",
   "execution_count": 22,
   "id": "9582c224",
   "metadata": {
    "execution": {
     "iopub.execute_input": "2024-08-20T14:11:39.018995Z",
     "iopub.status.busy": "2024-08-20T14:11:39.018256Z",
     "iopub.status.idle": "2024-08-20T14:11:39.026173Z",
     "shell.execute_reply": "2024-08-20T14:11:39.025122Z"
    },
    "papermill": {
     "duration": 0.03521,
     "end_time": "2024-08-20T14:11:39.028469",
     "exception": false,
     "start_time": "2024-08-20T14:11:38.993259",
     "status": "completed"
    },
    "tags": []
   },
   "outputs": [],
   "source": [
    "output = pd.DataFrame({'id': test.id, 'sales': pred})"
   ]
  },
  {
   "cell_type": "code",
   "execution_count": 23,
   "id": "cb8c9ecd",
   "metadata": {
    "execution": {
     "iopub.execute_input": "2024-08-20T14:11:39.051921Z",
     "iopub.status.busy": "2024-08-20T14:11:39.051506Z",
     "iopub.status.idle": "2024-08-20T14:11:39.064584Z",
     "shell.execute_reply": "2024-08-20T14:11:39.063317Z"
    },
    "papermill": {
     "duration": 0.027496,
     "end_time": "2024-08-20T14:11:39.066998",
     "exception": false,
     "start_time": "2024-08-20T14:11:39.039502",
     "status": "completed"
    },
    "tags": []
   },
   "outputs": [
    {
     "data": {
      "text/html": [
       "<div>\n",
       "<style scoped>\n",
       "    .dataframe tbody tr th:only-of-type {\n",
       "        vertical-align: middle;\n",
       "    }\n",
       "\n",
       "    .dataframe tbody tr th {\n",
       "        vertical-align: top;\n",
       "    }\n",
       "\n",
       "    .dataframe thead th {\n",
       "        text-align: right;\n",
       "    }\n",
       "</style>\n",
       "<table border=\"1\" class=\"dataframe\">\n",
       "  <thead>\n",
       "    <tr style=\"text-align: right;\">\n",
       "      <th></th>\n",
       "      <th>id</th>\n",
       "      <th>sales</th>\n",
       "    </tr>\n",
       "  </thead>\n",
       "  <tbody>\n",
       "    <tr>\n",
       "      <th>0</th>\n",
       "      <td>3000888</td>\n",
       "      <td>181.070053</td>\n",
       "    </tr>\n",
       "    <tr>\n",
       "      <th>1</th>\n",
       "      <td>3000889</td>\n",
       "      <td>181.070049</td>\n",
       "    </tr>\n",
       "    <tr>\n",
       "      <th>2</th>\n",
       "      <td>3000890</td>\n",
       "      <td>258.301746</td>\n",
       "    </tr>\n",
       "    <tr>\n",
       "      <th>3</th>\n",
       "      <td>3000891</td>\n",
       "      <td>953.387041</td>\n",
       "    </tr>\n",
       "    <tr>\n",
       "      <th>4</th>\n",
       "      <td>3000892</td>\n",
       "      <td>181.070040</td>\n",
       "    </tr>\n",
       "    <tr>\n",
       "      <th>...</th>\n",
       "      <td>...</td>\n",
       "      <td>...</td>\n",
       "    </tr>\n",
       "    <tr>\n",
       "      <th>28507</th>\n",
       "      <td>3029395</td>\n",
       "      <td>241.131860</td>\n",
       "    </tr>\n",
       "    <tr>\n",
       "      <th>28508</th>\n",
       "      <td>3029396</td>\n",
       "      <td>202.516007</td>\n",
       "    </tr>\n",
       "    <tr>\n",
       "      <th>28509</th>\n",
       "      <td>3029397</td>\n",
       "      <td>241.131853</td>\n",
       "    </tr>\n",
       "    <tr>\n",
       "      <th>28510</th>\n",
       "      <td>3029398</td>\n",
       "      <td>550.058650</td>\n",
       "    </tr>\n",
       "    <tr>\n",
       "      <th>28511</th>\n",
       "      <td>3029399</td>\n",
       "      <td>202.515997</td>\n",
       "    </tr>\n",
       "  </tbody>\n",
       "</table>\n",
       "<p>28512 rows × 2 columns</p>\n",
       "</div>"
      ],
      "text/plain": [
       "            id       sales\n",
       "0      3000888  181.070053\n",
       "1      3000889  181.070049\n",
       "2      3000890  258.301746\n",
       "3      3000891  953.387041\n",
       "4      3000892  181.070040\n",
       "...        ...         ...\n",
       "28507  3029395  241.131860\n",
       "28508  3029396  202.516007\n",
       "28509  3029397  241.131853\n",
       "28510  3029398  550.058650\n",
       "28511  3029399  202.515997\n",
       "\n",
       "[28512 rows x 2 columns]"
      ]
     },
     "execution_count": 23,
     "metadata": {},
     "output_type": "execute_result"
    }
   ],
   "source": [
    "output"
   ]
  },
  {
   "cell_type": "code",
   "execution_count": 24,
   "id": "1643b7f2",
   "metadata": {
    "execution": {
     "iopub.execute_input": "2024-08-20T14:11:39.091581Z",
     "iopub.status.busy": "2024-08-20T14:11:39.091169Z",
     "iopub.status.idle": "2024-08-20T14:11:39.195696Z",
     "shell.execute_reply": "2024-08-20T14:11:39.194623Z"
    },
    "papermill": {
     "duration": 0.119889,
     "end_time": "2024-08-20T14:11:39.198447",
     "exception": false,
     "start_time": "2024-08-20T14:11:39.078558",
     "status": "completed"
    },
    "tags": []
   },
   "outputs": [],
   "source": [
    "output.to_csv('submission.csv', index=False)"
   ]
  },
  {
   "cell_type": "code",
   "execution_count": null,
   "id": "0da6b637",
   "metadata": {
    "papermill": {
     "duration": 0.010841,
     "end_time": "2024-08-20T14:11:39.220945",
     "exception": false,
     "start_time": "2024-08-20T14:11:39.210104",
     "status": "completed"
    },
    "tags": []
   },
   "outputs": [],
   "source": []
  }
 ],
 "metadata": {
  "kaggle": {
   "accelerator": "none",
   "dataSources": [
    {
     "databundleVersionId": 2887556,
     "sourceId": 29781,
     "sourceType": "competition"
    }
   ],
   "dockerImageVersionId": 30746,
   "isGpuEnabled": false,
   "isInternetEnabled": true,
   "language": "python",
   "sourceType": "notebook"
  },
  "kernelspec": {
   "display_name": "Python 3",
   "language": "python",
   "name": "python3"
  },
  "language_info": {
   "codemirror_mode": {
    "name": "ipython",
    "version": 3
   },
   "file_extension": ".py",
   "mimetype": "text/x-python",
   "name": "python",
   "nbconvert_exporter": "python",
   "pygments_lexer": "ipython3",
   "version": "3.10.13"
  },
  "papermill": {
   "default_parameters": {},
   "duration": 38.875247,
   "end_time": "2024-08-20T14:11:39.854698",
   "environment_variables": {},
   "exception": null,
   "input_path": "__notebook__.ipynb",
   "output_path": "__notebook__.ipynb",
   "parameters": {},
   "start_time": "2024-08-20T14:11:00.979451",
   "version": "2.5.0"
  }
 },
 "nbformat": 4,
 "nbformat_minor": 5
}
